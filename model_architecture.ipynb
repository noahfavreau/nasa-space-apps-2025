{
  "nbformat": 4,
  "nbformat_minor": 0,
  "metadata": {
    "colab": {
      "provenance": [],
      "authorship_tag": "ABX9TyNipMmdB3fNxPEMLZ79mDRs",
      "include_colab_link": true
    },
    "kernelspec": {
      "name": "python3",
      "display_name": "Python 3"
    },
    "language_info": {
      "name": "python"
    }
  },
  "cells": [
    {
      "cell_type": "markdown",
      "metadata": {
        "id": "view-in-github",
        "colab_type": "text"
      },
      "source": [
        "<a href=\"https://colab.research.google.com/github/noahfavreau/nasa-space-apps-2025/blob/main/model_architecture.ipynb\" target=\"_parent\"><img src=\"https://colab.research.google.com/assets/colab-badge.svg\" alt=\"Open In Colab\"/></a>"
      ]
    },
    {
      "cell_type": "code",
      "execution_count": 3,
      "metadata": {
        "id": "UqSsZp_xdjDY"
      },
      "outputs": [],
      "source": [
        "import matplotlib.pyplot as plt\n",
        "\n",
        "from catboost import CatBoostClassifier, cv, Pool\n",
        "\n",
        "from pytorch_tabnet.tab_model import TabNetClassifier\n",
        "\n",
        "import lightgbm as lgb\n",
        "\n",
        "from sklearn.linear_model import LogisticRegressionCV\n",
        "\n",
        "import xgboost as xgb\n",
        "\n",
        "from xgboost import plot_importance, XGBClassifier\n",
        "\n",
        "from sklearn.metrics import accuracy_score, classification_report\n",
        "from sklearn.model_selection import train_test_split, KFold\n",
        "\n",
        "import random\n",
        "\n",
        "import numpy as np\n",
        "\n",
        "import pickle\n",
        "\n",
        "RANDOM_SEED = 67"
      ]
    },
    {
      "cell_type": "code",
      "source": [
        "def train_catboost(X_train, X_val, y_train, y_val, Fold):\n",
        "  catboost_model = CatBoostClassifier(\n",
        "                           iterations=200,\n",
        "                           task_type=\"GPU\",\n",
        "                           devices='0',\n",
        "                           depth=6,\n",
        "                           loss_function='MultiClass',\n",
        "                           verbose=0,\n",
        "                           eval_metric='MultiClass',\n",
        "                           random_state=RANDOM_SEED + Fold\n",
        "                          )\n",
        "\n",
        "  catboost_train_pool = Pool(X_train,\n",
        "                            y_train,\n",
        "                             )\n",
        "\n",
        "  catboost_val_pool = Pool(X_val,\n",
        "                            y_val,\n",
        "                             )\n",
        "\n",
        "  catboost_model.fit(catboost_train_pool,\n",
        "                     eval_set=catboost_val_pool,\n",
        "                     early_stopping_rounds=20,\n",
        "                     use_best_model=True)\n",
        "\n",
        "  catboost_val_preds = catboost_model.predict(X_val)\n",
        "  catboost_oof_preds[test_index] = catboost_val_preds\n",
        "\n",
        "  catboost_accuracy = accuracy_score(y_val, catboost_val_preds)\n",
        "  catboost_report = classification_report(y_val, catboost_val_preds)\n",
        "\n",
        "  catboost_fold_accuracies.append(catboost_accuracy)\n",
        "\n",
        "  return catboost_model, catboost_val_preds, catboost_accuracy"
      ],
      "metadata": {
        "id": "CaBGXOupeCap"
      },
      "execution_count": null,
      "outputs": []
    },
    {
      "cell_type": "code",
      "source": [
        "def train_lgb(X_train, X_val, y_train, y_val, Fold):\n",
        "  params = {\n",
        "    'objective' : 'multiclass',\n",
        "    'num_class' : 3,\n",
        "    'metric' : \"multi_logloss\",\n",
        "    'verbose' : 0\n",
        "  }\n",
        "\n",
        "  lgb_train_data = lgb.Dataset(X_train, label=y_train)\n",
        "  lgb_val_data = lgb.Dataset(X_val, label=y_val, reference=lgb_train_data)\n",
        "\n",
        "  lgb_model = lgb.train(params,\n",
        "                      lgb_train_data,\n",
        "                      200,\n",
        "                      early_stopping_rounds=20,\n",
        "                      valid_sets=[lgb_val_data])\n",
        "\n",
        "  lgb_val_preds_proba = lgb_model.predict(X_val,\n",
        "                           num_iteration=lgb_model.best_iteration)\n",
        "\n",
        "  lgb_val_preds = np.argmax(lgb_val_preds_proba, axis=1)\n",
        "\n",
        "  lgb_oof_preds[test_index] = lgb_val_preds\n",
        "\n",
        "  lgb_accuracy = accuracy_score(y_val, lgb_val_preds)\n",
        "  lgb_report = classification_report(y_val, lgb_val_preds)\n",
        "\n",
        "  lgb_fold_accuracies.append(lgb_accuracy)\n",
        "\n",
        "  return lgb_model, lgb_val_preds, lgb_accuracy"
      ],
      "metadata": {
        "id": "wgFHm1ENk5G1"
      },
      "execution_count": null,
      "outputs": []
    },
    {
      "cell_type": "code",
      "source": [
        "def train_xgb(X_train, X_val, y_train, y_val, Fold):\n",
        "  xgb_model = XGBClassifier(num_classes=3,\n",
        "                          objective='multi:softmax',\n",
        "                          eval_metric='mlogloss',\n",
        "                          use_label_encoder=False,\n",
        "                          max_depth=4,\n",
        "                          n_estimators=100,\n",
        "                          random_state=random.randint(0, 100))\n",
        "\n",
        "  xgb_model.fit(X_train, y_train)\n",
        "\n",
        "  xgb_val_preds = xgb_model.predict(X_val)\n",
        "\n",
        "  xgb_oof_preds[test_index] = xgb_val_preds\n",
        "\n",
        "  xgb_accuracy = accuracy_score(y_val, xgb_val_preds)\n",
        "  xgb_report = classification_report(y_val, xgb_val_preds)\n",
        "\n",
        "  xgb_fold_accuracies.append(xgb_accuracy)\n",
        "\n",
        "  return xgb_model, xgb_val_preds, xgb_accuracy"
      ],
      "metadata": {
        "id": "0nKka_U8nvif"
      },
      "execution_count": null,
      "outputs": []
    },
    {
      "cell_type": "code",
      "source": [
        "X = None\n",
        "y = None\n",
        "\n",
        "catboost_fold_accuracies = []\n",
        "xgb_fold_accuracies = []\n",
        "lgb_fold_accuracies = []\n",
        "\n",
        "catboost_oof_preds = np.zeros(len(X))\n",
        "xgb_oof_preds = np.zeros(len(X))\n",
        "lgb_oof_preds = np.zeros(len(X))\n",
        "\n",
        "catboost_models = []\n",
        "lgb_models = []\n",
        "xgb_models = []\n",
        "\n",
        "n_splits = 10\n",
        "kf = KFold(n_splits=n_splits, shuffle=True, random_state=RANDOM_SEED)\n",
        "\n",
        "for Fold, (train_index, test_index) in enumerate(kf.split(X, y)):\n",
        "  X_train, X_val = X.iloc[train_index], X.iloc[test_index]\n",
        "  y_train, y_val = y.iloc[train_index], y.iloc[test_index]\n",
        "\n",
        "  cb_model = cb_preds, cb_acc = train_catboost(X_train, X_val, y_train, y_val, Fold)\n",
        "  catboost_oof_preds[test_index] = cb_preds\n",
        "  catboost_fold_accuracies.append(cb_acc)\n",
        "  catboost_models.append(cb_model)\n",
        "  print(f\"CatBoost Accuracy: {cb_acc:.4f}\")\n",
        "\n",
        "  xgb_model = xgb_preds, xgb_acc = train_xgb(X_train, X_val, y_train, y_val, Fold)\n",
        "  xgb_oof_preds[test_index] = xgb_preds\n",
        "  xgb_fold_accuracies.append(xgb_acc)\n",
        "  xgb_models.append(xgb_model)\n",
        "  print(f\"XGBoost Accuracy: {xgb_acc:.4f}\")\n",
        "\n",
        "  lgb_model = lgb_preds, lgb_acc = train_lgb(X_train, X_val, y_train, y_val, Fold)\n",
        "  lgb_oof_preds[test_index] = lgb_preds\n",
        "  lgb_fold_accuracies.append(lgb_acc)\n",
        "  lgb_models.append(lgb_model)\n",
        "  print(f\"LGBoost Accuracy: {lgb_acc:.4f}\")\n",
        "\n",
        "catboost_mean_accuracy = np.mean(catboost_fold_accuracies)\n",
        "catboost_std_accuracy = np.std(catboost_fold_accuracies)\n",
        "print(f\"CatBoost : {catboost_mean_accuracy:.4f} (+/- {catboost_std_accuracy:.4f})\")\n",
        "\n",
        "lgb_mean_accuracy = np.mean(lgb_fold_accuracies)\n",
        "lgb_std_accuracy = np.std(lgb_fold_accuracies)\n",
        "print(f\"LGBoost : {lgb_mean_accuracy:.4f} (+/- {lgb_std_accuracy:.4f})\")\n",
        "\n",
        "xgb_mean_accuracy = np.mean(xgb_fold_accuracies)\n",
        "xgb_std_accuracy = np.std(xgb_fold_accuracies)\n",
        "print(f\"XGBoost : {xgb_mean_accuracy:.4f} (+/- {xgb_std_accuracy:.4f})\")"
      ],
      "metadata": {
        "id": "VsMKzppbpKTH"
      },
      "execution_count": null,
      "outputs": []
    }
  ]
}