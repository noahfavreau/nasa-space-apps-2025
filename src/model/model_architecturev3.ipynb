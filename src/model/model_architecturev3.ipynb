{
  "metadata": {
    "kernelspec": {
      "name": "python3",
      "display_name": "Python 3",
      "language": "python"
    },
    "language_info": {
      "name": "python",
      "version": "3.11.13",
      "mimetype": "text/x-python",
      "codemirror_mode": {
        "name": "ipython",
        "version": 3
      },
      "pygments_lexer": "ipython3",
      "nbconvert_exporter": "python",
      "file_extension": ".py"
    },
    "colab": {
      "provenance": []
    },
    "kaggle": {
      "accelerator": "gpu",
      "dataSources": [
        {
          "sourceId": 13264453,
          "sourceType": "datasetVersion",
          "datasetId": 8405666
        }
      ],
      "dockerImageVersionId": 31090,
      "isInternetEnabled": true,
      "language": "python",
      "sourceType": "notebook",
      "isGpuEnabled": true
    }
  },
  "nbformat_minor": 0,
  "nbformat": 4,
  "cells": [
    {
      "cell_type": "code",
      "source": [
        "!pip install joblib matplotlib numpy optuna pandas lightgbm xgboost catboost pytorch-tabnet scikit-learn"
      ],
      "metadata": {
        "trusted": true,
        "execution": {
          "iopub.status.busy": "2025-10-05T11:24:31.088762Z",
          "iopub.execute_input": "2025-10-05T11:24:31.089029Z",
          "iopub.status.idle": "2025-10-05T11:25:44.42699Z",
          "shell.execute_reply.started": "2025-10-05T11:24:31.089003Z",
          "shell.execute_reply": "2025-10-05T11:25:44.426247Z"
        },
        "id": "yo3oTZEUboeA",
        "outputId": "b8cc9a12-87ed-4f65-d44a-89006e44caa0"
      },
      "outputs": [
        {
          "name": "stdout",
          "text": "Requirement already satisfied: joblib in /usr/local/lib/python3.11/dist-packages (1.5.1)\nRequirement already satisfied: matplotlib in /usr/local/lib/python3.11/dist-packages (3.7.2)\nRequirement already satisfied: numpy in /usr/local/lib/python3.11/dist-packages (1.26.4)\nRequirement already satisfied: optuna in /usr/local/lib/python3.11/dist-packages (4.4.0)\nRequirement already satisfied: pandas in /usr/local/lib/python3.11/dist-packages (2.2.3)\nRequirement already satisfied: lightgbm in /usr/local/lib/python3.11/dist-packages (4.5.0)\nRequirement already satisfied: xgboost in /usr/local/lib/python3.11/dist-packages (2.0.3)\nRequirement already satisfied: catboost in /usr/local/lib/python3.11/dist-packages (1.2.8)\nCollecting pytorch-tabnet\n  Downloading pytorch_tabnet-4.1.0-py3-none-any.whl.metadata (15 kB)\nRequirement already satisfied: scikit-learn in /usr/local/lib/python3.11/dist-packages (1.2.2)\nRequirement already satisfied: contourpy>=1.0.1 in /usr/local/lib/python3.11/dist-packages (from matplotlib) (1.3.2)\nRequirement already satisfied: cycler>=0.10 in /usr/local/lib/python3.11/dist-packages (from matplotlib) (0.12.1)\nRequirement already satisfied: fonttools>=4.22.0 in /usr/local/lib/python3.11/dist-packages (from matplotlib) (4.58.4)\nRequirement already satisfied: kiwisolver>=1.0.1 in /usr/local/lib/python3.11/dist-packages (from matplotlib) (1.4.8)\nRequirement already satisfied: packaging>=20.0 in /usr/local/lib/python3.11/dist-packages (from matplotlib) (25.0)\nRequirement already satisfied: pillow>=6.2.0 in /usr/local/lib/python3.11/dist-packages (from matplotlib) (11.2.1)\nRequirement already satisfied: pyparsing<3.1,>=2.3.1 in /usr/local/lib/python3.11/dist-packages (from matplotlib) (3.0.9)\nRequirement already satisfied: python-dateutil>=2.7 in /usr/local/lib/python3.11/dist-packages (from matplotlib) (2.9.0.post0)\nRequirement already satisfied: mkl_fft in /usr/local/lib/python3.11/dist-packages (from numpy) (1.3.8)\nRequirement already satisfied: mkl_random in /usr/local/lib/python3.11/dist-packages (from numpy) (1.2.4)\nRequirement already satisfied: mkl_umath in /usr/local/lib/python3.11/dist-packages (from numpy) (0.1.1)\nRequirement already satisfied: mkl in /usr/local/lib/python3.11/dist-packages (from numpy) (2025.2.0)\nRequirement already satisfied: tbb4py in /usr/local/lib/python3.11/dist-packages (from numpy) (2022.2.0)\nRequirement already satisfied: mkl-service in /usr/local/lib/python3.11/dist-packages (from numpy) (2.4.1)\nRequirement already satisfied: alembic>=1.5.0 in /usr/local/lib/python3.11/dist-packages (from optuna) (1.16.2)\nRequirement already satisfied: colorlog in /usr/local/lib/python3.11/dist-packages (from optuna) (6.9.0)\nRequirement already satisfied: sqlalchemy>=1.4.2 in /usr/local/lib/python3.11/dist-packages (from optuna) (2.0.41)\nRequirement already satisfied: tqdm in /usr/local/lib/python3.11/dist-packages (from optuna) (4.67.1)\nRequirement already satisfied: PyYAML in /usr/local/lib/python3.11/dist-packages (from optuna) (6.0.2)\nRequirement already satisfied: pytz>=2020.1 in /usr/local/lib/python3.11/dist-packages (from pandas) (2025.2)\nRequirement already satisfied: tzdata>=2022.7 in /usr/local/lib/python3.11/dist-packages (from pandas) (2025.2)\nRequirement already satisfied: scipy in /usr/local/lib/python3.11/dist-packages (from lightgbm) (1.15.3)\nRequirement already satisfied: graphviz in /usr/local/lib/python3.11/dist-packages (from catboost) (0.21)\nRequirement already satisfied: plotly in /usr/local/lib/python3.11/dist-packages (from catboost) (5.24.1)\nRequirement already satisfied: six in /usr/local/lib/python3.11/dist-packages (from catboost) (1.17.0)\nRequirement already satisfied: torch>=1.3 in /usr/local/lib/python3.11/dist-packages (from pytorch-tabnet) (2.6.0+cu124)\nRequirement already satisfied: threadpoolctl>=2.0.0 in /usr/local/lib/python3.11/dist-packages (from scikit-learn) (3.6.0)\nRequirement already satisfied: Mako in /usr/local/lib/python3.11/dist-packages (from alembic>=1.5.0->optuna) (1.3.10)\nRequirement already satisfied: typing-extensions>=4.12 in /usr/local/lib/python3.11/dist-packages (from alembic>=1.5.0->optuna) (4.14.0)\nRequirement already satisfied: greenlet>=1 in /usr/local/lib/python3.11/dist-packages (from sqlalchemy>=1.4.2->optuna) (3.2.3)\nRequirement already satisfied: filelock in /usr/local/lib/python3.11/dist-packages (from torch>=1.3->pytorch-tabnet) (3.18.0)\nRequirement already satisfied: networkx in /usr/local/lib/python3.11/dist-packages (from torch>=1.3->pytorch-tabnet) (3.5)\nRequirement already satisfied: jinja2 in /usr/local/lib/python3.11/dist-packages (from torch>=1.3->pytorch-tabnet) (3.1.6)\nRequirement already satisfied: fsspec in /usr/local/lib/python3.11/dist-packages (from torch>=1.3->pytorch-tabnet) (2025.5.1)\nCollecting nvidia-cuda-nvrtc-cu12==12.4.127 (from torch>=1.3->pytorch-tabnet)\n  Downloading nvidia_cuda_nvrtc_cu12-12.4.127-py3-none-manylinux2014_x86_64.whl.metadata (1.5 kB)\nCollecting nvidia-cuda-runtime-cu12==12.4.127 (from torch>=1.3->pytorch-tabnet)\n  Downloading nvidia_cuda_runtime_cu12-12.4.127-py3-none-manylinux2014_x86_64.whl.metadata (1.5 kB)\nCollecting nvidia-cuda-cupti-cu12==12.4.127 (from torch>=1.3->pytorch-tabnet)\n  Downloading nvidia_cuda_cupti_cu12-12.4.127-py3-none-manylinux2014_x86_64.whl.metadata (1.6 kB)\nCollecting nvidia-cudnn-cu12==9.1.0.70 (from torch>=1.3->pytorch-tabnet)\n  Downloading nvidia_cudnn_cu12-9.1.0.70-py3-none-manylinux2014_x86_64.whl.metadata (1.6 kB)\nCollecting nvidia-cublas-cu12==12.4.5.8 (from torch>=1.3->pytorch-tabnet)\n  Downloading nvidia_cublas_cu12-12.4.5.8-py3-none-manylinux2014_x86_64.whl.metadata (1.5 kB)\nCollecting nvidia-cufft-cu12==11.2.1.3 (from torch>=1.3->pytorch-tabnet)\n  Downloading nvidia_cufft_cu12-11.2.1.3-py3-none-manylinux2014_x86_64.whl.metadata (1.5 kB)\nCollecting nvidia-curand-cu12==10.3.5.147 (from torch>=1.3->pytorch-tabnet)\n  Downloading nvidia_curand_cu12-10.3.5.147-py3-none-manylinux2014_x86_64.whl.metadata (1.5 kB)\nCollecting nvidia-cusolver-cu12==11.6.1.9 (from torch>=1.3->pytorch-tabnet)\n  Downloading nvidia_cusolver_cu12-11.6.1.9-py3-none-manylinux2014_x86_64.whl.metadata (1.6 kB)\nCollecting nvidia-cusparse-cu12==12.3.1.170 (from torch>=1.3->pytorch-tabnet)\n  Downloading nvidia_cusparse_cu12-12.3.1.170-py3-none-manylinux2014_x86_64.whl.metadata (1.6 kB)\nRequirement already satisfied: nvidia-cusparselt-cu12==0.6.2 in /usr/local/lib/python3.11/dist-packages (from torch>=1.3->pytorch-tabnet) (0.6.2)\nRequirement already satisfied: nvidia-nccl-cu12==2.21.5 in /usr/local/lib/python3.11/dist-packages (from torch>=1.3->pytorch-tabnet) (2.21.5)\nRequirement already satisfied: nvidia-nvtx-cu12==12.4.127 in /usr/local/lib/python3.11/dist-packages (from torch>=1.3->pytorch-tabnet) (12.4.127)\nCollecting nvidia-nvjitlink-cu12==12.4.127 (from torch>=1.3->pytorch-tabnet)\n  Downloading nvidia_nvjitlink_cu12-12.4.127-py3-none-manylinux2014_x86_64.whl.metadata (1.5 kB)\nRequirement already satisfied: triton==3.2.0 in /usr/local/lib/python3.11/dist-packages (from torch>=1.3->pytorch-tabnet) (3.2.0)\nRequirement already satisfied: sympy==1.13.1 in /usr/local/lib/python3.11/dist-packages (from torch>=1.3->pytorch-tabnet) (1.13.1)\nRequirement already satisfied: mpmath<1.4,>=1.1.0 in /usr/local/lib/python3.11/dist-packages (from sympy==1.13.1->torch>=1.3->pytorch-tabnet) (1.3.0)\nRequirement already satisfied: intel-openmp<2026,>=2024 in /usr/local/lib/python3.11/dist-packages (from mkl->numpy) (2024.2.0)\nRequirement already satisfied: tbb==2022.* in /usr/local/lib/python3.11/dist-packages (from mkl->numpy) (2022.2.0)\nRequirement already satisfied: tcmlib==1.* in /usr/local/lib/python3.11/dist-packages (from tbb==2022.*->mkl->numpy) (1.4.0)\nRequirement already satisfied: intel-cmplr-lib-rt in /usr/local/lib/python3.11/dist-packages (from mkl_umath->numpy) (2024.2.0)\nRequirement already satisfied: tenacity>=6.2.0 in /usr/local/lib/python3.11/dist-packages (from plotly->catboost) (8.5.0)\nRequirement already satisfied: intel-cmplr-lib-ur==2024.2.0 in /usr/local/lib/python3.11/dist-packages (from intel-openmp<2026,>=2024->mkl->numpy) (2024.2.0)\nRequirement already satisfied: MarkupSafe>=2.0 in /usr/local/lib/python3.11/dist-packages (from jinja2->torch>=1.3->pytorch-tabnet) (3.0.2)\nDownloading pytorch_tabnet-4.1.0-py3-none-any.whl (44 kB)\n\u001b[2K   \u001b[90m━━━━━━━━━━━━━━━━━━━━━━━━━━━━━━━━━━━━━━━━\u001b[0m \u001b[32m44.5/44.5 kB\u001b[0m \u001b[31m2.2 MB/s\u001b[0m eta \u001b[36m0:00:00\u001b[0m\n\u001b[?25hDownloading nvidia_cublas_cu12-12.4.5.8-py3-none-manylinux2014_x86_64.whl (363.4 MB)\n\u001b[2K   \u001b[90m━━━━━━━━━━━━━━━━━━━━━━━━━━━━━━━━━━━━━━━━\u001b[0m \u001b[32m363.4/363.4 MB\u001b[0m \u001b[31m4.7 MB/s\u001b[0m eta \u001b[36m0:00:00\u001b[0m:00:01\u001b[0m00:01\u001b[0m\n\u001b[?25hDownloading nvidia_cuda_cupti_cu12-12.4.127-py3-none-manylinux2014_x86_64.whl (13.8 MB)\n\u001b[2K   \u001b[90m━━━━━━━━━━━━━━━━━━━━━━━━━━━━━━━━━━━━━━━━\u001b[0m \u001b[32m13.8/13.8 MB\u001b[0m \u001b[31m105.3 MB/s\u001b[0m eta \u001b[36m0:00:00\u001b[0m00:01\u001b[0m0:01\u001b[0m\n\u001b[?25hDownloading nvidia_cuda_nvrtc_cu12-12.4.127-py3-none-manylinux2014_x86_64.whl (24.6 MB)\n\u001b[2K   \u001b[90m━━━━━━━━━━━━━━━━━━━━━━━━━━━━━━━━━━━━━━━━\u001b[0m \u001b[32m24.6/24.6 MB\u001b[0m \u001b[31m83.5 MB/s\u001b[0m eta \u001b[36m0:00:00\u001b[0m:00:01\u001b[0m00:01\u001b[0m\n\u001b[?25hDownloading nvidia_cuda_runtime_cu12-12.4.127-py3-none-manylinux2014_x86_64.whl (883 kB)\n\u001b[2K   \u001b[90m━━━━━━━━━━━━━━━━━━━━━━━━━━━━━━━━━━━━━━━━\u001b[0m \u001b[32m883.7/883.7 kB\u001b[0m \u001b[31m45.7 MB/s\u001b[0m eta \u001b[36m0:00:00\u001b[0m\n\u001b[?25hDownloading nvidia_cudnn_cu12-9.1.0.70-py3-none-manylinux2014_x86_64.whl (664.8 MB)\n\u001b[2K   \u001b[90m━━━━━━━━━━━━━━━━━━━━━━━━━━━━━━━━━━━━━━━━\u001b[0m \u001b[32m664.8/664.8 MB\u001b[0m \u001b[31m2.6 MB/s\u001b[0m eta \u001b[36m0:00:00\u001b[0m:00:01\u001b[0m00:01\u001b[0m\n\u001b[?25hDownloading nvidia_cufft_cu12-11.2.1.3-py3-none-manylinux2014_x86_64.whl (211.5 MB)\n\u001b[2K   \u001b[90m━━━━━━━━━━━━━━━━━━━━━━━━━━━━━━━━━━━━━━━━\u001b[0m \u001b[32m211.5/211.5 MB\u001b[0m \u001b[31m5.5 MB/s\u001b[0m eta \u001b[36m0:00:00\u001b[0m:00:01\u001b[0m00:01\u001b[0m\n\u001b[?25hDownloading nvidia_curand_cu12-10.3.5.147-py3-none-manylinux2014_x86_64.whl (56.3 MB)\n\u001b[2K   \u001b[90m━━━━━━━━━━━━━━━━━━━━━━━━━━━━━━━━━━━━━━━━\u001b[0m \u001b[32m56.3/56.3 MB\u001b[0m \u001b[31m31.7 MB/s\u001b[0m eta \u001b[36m0:00:00\u001b[0m:00:01\u001b[0m00:01\u001b[0m\n\u001b[?25hDownloading nvidia_cusolver_cu12-11.6.1.9-py3-none-manylinux2014_x86_64.whl (127.9 MB)\n\u001b[2K   \u001b[90m━━━━━━━━━━━━━━━━━━━━━━━━━━━━━━━━━━━━━━━━\u001b[0m \u001b[32m127.9/127.9 MB\u001b[0m \u001b[31m13.5 MB/s\u001b[0m eta \u001b[36m0:00:00\u001b[0m00:01\u001b[0m00:01\u001b[0m\n\u001b[?25hDownloading nvidia_cusparse_cu12-12.3.1.170-py3-none-manylinux2014_x86_64.whl (207.5 MB)\n\u001b[2K   \u001b[90m━━━━━━━━━━━━━━━━━━━━━━━━━━━━━━━━━━━━━━━━\u001b[0m \u001b[32m207.5/207.5 MB\u001b[0m \u001b[31m2.1 MB/s\u001b[0m eta \u001b[36m0:00:00\u001b[0m:00:01\u001b[0m00:01\u001b[0m\n\u001b[?25hDownloading nvidia_nvjitlink_cu12-12.4.127-py3-none-manylinux2014_x86_64.whl (21.1 MB)\n\u001b[2K   \u001b[90m━━━━━━━━━━━━━━━━━━━━━━━━━━━━━━━━━━━━━━━━\u001b[0m \u001b[32m21.1/21.1 MB\u001b[0m \u001b[31m87.6 MB/s\u001b[0m eta \u001b[36m0:00:00\u001b[0m:00:01\u001b[0m00:01\u001b[0m\n\u001b[?25hInstalling collected packages: nvidia-nvjitlink-cu12, nvidia-curand-cu12, nvidia-cufft-cu12, nvidia-cuda-runtime-cu12, nvidia-cuda-nvrtc-cu12, nvidia-cuda-cupti-cu12, nvidia-cublas-cu12, nvidia-cusparse-cu12, nvidia-cudnn-cu12, nvidia-cusolver-cu12, pytorch-tabnet\n  Attempting uninstall: nvidia-nvjitlink-cu12\n    Found existing installation: nvidia-nvjitlink-cu12 12.5.82\n    Uninstalling nvidia-nvjitlink-cu12-12.5.82:\n      Successfully uninstalled nvidia-nvjitlink-cu12-12.5.82\n  Attempting uninstall: nvidia-curand-cu12\n    Found existing installation: nvidia-curand-cu12 10.3.6.82\n    Uninstalling nvidia-curand-cu12-10.3.6.82:\n      Successfully uninstalled nvidia-curand-cu12-10.3.6.82\n  Attempting uninstall: nvidia-cufft-cu12\n    Found existing installation: nvidia-cufft-cu12 11.2.3.61\n    Uninstalling nvidia-cufft-cu12-11.2.3.61:\n      Successfully uninstalled nvidia-cufft-cu12-11.2.3.61\n  Attempting uninstall: nvidia-cuda-runtime-cu12\n    Found existing installation: nvidia-cuda-runtime-cu12 12.5.82\n    Uninstalling nvidia-cuda-runtime-cu12-12.5.82:\n      Successfully uninstalled nvidia-cuda-runtime-cu12-12.5.82\n  Attempting uninstall: nvidia-cuda-nvrtc-cu12\n    Found existing installation: nvidia-cuda-nvrtc-cu12 12.5.82\n    Uninstalling nvidia-cuda-nvrtc-cu12-12.5.82:\n      Successfully uninstalled nvidia-cuda-nvrtc-cu12-12.5.82\n  Attempting uninstall: nvidia-cuda-cupti-cu12\n    Found existing installation: nvidia-cuda-cupti-cu12 12.5.82\n    Uninstalling nvidia-cuda-cupti-cu12-12.5.82:\n      Successfully uninstalled nvidia-cuda-cupti-cu12-12.5.82\n  Attempting uninstall: nvidia-cublas-cu12\n    Found existing installation: nvidia-cublas-cu12 12.5.3.2\n    Uninstalling nvidia-cublas-cu12-12.5.3.2:\n      Successfully uninstalled nvidia-cublas-cu12-12.5.3.2\n  Attempting uninstall: nvidia-cusparse-cu12\n    Found existing installation: nvidia-cusparse-cu12 12.5.1.3\n    Uninstalling nvidia-cusparse-cu12-12.5.1.3:\n      Successfully uninstalled nvidia-cusparse-cu12-12.5.1.3\n  Attempting uninstall: nvidia-cudnn-cu12\n    Found existing installation: nvidia-cudnn-cu12 9.3.0.75\n    Uninstalling nvidia-cudnn-cu12-9.3.0.75:\n      Successfully uninstalled nvidia-cudnn-cu12-9.3.0.75\n  Attempting uninstall: nvidia-cusolver-cu12\n    Found existing installation: nvidia-cusolver-cu12 11.6.3.83\n    Uninstalling nvidia-cusolver-cu12-11.6.3.83:\n      Successfully uninstalled nvidia-cusolver-cu12-11.6.3.83\nSuccessfully installed nvidia-cublas-cu12-12.4.5.8 nvidia-cuda-cupti-cu12-12.4.127 nvidia-cuda-nvrtc-cu12-12.4.127 nvidia-cuda-runtime-cu12-12.4.127 nvidia-cudnn-cu12-9.1.0.70 nvidia-cufft-cu12-11.2.1.3 nvidia-curand-cu12-10.3.5.147 nvidia-cusolver-cu12-11.6.1.9 nvidia-cusparse-cu12-12.3.1.170 nvidia-nvjitlink-cu12-12.4.127 pytorch-tabnet-4.1.0\n",
          "output_type": "stream"
        }
      ],
      "execution_count": null
    },
    {
      "cell_type": "code",
      "source": [
        "import json\n",
        "from functools import partial\n",
        "from pathlib import Path\n",
        "\n",
        "import joblib\n",
        "import matplotlib.pyplot as plt\n",
        "import numpy as np\n",
        "import optuna\n",
        "import pandas as pd\n",
        "import pickle\n",
        "import random\n",
        "import torch\n",
        "\n",
        "import lightgbm as lgb\n",
        "import xgboost as xgb\n",
        "from catboost import CatBoostClassifier, Pool, cv\n",
        "from pytorch_tabnet.tab_model import TabNetClassifier\n",
        "from sklearn.linear_model import LogisticRegressionCV\n",
        "from sklearn.preprocessing import LabelEncoder\n",
        "from sklearn.metrics import accuracy_score, classification_report\n",
        "from sklearn.model_selection import KFold, StratifiedKFold, train_test_split\n",
        "from sklearn.utils.class_weight import compute_sample_weight\n",
        "from xgboost import XGBClassifier, plot_importance\n",
        "\n",
        "RANDOM_SEED = 67\n"
      ],
      "metadata": {
        "id": "UqSsZp_xdjDY",
        "trusted": true,
        "execution": {
          "iopub.status.busy": "2025-10-05T11:25:44.428854Z",
          "iopub.execute_input": "2025-10-05T11:25:44.429106Z",
          "iopub.status.idle": "2025-10-05T11:25:52.275429Z",
          "shell.execute_reply.started": "2025-10-05T11:25:44.429083Z",
          "shell.execute_reply": "2025-10-05T11:25:52.274841Z"
        }
      },
      "outputs": [],
      "execution_count": null
    },
    {
      "cell_type": "code",
      "source": [
        "ARTIFACT_ROOT = Path(\"artifacts\")\n",
        "\n",
        "\n",
        "def ensure_dir(path: Path) -> Path:\n",
        "    path.mkdir(parents=True, exist_ok=True)\n",
        "    return path\n",
        "\n",
        "\n",
        "def reshape_for_meta(array: np.ndarray) -> np.ndarray:\n",
        "    array = np.asarray(array)\n",
        "    if array.ndim == 1:\n",
        "        return array.reshape(-1, 1)\n",
        "    return array\n",
        "\n",
        "\n",
        "def persist_model(model, destination: Path, model_name: str) -> Path:\n",
        "    ensure_dir(destination.parent)\n",
        "    if model_name == \"lightgbm\":\n",
        "        file_path = destination.with_suffix(\".txt\")\n",
        "        model.save_model(str(file_path))\n",
        "    elif model_name == \"catboost\":\n",
        "        file_path = destination.with_suffix(\".cbm\")\n",
        "        model.save_model(str(file_path))\n",
        "    elif model_name == \"xgboost\":\n",
        "        file_path = destination.with_suffix(\".json\")\n",
        "        model.save_model(str(file_path))\n",
        "    elif model_name == \"tabnet\":\n",
        "        base_path = str(destination)\n",
        "        if base_path.endswith(\".zip\"):\n",
        "            base_path = base_path[:-4]\n",
        "        model.save_model(base_path)\n",
        "        file_path = Path(f\"{base_path}.zip\")\n",
        "    else:\n",
        "        file_path = destination.with_suffix(\".pkl\")\n",
        "        with open(file_path, \"wb\") as fp:\n",
        "            pickle.dump(model, fp)\n",
        "    return file_path\n",
        "\n",
        "\n",
        "def lightgbm_predict_proba(model: lgb.Booster, data):\n",
        "    best_iter = model.best_iteration or model.current_iteration()\n",
        "    return model.predict(data, num_iteration=best_iter)\n",
        "\n",
        "\n",
        "def compute_fold_sample_weight(y_values):\n",
        "    return compute_sample_weight(class_weight=\"balanced\", y=y_values)\n"
      ],
      "metadata": {
        "trusted": true,
        "execution": {
          "iopub.status.busy": "2025-10-05T11:25:52.276101Z",
          "iopub.execute_input": "2025-10-05T11:25:52.276543Z",
          "iopub.status.idle": "2025-10-05T11:25:52.283502Z",
          "shell.execute_reply.started": "2025-10-05T11:25:52.276525Z",
          "shell.execute_reply": "2025-10-05T11:25:52.282878Z"
        },
        "id": "Rm03QxzrboeB"
      },
      "outputs": [],
      "execution_count": null
    },
    {
      "cell_type": "code",
      "source": [
        "def train_catboost(X_train, X_val, y_train, y_val, params, fold, sample_weight=None):\n",
        "    model_params = {**params}\n",
        "    model_params.setdefault(\"loss_function\", \"MultiClass\")\n",
        "    model_params.setdefault(\"eval_metric\", \"MultiClass\")\n",
        "    if \"task_type\" not in model_params:\n",
        "        model_params[\"task_type\"] = \"CPU\"\n",
        "    if model_params.get(\"task_type\") == \"GPU\" and \"devices\" not in model_params:\n",
        "        model_params[\"devices\"] = \"0\"\n",
        "    model_params.setdefault(\"verbose\", 0)\n",
        "    model_params[\"random_state\"] = RANDOM_SEED + fold\n",
        "\n",
        "    train_pool = Pool(X_train, y_train, weight=sample_weight)\n",
        "    val_pool = Pool(X_val, y_val)\n",
        "\n",
        "    model = CatBoostClassifier(**model_params)\n",
        "    model.fit(\n",
        "        train_pool,\n",
        "        eval_set=val_pool,\n",
        "        early_stopping_rounds=20,\n",
        "        use_best_model=True,\n",
        "        verbose=False,\n",
        "    )\n",
        "\n",
        "    val_proba = model.predict_proba(X_val)\n",
        "    val_preds = np.argmax(val_proba, axis=1)\n",
        "    accuracy = accuracy_score(y_val, val_preds)\n",
        "\n",
        "    return model, val_proba, accuracy\n"
      ],
      "metadata": {
        "id": "CaBGXOupeCap",
        "trusted": true,
        "execution": {
          "iopub.status.busy": "2025-10-05T11:25:52.284509Z",
          "iopub.execute_input": "2025-10-05T11:25:52.284765Z",
          "iopub.status.idle": "2025-10-05T11:25:52.305424Z",
          "shell.execute_reply.started": "2025-10-05T11:25:52.284743Z",
          "shell.execute_reply": "2025-10-05T11:25:52.30488Z"
        }
      },
      "outputs": [],
      "execution_count": null
    },
    {
      "cell_type": "code",
      "source": [
        "def train_lgb(X_train, X_val, y_train, y_val, params, fold, sample_weight=None, num_classes=3):\n",
        "    model_params = {**params}\n",
        "    model_params.setdefault(\"objective\", \"multiclass\")\n",
        "    model_params.setdefault(\"num_class\", num_classes)\n",
        "    model_params.setdefault(\"metric\", \"multi_logloss\")\n",
        "    model_params.setdefault(\"verbose\", -1)\n",
        "    model_params[\"seed\"] = RANDOM_SEED + fold\n",
        "\n",
        "    train_data = lgb.Dataset(X_train, label=y_train, weight=sample_weight)\n",
        "    val_data = lgb.Dataset(X_val, label=y_val, reference=train_data)\n",
        "\n",
        "    model = lgb.train(\n",
        "        model_params,\n",
        "        train_data,\n",
        "        num_boost_round=200,\n",
        "        valid_sets=[val_data],\n",
        "        callbacks=[lgb.early_stopping(stopping_rounds=20), lgb.log_evaluation(period=0)]\n",
        "    )\n",
        "\n",
        "    val_proba = lightgbm_predict_proba(model, X_val)\n",
        "    val_preds = np.argmax(val_proba, axis=1)\n",
        "    accuracy = accuracy_score(y_val, val_preds)\n",
        "\n",
        "    return model, val_proba, accuracy\n"
      ],
      "metadata": {
        "id": "wgFHm1ENk5G1",
        "trusted": true,
        "execution": {
          "iopub.status.busy": "2025-10-05T11:25:52.306067Z",
          "iopub.execute_input": "2025-10-05T11:25:52.306259Z",
          "iopub.status.idle": "2025-10-05T11:25:52.324387Z",
          "shell.execute_reply.started": "2025-10-05T11:25:52.306243Z",
          "shell.execute_reply": "2025-10-05T11:25:52.32384Z"
        }
      },
      "outputs": [],
      "execution_count": null
    },
    {
      "cell_type": "code",
      "source": [
        "def train_xgb(X_train, X_val, y_train, y_val, params, fold, sample_weight=None, num_classes=3):\n",
        "    model_params = {**params}\n",
        "    model_params.setdefault(\"objective\", \"multi:softprob\")\n",
        "    model_params.setdefault(\"num_class\", num_classes)\n",
        "    model_params.setdefault(\"eval_metric\", \"mlogloss\")\n",
        "    model_params.setdefault(\"verbosity\", 0)\n",
        "    model_params[\"random_state\"] = RANDOM_SEED + fold\n",
        "    model_params[\"use_label_encoder\"] = False\n",
        "    model_params[\"early_stopping_rounds\"] = 20\n",
        "\n",
        "    model = XGBClassifier(**model_params)\n",
        "    model.fit(\n",
        "        X_train,\n",
        "        y_train,\n",
        "        eval_set=[(X_val, y_val)],\n",
        "        sample_weight=sample_weight,\n",
        "        verbose=False,\n",
        "    )\n",
        "\n",
        "    val_proba = model.predict_proba(X_val)\n",
        "    val_preds = np.argmax(val_proba, axis=1)\n",
        "    accuracy = accuracy_score(y_val, val_preds)\n",
        "\n",
        "    return model, val_proba, accuracy\n"
      ],
      "metadata": {
        "id": "0nKka_U8nvif",
        "trusted": true,
        "execution": {
          "iopub.status.busy": "2025-10-05T11:25:52.325097Z",
          "iopub.execute_input": "2025-10-05T11:25:52.325341Z",
          "iopub.status.idle": "2025-10-05T11:25:52.338577Z",
          "shell.execute_reply.started": "2025-10-05T11:25:52.325324Z",
          "shell.execute_reply": "2025-10-05T11:25:52.33804Z"
        }
      },
      "outputs": [],
      "execution_count": null
    },
    {
      "cell_type": "code",
      "source": [
        "def train_tabnet(X_train, X_val, y_train, y_val, params, fold, sample_weight=None):\n",
        "    model_params = params.copy()\n",
        "    lr = model_params.pop(\"lr\", 0.01)\n",
        "\n",
        "    model_params[\"optimizer_fn\"] = torch.optim.AdamW\n",
        "    model_params[\"optimizer_params\"] = dict(lr=lr)\n",
        "    model_params.setdefault(\"verbose\", 0)\n",
        "\n",
        "    model = TabNetClassifier(**model_params)\n",
        "\n",
        "    model.fit(\n",
        "        X_train.values,\n",
        "        y_train,\n",
        "        eval_set=[(X_val.values, y_val)],\n",
        "        eval_name=[\"valid\"],\n",
        "        eval_metric=[\"logloss\"],\n",
        "        max_epochs=200,\n",
        "        patience=20,\n",
        "        batch_size=1024,\n",
        "        virtual_batch_size=128,\n",
        "        num_workers=0,\n",
        "        drop_last=False,\n",
        "        weights=sample_weight,\n",
        "        from_unsupervised=None,\n",
        "    )\n",
        "\n",
        "    val_proba = model.predict_proba(X_val.values)\n",
        "    val_pred = np.argmax(val_proba, axis=1)\n",
        "    accuracy = accuracy_score(y_val, val_pred)\n",
        "\n",
        "    return model, val_proba, accuracy\n"
      ],
      "metadata": {
        "id": "OPNchn4MSNsB",
        "trusted": true,
        "execution": {
          "iopub.status.busy": "2025-10-05T11:25:52.340585Z",
          "iopub.execute_input": "2025-10-05T11:25:52.341004Z",
          "iopub.status.idle": "2025-10-05T11:25:52.354702Z",
          "shell.execute_reply.started": "2025-10-05T11:25:52.340976Z",
          "shell.execute_reply": "2025-10-05T11:25:52.354132Z"
        }
      },
      "outputs": [],
      "execution_count": null
    },
    {
      "cell_type": "code",
      "source": [
        "def objective_catboost(trial, X, y, n_splits=5, random_seed=RANDOM_SEED):\n",
        "    params = {\n",
        "        \"iterations\": trial.suggest_int(\"iterations\", 100, 500),\n",
        "        \"depth\": trial.suggest_int(\"depth\", 4, 10),\n",
        "        \"learning_rate\": trial.suggest_float(\"learning_rate\", 1e-3, 0.3, log=True),\n",
        "        \"l2_leaf_reg\": trial.suggest_float(\"l2_leaf_reg\", 1, 10),\n",
        "        \"task_type\": trial.suggest_categorical(\"task_type\", [\"CPU\", \"GPU\"]),\n",
        "        \"loss_function\": \"MultiClass\",\n",
        "        \"eval_metric\": \"MultiClass\",\n",
        "        \"random_seed\": random_seed,\n",
        "        \"verbose\": 0,\n",
        "    }\n",
        "    if params[\"task_type\"] == \"GPU\":\n",
        "        params[\"devices\"] = \"0\"\n",
        "\n",
        "    cv = StratifiedKFold(n_splits=n_splits, shuffle=True, random_state=random_seed)\n",
        "    accuracies = []\n",
        "\n",
        "    for train_idx, valid_idx in cv.split(X, y):\n",
        "        X_train, X_val = X.iloc[train_idx], X.iloc[valid_idx]\n",
        "        y_train, y_val = y.iloc[train_idx], y.iloc[valid_idx]\n",
        "        train_weights = compute_fold_sample_weight(y_train)\n",
        "\n",
        "        model = CatBoostClassifier(**params)\n",
        "        model.fit(\n",
        "            X_train,\n",
        "            y_train,\n",
        "            sample_weight=train_weights,\n",
        "            eval_set=(X_val, y_val),\n",
        "            early_stopping_rounds=20,\n",
        "            verbose=False,\n",
        "        )\n",
        "        preds = model.predict(X_val)\n",
        "        accuracies.append(accuracy_score(y_val, preds))\n",
        "\n",
        "    return float(np.mean(accuracies))\n"
      ],
      "metadata": {
        "id": "6L98bGoWC1BF",
        "trusted": true,
        "execution": {
          "iopub.status.busy": "2025-10-05T11:25:52.355346Z",
          "iopub.execute_input": "2025-10-05T11:25:52.355637Z",
          "iopub.status.idle": "2025-10-05T11:25:52.368291Z",
          "shell.execute_reply.started": "2025-10-05T11:25:52.355619Z",
          "shell.execute_reply": "2025-10-05T11:25:52.367648Z"
        }
      },
      "outputs": [],
      "execution_count": null
    },
    {
      "cell_type": "code",
      "source": [
        "def objective_lgb(trial, X, y, num_classes, n_splits=5, random_seed=RANDOM_SEED):\n",
        "    params = {\n",
        "        \"objective\": \"multiclass\",\n",
        "        \"num_class\": num_classes,\n",
        "        \"metric\": \"multi_logloss\",\n",
        "        \"learning_rate\": trial.suggest_float(\"learning_rate\", 1e-3, 0.3, log=True),\n",
        "        \"num_leaves\": trial.suggest_int(\"num_leaves\", 16, 128),\n",
        "        \"max_depth\": trial.suggest_int(\"max_depth\", -1, 15),\n",
        "        \"min_child_samples\": trial.suggest_int(\"min_child_samples\", 5, 50),\n",
        "        \"subsample\": trial.suggest_float(\"subsample\", 0.5, 1.0),\n",
        "        \"colsample_bytree\": trial.suggest_float(\"colsample_bytree\", 0.5, 1.0),\n",
        "        \"verbose\": -1,\n",
        "        \"seed\": random_seed,\n",
        "    }\n",
        "\n",
        "    cv = StratifiedKFold(n_splits=n_splits, shuffle=True, random_state=random_seed)\n",
        "    accuracies = []\n",
        "\n",
        "    for train_idx, valid_idx in cv.split(X, y):\n",
        "        X_train, X_val = X.iloc[train_idx], X.iloc[valid_idx]\n",
        "        y_train, y_val = y.iloc[train_idx], y.iloc[valid_idx]\n",
        "        train_weights = compute_fold_sample_weight(y_train)\n",
        "\n",
        "        train_data = lgb.Dataset(X_train, label=y_train, weight=train_weights)\n",
        "        val_data = lgb.Dataset(X_val, label=y_val, reference=train_data)\n",
        "        model = lgb.train(\n",
        "            params,\n",
        "            train_data,\n",
        "            valid_sets=[val_data],\n",
        "            callbacks=[lgb.early_stopping(stopping_rounds=20), lgb.log_evaluation(period=0)]\n",
        "        )\n",
        "\n",
        "        preds = np.argmax(lightgbm_predict_proba(model, X_val), axis=1)\n",
        "        accuracies.append(accuracy_score(y_val, preds))\n",
        "\n",
        "    return float(np.mean(accuracies))\n"
      ],
      "metadata": {
        "id": "loxVLr4yDcfu",
        "trusted": true,
        "execution": {
          "iopub.status.busy": "2025-10-05T11:25:52.36886Z",
          "iopub.execute_input": "2025-10-05T11:25:52.369448Z",
          "iopub.status.idle": "2025-10-05T11:25:52.385377Z",
          "shell.execute_reply.started": "2025-10-05T11:25:52.369425Z",
          "shell.execute_reply": "2025-10-05T11:25:52.384633Z"
        }
      },
      "outputs": [],
      "execution_count": null
    },
    {
      "cell_type": "code",
      "source": [
        "def objective_xgb(trial, X, y, num_classes, n_splits=5, random_seed=RANDOM_SEED):\n",
        "    params = {\n",
        "        \"objective\": \"multi:softprob\",\n",
        "        \"num_class\": num_classes,\n",
        "        \"eval_metric\": \"mlogloss\",\n",
        "        \"learning_rate\": trial.suggest_float(\"learning_rate\", 1e-3, 0.3, log=True),\n",
        "        \"max_depth\": trial.suggest_int(\"max_depth\", 3, 10),\n",
        "        \"subsample\": trial.suggest_float(\"subsample\", 0.5, 1.0),\n",
        "        \"colsample_bytree\": trial.suggest_float(\"colsample_bytree\", 0.5, 1.0),\n",
        "        \"n_estimators\": trial.suggest_int(\"n_estimators\", 50, 300),\n",
        "        \"random_state\": random_seed,\n",
        "        \"verbosity\": 0,\n",
        "        \"use_label_encoder\": False,\n",
        "    }\n",
        "\n",
        "    cv = StratifiedKFold(n_splits=n_splits, shuffle=True, random_state=random_seed)\n",
        "    accuracies = []\n",
        "\n",
        "    for train_idx, valid_idx in cv.split(X, y):\n",
        "        X_train, X_val = X.iloc[train_idx], X.iloc[valid_idx]\n",
        "        y_train, y_val = y.iloc[train_idx], y.iloc[valid_idx]\n",
        "        train_weights = compute_fold_sample_weight(y_train)\n",
        "\n",
        "        model = XGBClassifier(**params)\n",
        "        model.fit(\n",
        "            X_train,\n",
        "            y_train,\n",
        "            sample_weight=train_weights,\n",
        "            eval_set=[(X_val, y_val)],\n",
        "            early_stopping_rounds=20,\n",
        "            verbose=False,\n",
        "        )\n",
        "        preds = model.predict(X_val)\n",
        "        accuracies.append(accuracy_score(y_val, preds))\n",
        "\n",
        "    return float(np.mean(accuracies))\n"
      ],
      "metadata": {
        "id": "-s19NrbWDhuZ",
        "trusted": true,
        "execution": {
          "iopub.status.busy": "2025-10-05T11:25:52.386032Z",
          "iopub.execute_input": "2025-10-05T11:25:52.386203Z",
          "iopub.status.idle": "2025-10-05T11:25:52.398702Z",
          "shell.execute_reply.started": "2025-10-05T11:25:52.38619Z",
          "shell.execute_reply": "2025-10-05T11:25:52.398047Z"
        }
      },
      "outputs": [],
      "execution_count": null
    },
    {
      "cell_type": "code",
      "source": [
        "def objective_tabnet(trial, X, y, n_splits=5, random_seed=42):\n",
        "    optimizer_name = trial.suggest_categorical(\"optimizer_fn\", [\"adam\", \"adamw\"])\n",
        "\n",
        "    optimizer_map = {\n",
        "        \"adam\": torch.optim.Adam,\n",
        "        \"adamw\": torch.optim.AdamW,\n",
        "    }\n",
        "\n",
        "    params = {\n",
        "        \"n_d\": trial.suggest_int(\"n_d\", 8, 64, step=8),\n",
        "        \"n_a\": trial.suggest_int(\"n_a\", 8, 64, step=8),\n",
        "        \"n_steps\": trial.suggest_int(\"n_steps\", 3, 10),\n",
        "        \"gamma\": trial.suggest_float(\"gamma\", 1.0, 2.0, step=0.1),\n",
        "        \"lambda_sparse\": trial.suggest_float(\"lambda_sparse\", 1e-6, 1e-3, log=True),\n",
        "        \"optimizer_fn\": optimizer_map[optimizer_name],\n",
        "        \"optimizer_params\": {\"lr\": trial.suggest_float(\"lr\", 1e-4, 1e-2, log=True)},\n",
        "        \"momentum\": trial.suggest_float(\"momentum\", 0.01, 0.4),\n",
        "        \"seed\": random_seed,\n",
        "        \"verbose\": 0,\n",
        "    }\n",
        "\n",
        "    cv = StratifiedKFold(n_splits=n_splits, shuffle=True, random_state=random_seed)\n",
        "    accuracies = []\n",
        "\n",
        "    for train_idx, valid_idx in cv.split(X, y):\n",
        "        X_train, X_val = X.iloc[train_idx], X.iloc[valid_idx]\n",
        "        y_train, y_val = y.iloc[train_idx], y.iloc[valid_idx]\n",
        "        train_weights = compute_fold_sample_weight(y_train)\n",
        "\n",
        "        model = TabNetClassifier(**params)\n",
        "\n",
        "        model.fit(\n",
        "            X_train.values,\n",
        "            y_train.values,\n",
        "            eval_set=[(X_val.values, y_val.values)],\n",
        "            eval_metric=[\"accuracy\"],\n",
        "            max_epochs=200,\n",
        "            patience=2,\n",
        "            batch_size=1024,\n",
        "            virtual_batch_size=128,\n",
        "            weights=train_weights,\n",
        "        )\n",
        "\n",
        "        preds = model.predict(X_val.values)\n",
        "        accuracies.append(accuracy_score(y_val, preds))\n",
        "\n",
        "    return float(np.mean(accuracies))\n"
      ],
      "metadata": {
        "id": "lZPh7e2RU0Ji",
        "trusted": true,
        "execution": {
          "iopub.status.busy": "2025-10-05T11:25:52.399298Z",
          "iopub.execute_input": "2025-10-05T11:25:52.399568Z",
          "iopub.status.idle": "2025-10-05T11:25:52.416262Z",
          "shell.execute_reply.started": "2025-10-05T11:25:52.399547Z",
          "shell.execute_reply": "2025-10-05T11:25:52.415676Z"
        }
      },
      "outputs": [],
      "execution_count": null
    },
    {
      "cell_type": "code",
      "source": [
        "def run_stacking_pipeline(\n",
        "    X,\n",
        "    y,\n",
        "    *,\n",
        "    test_size=0.2,\n",
        "    n_trials=30,\n",
        "    base_cv_splits=10,\n",
        "    optuna_cv_splits=5,\n",
        "    artifact_root: Path = ARTIFACT_ROOT,\n",
        "    random_seed: int = RANDOM_SEED,\n",
        "):\n",
        "    if not isinstance(X, pd.DataFrame):\n",
        "        X_df = pd.DataFrame(X)\n",
        "    else:\n",
        "        X_df = X.copy()\n",
        "\n",
        "    if isinstance(y, pd.DataFrame):\n",
        "        if y.shape[1] != 1:\n",
        "            raise ValueError(\"y must be a 1-D vector.\")\n",
        "        y_series = y.iloc[:, 0].copy()\n",
        "    elif isinstance(y, pd.Series):\n",
        "        y_series = y.copy()\n",
        "    else:\n",
        "        y_series = pd.Series(y)\n",
        "\n",
        "    if X_df.shape[0] != len(y_series):\n",
        "        raise ValueError(\"X and y must have the same number of rows.\")\n",
        "    if len(np.unique(y_series)) < 2:\n",
        "        raise ValueError(\"y must contain at least two classes.\")\n",
        "\n",
        "    np.random.seed(random_seed)\n",
        "    artifact_root = ensure_dir(Path(artifact_root))\n",
        "\n",
        "    X_train, X_test, y_train, y_test = train_test_split(\n",
        "        X_df,\n",
        "        y_series,\n",
        "        test_size=test_size,\n",
        "        stratify=y_series,\n",
        "        random_state=random_seed,\n",
        "    )\n",
        "\n",
        "    num_classes = len(np.unique(y_train))\n",
        "\n",
        "    objective_wrappers = {\n",
        "        \"catboost\": partial(\n",
        "            objective_catboost,\n",
        "            X=X_train,\n",
        "            y=y_train,\n",
        "            n_splits=optuna_cv_splits,\n",
        "            random_seed=random_seed,\n",
        "        ),\n",
        "        \"lightgbm\": partial(\n",
        "            objective_lgb,\n",
        "            X=X_train,\n",
        "            y=y_train,\n",
        "            num_classes=num_classes,\n",
        "            n_splits=optuna_cv_splits,\n",
        "            random_seed=random_seed,\n",
        "        ),\n",
        "        \"xgboost\": partial(\n",
        "            objective_xgb,\n",
        "            X=X_train,\n",
        "            y=y_train,\n",
        "            num_classes=num_classes,\n",
        "            n_splits=optuna_cv_splits,\n",
        "            random_seed=random_seed,\n",
        "        ),\n",
        "        \"tabnet\": partial(\n",
        "            objective_tabnet,\n",
        "            X=X_train,\n",
        "            y=y_train,\n",
        "            n_splits=optuna_cv_splits,\n",
        "            random_seed=random_seed,\n",
        "        ),\n",
        "    }\n",
        "\n",
        "    best_params = {}\n",
        "    for model_name, objective_fn in objective_wrappers.items():\n",
        "        study = optuna.create_study(direction=\"maximize\")\n",
        "        study.optimize(objective_fn, n_trials=n_trials)\n",
        "        best_params[model_name] = study.best_params\n",
        "        print(f\"{model_name.title()} best params: {study.best_params}\")\n",
        "\n",
        "    with open(artifact_root / \"best_params.json\", \"w\", encoding=\"utf-8\") as fp:\n",
        "        json.dump(best_params, fp, indent=2)\n",
        "\n",
        "    skf = StratifiedKFold(n_splits=base_cv_splits, shuffle=True, random_state=random_seed)\n",
        "\n",
        "    oof_predictions = {\n",
        "        \"catboost\": np.zeros((len(y_train), num_classes)),\n",
        "        \"lightgbm\": np.zeros((len(y_train), num_classes)),\n",
        "        \"xgboost\": np.zeros((len(y_train), num_classes)),\n",
        "        \"tabnet\": np.zeros((len(y_train), num_classes)),\n",
        "    }\n",
        "    test_predictions = {\n",
        "        \"catboost\": np.zeros((len(y_test), num_classes)),\n",
        "        \"lightgbm\": np.zeros((len(y_test), num_classes)),\n",
        "        \"xgboost\": np.zeros((len(y_test), num_classes)),\n",
        "        \"tabnet\": np.zeros((len(y_test), num_classes)),\n",
        "    }\n",
        "    fold_accuracies = {model: [] for model in oof_predictions}\n",
        "    saved_model_paths = {model: [] for model in oof_predictions}\n",
        "\n",
        "    for fold, (train_idx, val_idx) in enumerate(skf.split(X_train, y_train), start=1):\n",
        "        X_tr, X_val = X_train.iloc[train_idx], X_train.iloc[val_idx]\n",
        "        y_tr, y_val = y_train.iloc[train_idx], y_train.iloc[val_idx]\n",
        "        train_weights = compute_fold_sample_weight(y_tr)\n",
        "\n",
        "        cb_model, cb_val_proba, cb_acc = train_catboost(\n",
        "            X_tr,\n",
        "            X_val,\n",
        "            y_tr,\n",
        "            y_val,\n",
        "            params=best_params[\"catboost\"],\n",
        "            fold=fold,\n",
        "            sample_weight=train_weights,\n",
        "        )\n",
        "        oof_predictions[\"catboost\"][val_idx] = cb_val_proba\n",
        "        test_predictions[\"catboost\"] += cb_model.predict_proba(X_test)\n",
        "        fold_accuracies[\"catboost\"].append(cb_acc)\n",
        "        saved_model_paths[\"catboost\"].append(\n",
        "            str(persist_model(cb_model, artifact_root / \"catboost\" / f\"fold_{fold}\", \"catboost\"))\n",
        "        )\n",
        "\n",
        "        lgb_model, lgb_val_proba, lgb_acc = train_lgb(\n",
        "            X_tr,\n",
        "            X_val,\n",
        "            y_tr,\n",
        "            y_val,\n",
        "            params=best_params[\"lightgbm\"],\n",
        "            fold=fold,\n",
        "            sample_weight=train_weights,\n",
        "            num_classes=num_classes,\n",
        "        )\n",
        "        oof_predictions[\"lightgbm\"][val_idx] = lgb_val_proba\n",
        "        test_predictions[\"lightgbm\"] += lightgbm_predict_proba(lgb_model, X_test)\n",
        "        fold_accuracies[\"lightgbm\"].append(lgb_acc)\n",
        "        saved_model_paths[\"lightgbm\"].append(\n",
        "            str(persist_model(lgb_model, artifact_root / \"lightgbm\" / f\"fold_{fold}\", \"lightgbm\"))\n",
        "        )\n",
        "\n",
        "        xgb_model, xgb_val_proba, xgb_acc = train_xgb(\n",
        "            X_tr,\n",
        "            X_val,\n",
        "            y_tr,\n",
        "            y_val,\n",
        "            params=best_params[\"xgboost\"],\n",
        "            fold=fold,\n",
        "            sample_weight=train_weights,\n",
        "            num_classes=num_classes,\n",
        "        )\n",
        "        oof_predictions[\"xgboost\"][val_idx] = xgb_val_proba\n",
        "        test_predictions[\"xgboost\"] += xgb_model.predict_proba(X_test)\n",
        "        fold_accuracies[\"xgboost\"].append(xgb_acc)\n",
        "        saved_model_paths[\"xgboost\"].append(\n",
        "            str(persist_model(xgb_model, artifact_root / \"xgboost\" / f\"fold_{fold}\", \"xgboost\"))\n",
        "        )\n",
        "\n",
        "        tabnet_model, tabnet_val_proba, tabnet_acc = train_tabnet(\n",
        "            X_tr,\n",
        "            X_val,\n",
        "            y_tr,\n",
        "            y_val,\n",
        "            params=best_params[\"tabnet\"],\n",
        "            fold=fold,\n",
        "            sample_weight=train_weights,\n",
        "        )\n",
        "        oof_predictions[\"tabnet\"][val_idx] = tabnet_val_proba\n",
        "        test_predictions[\"tabnet\"] += tabnet_model.predict_proba(X_test.values)\n",
        "        fold_accuracies[\"tabnet\"].append(tabnet_acc)\n",
        "        saved_model_paths[\"tabnet\"].append(\n",
        "            str(persist_model(tabnet_model, artifact_root / \"tabnet\" / f\"fold_{fold}\", \"tabnet\"))\n",
        "        )\n",
        "\n",
        "        print(f\"Fold {fold} complete.\")\n",
        "\n",
        "    for model_name in test_predictions:\n",
        "        test_predictions[model_name] /= base_cv_splits\n",
        "\n",
        "    meta_features_train = np.hstack([reshape_for_meta(oof_predictions[name]) for name in oof_predictions])\n",
        "    meta_features_test = np.hstack([reshape_for_meta(test_predictions[name]) for name in test_predictions])\n",
        "\n",
        "    meta_model = LogisticRegressionCV(\n",
        "        cv=base_cv_splits,\n",
        "        multi_class=\"multinomial\",\n",
        "        max_iter=1000,\n",
        "        class_weight=\"balanced\",\n",
        "        random_state=random_seed,\n",
        "    )\n",
        "    meta_model.fit(meta_features_train, y_train)\n",
        "\n",
        "    meta_train_preds = meta_model.predict(meta_features_train)\n",
        "    meta_train_acc = accuracy_score(y_train, meta_train_preds)\n",
        "\n",
        "    meta_test_preds = meta_model.predict(meta_features_test)\n",
        "    meta_test_acc = accuracy_score(y_test, meta_test_preds)\n",
        "    meta_test_proba = meta_model.predict_proba(meta_features_test)\n",
        "    meta_report = classification_report(y_test, meta_test_preds, digits=4)\n",
        "\n",
        "    meta_model_path = artifact_root / \"meta_model.joblib\"\n",
        "    joblib.dump(meta_model, meta_model_path)\n",
        "\n",
        "    predictions_df = pd.DataFrame(\n",
        "        {\n",
        "            \"y_true\": y_test.values,\n",
        "            \"y_pred\": meta_test_preds,\n",
        "        }\n",
        "    )\n",
        "    predictions_path = artifact_root / \"meta_model_test_predictions.csv\"\n",
        "    predictions_df.to_csv(predictions_path, index=False)\n",
        "\n",
        "    np.save(artifact_root / \"meta_features_train.npy\", meta_features_train)\n",
        "    np.save(artifact_root / \"meta_features_test.npy\", meta_features_test)\n",
        "    np.save(artifact_root / \"meta_test_proba.npy\", meta_test_proba)\n",
        "\n",
        "    summary = {\n",
        "        \"best_params\": best_params,\n",
        "        \"fold_metrics\": {\n",
        "            name: {\n",
        "                \"mean_accuracy\": float(np.mean(scores)),\n",
        "                \"std_accuracy\": float(np.std(scores)),\n",
        "            }\n",
        "            for name, scores in fold_accuracies.items()\n",
        "        },\n",
        "        \"meta_train_accuracy\": float(meta_train_acc),\n",
        "        \"meta_test_accuracy\": float(meta_test_acc),\n",
        "        \"classification_report\": meta_report,\n",
        "        \"saved_models\": saved_model_paths,\n",
        "        \"meta_model_path\": str(meta_model_path),\n",
        "        \"test_predictions_path\": str(predictions_path),\n",
        "    }\n",
        "\n",
        "    return summary\n"
      ],
      "metadata": {
        "id": "VsMKzppbpKTH",
        "trusted": true,
        "execution": {
          "iopub.status.busy": "2025-10-05T11:25:52.417051Z",
          "iopub.execute_input": "2025-10-05T11:25:52.417292Z",
          "iopub.status.idle": "2025-10-05T11:25:52.438567Z",
          "shell.execute_reply.started": "2025-10-05T11:25:52.417272Z",
          "shell.execute_reply": "2025-10-05T11:25:52.43797Z"
        }
      },
      "outputs": [],
      "execution_count": null
    },
    {
      "cell_type": "code",
      "source": [
        "data_path = Path(\"/kaggle/input/nasa-dataset-tryhard/combined_imputed_values.csv\")\n",
        "\n",
        "if data_path.exists():\n",
        "    df = pd.read_csv(data_path)\n",
        "    if \"disposition\" not in df.columns:\n",
        "        raise KeyError(\"Column 'disposition' is missing from the dataset.\")\n",
        "    X = df.drop(columns=[\"disposition\"])\n",
        "    y = df[\"disposition\"]\n",
        "    print(f\"Loaded dataset with shape {df.shape}.\")\n",
        "else:\n",
        "    print(\"Dataset 'combined_imputed_values.csv' not found. Define X and y manually.\")\n"
      ],
      "metadata": {
        "trusted": true,
        "execution": {
          "iopub.status.busy": "2025-10-05T11:25:52.43931Z",
          "iopub.execute_input": "2025-10-05T11:25:52.439545Z",
          "iopub.status.idle": "2025-10-05T11:25:52.53572Z",
          "shell.execute_reply.started": "2025-10-05T11:25:52.439524Z",
          "shell.execute_reply": "2025-10-05T11:25:52.535142Z"
        },
        "id": "nPrcEG03boeF",
        "outputId": "3077adf8-9a3d-4073-e9f0-d2d003cb6f7f"
      },
      "outputs": [
        {
          "name": "stdout",
          "text": "Loaded dataset with shape (16707, 11).\n",
          "output_type": "stream"
        }
      ],
      "execution_count": null
    },
    {
      "cell_type": "code",
      "source": [
        "if \"X\" in globals() and \"y\" in globals():\n",
        "    le = LabelEncoder()\n",
        "    y_fixed = le.fit_transform(y)\n",
        "\n",
        "    pipeline_results = run_stacking_pipeline(\n",
        "        X,\n",
        "        y_fixed,\n",
        "        test_size=0.2,\n",
        "        n_trials=30,\n",
        "        base_cv_splits=10,\n",
        "        optuna_cv_splits=5,\n",
        "        artifact_root=ARTIFACT_ROOT,\n",
        "        random_seed=RANDOM_SEED,\n",
        "    )\n",
        "    pipeline_results\n",
        "else:\n",
        "    print(\"Define X (features) and y (target) before running the stacking pipeline.\")\n"
      ],
      "metadata": {
        "id": "OGCwUqMjuQys",
        "trusted": true,
        "execution": {
          "iopub.status.busy": "2025-10-05T11:25:52.536334Z",
          "iopub.execute_input": "2025-10-05T11:25:52.536572Z",
          "iopub.status.idle": "2025-10-05T12:29:52.969397Z",
          "shell.execute_reply.started": "2025-10-05T11:25:52.536546Z",
          "shell.execute_reply": "2025-10-05T12:29:52.968787Z"
        },
        "outputId": "17f02f64-4880-4837-a47b-ea9c4a628148"
      },
      "outputs": [
        {
          "name": "stderr",
          "text": "[I 2025-10-05 11:25:52,549] A new study created in memory with name: no-name-f0de4d7e-e51e-4f1d-aba7-2c668f68e483\n[I 2025-10-05 11:26:48,239] Trial 0 finished with value: 0.6614291058735503 and parameters: {'iterations': 217, 'depth': 10, 'learning_rate': 0.0016083788090401577, 'l2_leaf_reg': 6.971160211362632, 'task_type': 'CPU'}. Best is trial 0 with value: 0.6614291058735503.\n[I 2025-10-05 11:27:09,785] Trial 1 finished with value: 0.7014590347923682 and parameters: {'iterations': 177, 'depth': 4, 'learning_rate': 0.14844655685226354, 'l2_leaf_reg': 3.127496162207505, 'task_type': 'GPU'}. Best is trial 1 with value: 0.7014590347923682.\n[I 2025-10-05 11:27:13,512] Trial 2 finished with value: 0.6439955106621774 and parameters: {'iterations': 151, 'depth': 5, 'learning_rate': 0.0011846124990474549, 'l2_leaf_reg': 2.5244599550898803, 'task_type': 'CPU'}. Best is trial 1 with value: 0.7014590347923682.\n[I 2025-10-05 11:27:19,956] Trial 3 finished with value: 0.6885147774036664 and parameters: {'iterations': 155, 'depth': 6, 'learning_rate': 0.04048907976547664, 'l2_leaf_reg': 5.6821048474642275, 'task_type': 'GPU'}. Best is trial 1 with value: 0.7014590347923682.\n[I 2025-10-05 11:27:28,232] Trial 4 finished with value: 0.672053872053872 and parameters: {'iterations': 274, 'depth': 5, 'learning_rate': 0.015169334701035063, 'l2_leaf_reg': 2.9212122214022127, 'task_type': 'GPU'}. Best is trial 1 with value: 0.7014590347923682.\n[I 2025-10-05 11:27:34,371] Trial 5 finished with value: 0.7077441077441078 and parameters: {'iterations': 123, 'depth': 6, 'learning_rate': 0.13600929612828594, 'l2_leaf_reg': 3.896940785109739, 'task_type': 'GPU'}. Best is trial 5 with value: 0.7077441077441078.\n[I 2025-10-05 11:27:39,857] Trial 6 finished with value: 0.6407033295922184 and parameters: {'iterations': 119, 'depth': 5, 'learning_rate': 0.0028877859207319455, 'l2_leaf_reg': 4.458100227356391, 'task_type': 'GPU'}. Best is trial 5 with value: 0.7077441077441078.\n[I 2025-10-05 11:27:53,950] Trial 7 finished with value: 0.6582117471006359 and parameters: {'iterations': 263, 'depth': 8, 'learning_rate': 0.0010993773774040942, 'l2_leaf_reg': 2.2688111303132747, 'task_type': 'GPU'}. Best is trial 5 with value: 0.7077441077441078.\n[I 2025-10-05 11:28:05,083] Trial 8 finished with value: 0.6962962962962963 and parameters: {'iterations': 339, 'depth': 6, 'learning_rate': 0.02677207089079974, 'l2_leaf_reg': 6.904320357388759, 'task_type': 'GPU'}. Best is trial 5 with value: 0.7077441077441078.\n[I 2025-10-05 11:30:05,003] Trial 9 finished with value: 0.6829031051253274 and parameters: {'iterations': 485, 'depth': 10, 'learning_rate': 0.0069042025529372514, 'l2_leaf_reg': 7.6857945650317205, 'task_type': 'CPU'}. Best is trial 5 with value: 0.7077441077441078.\n[I 2025-10-05 11:30:19,069] Trial 10 finished with value: 0.71440329218107 and parameters: {'iterations': 361, 'depth': 8, 'learning_rate': 0.1708931523305348, 'l2_leaf_reg': 1.0230306202512498, 'task_type': 'CPU'}. Best is trial 10 with value: 0.71440329218107.\n[I 2025-10-05 11:30:28,979] Trial 11 finished with value: 0.7129068462401796 and parameters: {'iterations': 385, 'depth': 8, 'learning_rate': 0.2585170513723628, 'l2_leaf_reg': 1.0090318475140607, 'task_type': 'CPU'}. Best is trial 10 with value: 0.71440329218107.\n[I 2025-10-05 11:30:37,984] Trial 12 finished with value: 0.712532734754957 and parameters: {'iterations': 382, 'depth': 8, 'learning_rate': 0.29926682713837827, 'l2_leaf_reg': 1.1152609075487507, 'task_type': 'CPU'}. Best is trial 10 with value: 0.71440329218107.\n[I 2025-10-05 11:31:10,599] Trial 13 finished with value: 0.7171717171717172 and parameters: {'iterations': 421, 'depth': 8, 'learning_rate': 0.06267339315230606, 'l2_leaf_reg': 9.69791575784518, 'task_type': 'CPU'}. Best is trial 13 with value: 0.7171717171717172.\n[I 2025-10-05 11:32:16,252] Trial 14 finished with value: 0.7164983164983164 and parameters: {'iterations': 490, 'depth': 9, 'learning_rate': 0.0670802733775792, 'l2_leaf_reg': 9.870581117679812, 'task_type': 'CPU'}. Best is trial 13 with value: 0.7171717171717172.\n[I 2025-10-05 11:33:23,653] Trial 15 finished with value: 0.714552936775159 and parameters: {'iterations': 498, 'depth': 9, 'learning_rate': 0.060208049264554656, 'l2_leaf_reg': 9.998211984693542, 'task_type': 'CPU'}. Best is trial 13 with value: 0.7171717171717172.\n[I 2025-10-05 11:34:19,773] Trial 16 finished with value: 0.7159745604190049 and parameters: {'iterations': 422, 'depth': 9, 'learning_rate': 0.06829190877647177, 'l2_leaf_reg': 9.9356563686857, 'task_type': 'CPU'}. Best is trial 13 with value: 0.7171717171717172.\n[I 2025-10-05 11:35:20,582] Trial 17 finished with value: 0.6923307145529367 and parameters: {'iterations': 450, 'depth': 9, 'learning_rate': 0.01310531956128313, 'l2_leaf_reg': 8.622819861861768, 'task_type': 'CPU'}. Best is trial 13 with value: 0.7171717171717172.\n[I 2025-10-05 11:35:40,609] Trial 18 finished with value: 0.7154508043396932 and parameters: {'iterations': 438, 'depth': 7, 'learning_rate': 0.08296847114191173, 'l2_leaf_reg': 8.639237394405896, 'task_type': 'CPU'}. Best is trial 13 with value: 0.7171717171717172.\n[I 2025-10-05 11:35:55,197] Trial 19 finished with value: 0.6953236064347176 and parameters: {'iterations': 317, 'depth': 7, 'learning_rate': 0.02873144587990344, 'l2_leaf_reg': 8.754296611733155, 'task_type': 'CPU'}. Best is trial 13 with value: 0.7171717171717172.\n[I 2025-10-05 11:37:23,804] Trial 20 finished with value: 0.7150766928544707 and parameters: {'iterations': 414, 'depth': 10, 'learning_rate': 0.09108322360818631, 'l2_leaf_reg': 9.309490491441428, 'task_type': 'CPU'}. Best is trial 13 with value: 0.7171717171717172.\n[I 2025-10-05 11:38:24,282] Trial 21 finished with value: 0.7182940516273849 and parameters: {'iterations': 449, 'depth': 9, 'learning_rate': 0.07452489162580808, 'l2_leaf_reg': 9.624071790339087, 'task_type': 'CPU'}. Best is trial 21 with value: 0.7182940516273849.\n[I 2025-10-05 11:39:27,175] Trial 22 finished with value: 0.7143284698840254 and parameters: {'iterations': 469, 'depth': 9, 'learning_rate': 0.04440245096544866, 'l2_leaf_reg': 7.955626382219206, 'task_type': 'CPU'}. Best is trial 21 with value: 0.7182940516273849.\n[I 2025-10-05 11:40:21,907] Trial 23 finished with value: 0.6774410774410774 and parameters: {'iterations': 407, 'depth': 9, 'learning_rate': 0.007712933245701016, 'l2_leaf_reg': 9.333095075460639, 'task_type': 'CPU'}. Best is trial 21 with value: 0.7182940516273849.\n[I 2025-10-05 11:40:57,412] Trial 24 finished with value: 0.7051253273475495 and parameters: {'iterations': 459, 'depth': 8, 'learning_rate': 0.024972487852236606, 'l2_leaf_reg': 5.9716665626048595, 'task_type': 'CPU'}. Best is trial 21 with value: 0.7182940516273849.\n[I 2025-10-05 11:42:29,939] Trial 25 finished with value: 0.7172465394687617 and parameters: {'iterations': 482, 'depth': 10, 'learning_rate': 0.09504457964279647, 'l2_leaf_reg': 7.834173816794635, 'task_type': 'CPU'}. Best is trial 21 with value: 0.7182940516273849.\n[I 2025-10-05 11:43:48,775] Trial 26 finished with value: 0.7160493827160493 and parameters: {'iterations': 389, 'depth': 10, 'learning_rate': 0.11381417888626802, 'l2_leaf_reg': 7.775430696099475, 'task_type': 'CPU'}. Best is trial 21 with value: 0.7182940516273849.\n[I 2025-10-05 11:45:38,221] Trial 27 finished with value: 0.7133557800224467 and parameters: {'iterations': 446, 'depth': 10, 'learning_rate': 0.045094212276032476, 'l2_leaf_reg': 6.745934758411898, 'task_type': 'CPU'}. Best is trial 21 with value: 0.7182940516273849.\n[I 2025-10-05 11:45:49,482] Trial 28 finished with value: 0.7138047138047139 and parameters: {'iterations': 342, 'depth': 7, 'learning_rate': 0.21311489072039577, 'l2_leaf_reg': 8.947343602200466, 'task_type': 'CPU'}. Best is trial 21 with value: 0.7182940516273849.\n[I 2025-10-05 11:47:34,088] Trial 29 finished with value: 0.6888140665918444 and parameters: {'iterations': 427, 'depth': 10, 'learning_rate': 0.010590118067339059, 'l2_leaf_reg': 7.979993880713222, 'task_type': 'CPU'}. Best is trial 21 with value: 0.7182940516273849.\n[I 2025-10-05 11:47:34,089] A new study created in memory with name: no-name-d5b37050-74d4-4641-82e9-ce3f5f45086c\n",
          "output_type": "stream"
        },
        {
          "name": "stdout",
          "text": "Catboost best params: {'iterations': 449, 'depth': 9, 'learning_rate': 0.07452489162580808, 'l2_leaf_reg': 9.624071790339087, 'task_type': 'CPU'}\nTraining until validation scores don't improve for 20 rounds\nDid not meet early stopping. Best iteration is:\n[100]\tvalid_0's multi_logloss: 0.978074\nTraining until validation scores don't improve for 20 rounds\nDid not meet early stopping. Best iteration is:\n[100]\tvalid_0's multi_logloss: 0.981645\nTraining until validation scores don't improve for 20 rounds\nDid not meet early stopping. Best iteration is:\n[100]\tvalid_0's multi_logloss: 0.97487\nTraining until validation scores don't improve for 20 rounds\nDid not meet early stopping. Best iteration is:\n[100]\tvalid_0's multi_logloss: 0.975656\nTraining until validation scores don't improve for 20 rounds\n",
          "output_type": "stream"
        },
        {
          "name": "stderr",
          "text": "[I 2025-10-05 11:47:35,998] Trial 0 finished with value: 0.6674148896371118 and parameters: {'learning_rate': 0.0027897994056749476, 'num_leaves': 128, 'max_depth': 5, 'min_child_samples': 24, 'subsample': 0.7534157338565933, 'colsample_bytree': 0.6798808676116319}. Best is trial 0 with value: 0.6674148896371118.\n",
          "output_type": "stream"
        },
        {
          "name": "stdout",
          "text": "Did not meet early stopping. Best iteration is:\n[100]\tvalid_0's multi_logloss: 0.980139\nTraining until validation scores don't improve for 20 rounds\nDid not meet early stopping. Best iteration is:\n[100]\tvalid_0's multi_logloss: 0.843352\nTraining until validation scores don't improve for 20 rounds\nDid not meet early stopping. Best iteration is:\n[100]\tvalid_0's multi_logloss: 0.851625\nTraining until validation scores don't improve for 20 rounds\nDid not meet early stopping. Best iteration is:\n[100]\tvalid_0's multi_logloss: 0.83698\nTraining until validation scores don't improve for 20 rounds\nDid not meet early stopping. Best iteration is:\n[100]\tvalid_0's multi_logloss: 0.837279\nTraining until validation scores don't improve for 20 rounds\n",
          "output_type": "stream"
        },
        {
          "name": "stderr",
          "text": "[I 2025-10-05 11:47:40,210] Trial 1 finished with value: 0.7000374111485222 and parameters: {'learning_rate': 0.00671633835823325, 'num_leaves': 81, 'max_depth': -1, 'min_child_samples': 44, 'subsample': 0.6270064392231525, 'colsample_bytree': 0.5554441104106529}. Best is trial 1 with value: 0.7000374111485222.\n",
          "output_type": "stream"
        },
        {
          "name": "stdout",
          "text": "Did not meet early stopping. Best iteration is:\n[100]\tvalid_0's multi_logloss: 0.846885\nTraining until validation scores don't improve for 20 rounds\nDid not meet early stopping. Best iteration is:\n[100]\tvalid_0's multi_logloss: 0.749629\nTraining until validation scores don't improve for 20 rounds\nDid not meet early stopping. Best iteration is:\n[100]\tvalid_0's multi_logloss: 0.760657\nTraining until validation scores don't improve for 20 rounds\nDid not meet early stopping. Best iteration is:\n[100]\tvalid_0's multi_logloss: 0.732886\nTraining until validation scores don't improve for 20 rounds\nDid not meet early stopping. Best iteration is:\n[100]\tvalid_0's multi_logloss: 0.736959\nTraining until validation scores don't improve for 20 rounds\n",
          "output_type": "stream"
        },
        {
          "name": "stderr",
          "text": "[I 2025-10-05 11:47:41,942] Trial 2 finished with value: 0.6808829031051253 and parameters: {'learning_rate': 0.025488325617256665, 'num_leaves': 114, 'max_depth': 5, 'min_child_samples': 7, 'subsample': 0.9834581528025337, 'colsample_bytree': 0.501543952853927}. Best is trial 1 with value: 0.7000374111485222.\n",
          "output_type": "stream"
        },
        {
          "name": "stdout",
          "text": "Did not meet early stopping. Best iteration is:\n[100]\tvalid_0's multi_logloss: 0.756032\nTraining until validation scores don't improve for 20 rounds\nDid not meet early stopping. Best iteration is:\n[100]\tvalid_0's multi_logloss: 0.975667\nTraining until validation scores don't improve for 20 rounds\nDid not meet early stopping. Best iteration is:\n[100]\tvalid_0's multi_logloss: 0.97926\nTraining until validation scores don't improve for 20 rounds\nDid not meet early stopping. Best iteration is:\n[100]\tvalid_0's multi_logloss: 0.972948\nTraining until validation scores don't improve for 20 rounds\nDid not meet early stopping. Best iteration is:\n[100]\tvalid_0's multi_logloss: 0.973628\nTraining until validation scores don't improve for 20 rounds\n",
          "output_type": "stream"
        },
        {
          "name": "stderr",
          "text": "[I 2025-10-05 11:47:44,111] Trial 3 finished with value: 0.6754208754208755 and parameters: {'learning_rate': 0.0026624197337240534, 'num_leaves': 34, 'max_depth': 6, 'min_child_samples': 19, 'subsample': 0.7951570860953145, 'colsample_bytree': 0.6566042436943016}. Best is trial 1 with value: 0.7000374111485222.\n",
          "output_type": "stream"
        },
        {
          "name": "stdout",
          "text": "Did not meet early stopping. Best iteration is:\n[100]\tvalid_0's multi_logloss: 0.977921\nTraining until validation scores don't improve for 20 rounds\nEarly stopping, best iteration is:\n[40]\tvalid_0's multi_logloss: 0.667875\nTraining until validation scores don't improve for 20 rounds\nEarly stopping, best iteration is:\n[30]\tvalid_0's multi_logloss: 0.67575\nTraining until validation scores don't improve for 20 rounds\nEarly stopping, best iteration is:\n[43]\tvalid_0's multi_logloss: 0.636838\nTraining until validation scores don't improve for 20 rounds\nEarly stopping, best iteration is:\n[42]\tvalid_0's multi_logloss: 0.649591\nTraining until validation scores don't improve for 20 rounds\n",
          "output_type": "stream"
        },
        {
          "name": "stderr",
          "text": "[I 2025-10-05 11:47:45,733] Trial 4 finished with value: 0.7156752712308269 and parameters: {'learning_rate': 0.21751054058749017, 'num_leaves': 49, 'max_depth': 11, 'min_child_samples': 30, 'subsample': 0.8384781687570805, 'colsample_bytree': 0.572762313312746}. Best is trial 4 with value: 0.7156752712308269.\n",
          "output_type": "stream"
        },
        {
          "name": "stdout",
          "text": "Early stopping, best iteration is:\n[49]\tvalid_0's multi_logloss: 0.667256\nTraining until validation scores don't improve for 20 rounds\nDid not meet early stopping. Best iteration is:\n[100]\tvalid_0's multi_logloss: 0.856082\nTraining until validation scores don't improve for 20 rounds\nDid not meet early stopping. Best iteration is:\n[100]\tvalid_0's multi_logloss: 0.862219\nTraining until validation scores don't improve for 20 rounds\nDid not meet early stopping. Best iteration is:\n[100]\tvalid_0's multi_logloss: 0.848528\nTraining until validation scores don't improve for 20 rounds\nDid not meet early stopping. Best iteration is:\n[100]\tvalid_0's multi_logloss: 0.849708\nTraining until validation scores don't improve for 20 rounds\n",
          "output_type": "stream"
        },
        {
          "name": "stderr",
          "text": "[I 2025-10-05 11:47:47,699] Trial 5 finished with value: 0.6719042274597831 and parameters: {'learning_rate': 0.007293546750763161, 'num_leaves': 65, 'max_depth': 5, 'min_child_samples': 11, 'subsample': 0.9790931893659285, 'colsample_bytree': 0.9635446679051796}. Best is trial 4 with value: 0.7156752712308269.\n",
          "output_type": "stream"
        },
        {
          "name": "stdout",
          "text": "Did not meet early stopping. Best iteration is:\n[100]\tvalid_0's multi_logloss: 0.858868\nTraining until validation scores don't improve for 20 rounds\nDid not meet early stopping. Best iteration is:\n[100]\tvalid_0's multi_logloss: 0.920433\nTraining until validation scores don't improve for 20 rounds\nDid not meet early stopping. Best iteration is:\n[100]\tvalid_0's multi_logloss: 0.925573\nTraining until validation scores don't improve for 20 rounds\nDid not meet early stopping. Best iteration is:\n[100]\tvalid_0's multi_logloss: 0.916386\nTraining until validation scores don't improve for 20 rounds\nDid not meet early stopping. Best iteration is:\n[100]\tvalid_0's multi_logloss: 0.917516\nTraining until validation scores don't improve for 20 rounds\n",
          "output_type": "stream"
        },
        {
          "name": "stderr",
          "text": "[I 2025-10-05 11:47:50,851] Trial 6 finished with value: 0.6823793490460157 and parameters: {'learning_rate': 0.004115274581197572, 'num_leaves': 81, 'max_depth': 7, 'min_child_samples': 34, 'subsample': 0.8989445791779906, 'colsample_bytree': 0.6910574828932841}. Best is trial 4 with value: 0.7156752712308269.\n",
          "output_type": "stream"
        },
        {
          "name": "stdout",
          "text": "Did not meet early stopping. Best iteration is:\n[100]\tvalid_0's multi_logloss: 0.9237\nTraining until validation scores don't improve for 20 rounds\nEarly stopping, best iteration is:\n[62]\tvalid_0's multi_logloss: 0.669823\nTraining until validation scores don't improve for 20 rounds\nEarly stopping, best iteration is:\n[46]\tvalid_0's multi_logloss: 0.675006\nTraining until validation scores don't improve for 20 rounds\nEarly stopping, best iteration is:\n[53]\tvalid_0's multi_logloss: 0.641071\nTraining until validation scores don't improve for 20 rounds\nEarly stopping, best iteration is:\n[70]\tvalid_0's multi_logloss: 0.640192\nTraining until validation scores don't improve for 20 rounds\n",
          "output_type": "stream"
        },
        {
          "name": "stderr",
          "text": "[I 2025-10-05 11:47:52,597] Trial 7 finished with value: 0.7173213617658061 and parameters: {'learning_rate': 0.2126998338160467, 'num_leaves': 39, 'max_depth': 12, 'min_child_samples': 14, 'subsample': 0.9951653568417376, 'colsample_bytree': 0.6532709551451061}. Best is trial 7 with value: 0.7173213617658061.\n",
          "output_type": "stream"
        },
        {
          "name": "stdout",
          "text": "Early stopping, best iteration is:\n[42]\tvalid_0's multi_logloss: 0.673703\nTraining until validation scores don't improve for 20 rounds\nDid not meet early stopping. Best iteration is:\n[99]\tvalid_0's multi_logloss: 0.662969\nTraining until validation scores don't improve for 20 rounds\nDid not meet early stopping. Best iteration is:\n[100]\tvalid_0's multi_logloss: 0.677123\nTraining until validation scores don't improve for 20 rounds\nDid not meet early stopping. Best iteration is:\n[100]\tvalid_0's multi_logloss: 0.642133\nTraining until validation scores don't improve for 20 rounds\nDid not meet early stopping. Best iteration is:\n[100]\tvalid_0's multi_logloss: 0.644621\nTraining until validation scores don't improve for 20 rounds\n",
          "output_type": "stream"
        },
        {
          "name": "stderr",
          "text": "[I 2025-10-05 11:47:56,259] Trial 8 finished with value: 0.7135054246165358 and parameters: {'learning_rate': 0.040146102107475407, 'num_leaves': 66, 'max_depth': 10, 'min_child_samples': 30, 'subsample': 0.9856063624511953, 'colsample_bytree': 0.8182590864029704}. Best is trial 7 with value: 0.7173213617658061.\n",
          "output_type": "stream"
        },
        {
          "name": "stdout",
          "text": "Did not meet early stopping. Best iteration is:\n[100]\tvalid_0's multi_logloss: 0.672566\nTraining until validation scores don't improve for 20 rounds\nDid not meet early stopping. Best iteration is:\n[100]\tvalid_0's multi_logloss: 0.777339\nTraining until validation scores don't improve for 20 rounds\nDid not meet early stopping. Best iteration is:\n[100]\tvalid_0's multi_logloss: 0.785148\nTraining until validation scores don't improve for 20 rounds\nDid not meet early stopping. Best iteration is:\n[100]\tvalid_0's multi_logloss: 0.769032\nTraining until validation scores don't improve for 20 rounds\nDid not meet early stopping. Best iteration is:\n[100]\tvalid_0's multi_logloss: 0.768624\nTraining until validation scores don't improve for 20 rounds\n",
          "output_type": "stream"
        },
        {
          "name": "stderr",
          "text": "[I 2025-10-05 11:48:01,180] Trial 9 finished with value: 0.7049756827534606 and parameters: {'learning_rate': 0.009319973980585948, 'num_leaves': 77, 'max_depth': -1, 'min_child_samples': 7, 'subsample': 0.7928842683341906, 'colsample_bytree': 0.8692259614591007}. Best is trial 7 with value: 0.7173213617658061.\n",
          "output_type": "stream"
        },
        {
          "name": "stdout",
          "text": "Did not meet early stopping. Best iteration is:\n[100]\tvalid_0's multi_logloss: 0.780961\nTraining until validation scores don't improve for 20 rounds\nEarly stopping, best iteration is:\n[60]\tvalid_0's multi_logloss: 0.66992\nTraining until validation scores don't improve for 20 rounds\nDid not meet early stopping. Best iteration is:\n[93]\tvalid_0's multi_logloss: 0.676717\nTraining until validation scores don't improve for 20 rounds\nEarly stopping, best iteration is:\n[73]\tvalid_0's multi_logloss: 0.64456\nTraining until validation scores don't improve for 20 rounds\nDid not meet early stopping. Best iteration is:\n[91]\tvalid_0's multi_logloss: 0.647472\nTraining until validation scores don't improve for 20 rounds\n",
          "output_type": "stream"
        },
        {
          "name": "stderr",
          "text": "[I 2025-10-05 11:48:02,680] Trial 10 finished with value: 0.7131313131313132 and parameters: {'learning_rate': 0.22465217188764536, 'num_leaves': 19, 'max_depth': 14, 'min_child_samples': 16, 'subsample': 0.5233889479225261, 'colsample_bytree': 0.7928944554495616}. Best is trial 7 with value: 0.7173213617658061.\n",
          "output_type": "stream"
        },
        {
          "name": "stdout",
          "text": "Early stopping, best iteration is:\n[61]\tvalid_0's multi_logloss: 0.673121\nTraining until validation scores don't improve for 20 rounds\nEarly stopping, best iteration is:\n[29]\tvalid_0's multi_logloss: 0.670292\nTraining until validation scores don't improve for 20 rounds\nEarly stopping, best iteration is:\n[34]\tvalid_0's multi_logloss: 0.680365\nTraining until validation scores don't improve for 20 rounds\nEarly stopping, best iteration is:\n[37]\tvalid_0's multi_logloss: 0.642089\nTraining until validation scores don't improve for 20 rounds\nEarly stopping, best iteration is:\n[55]\tvalid_0's multi_logloss: 0.646093\nTraining until validation scores don't improve for 20 rounds\n",
          "output_type": "stream"
        },
        {
          "name": "stderr",
          "text": "[I 2025-10-05 11:48:04,110] Trial 11 finished with value: 0.7116348671904227 and parameters: {'learning_rate': 0.26614818516171235, 'num_leaves': 43, 'max_depth': 12, 'min_child_samples': 38, 'subsample': 0.8750752480289165, 'colsample_bytree': 0.5910186511915644}. Best is trial 7 with value: 0.7173213617658061.\n",
          "output_type": "stream"
        },
        {
          "name": "stdout",
          "text": "Early stopping, best iteration is:\n[35]\tvalid_0's multi_logloss: 0.665805\nTraining until validation scores don't improve for 20 rounds\nDid not meet early stopping. Best iteration is:\n[98]\tvalid_0's multi_logloss: 0.666402\nTraining until validation scores don't improve for 20 rounds\nDid not meet early stopping. Best iteration is:\n[99]\tvalid_0's multi_logloss: 0.672158\nTraining until validation scores don't improve for 20 rounds\nDid not meet early stopping. Best iteration is:\n[100]\tvalid_0's multi_logloss: 0.631796\nTraining until validation scores don't improve for 20 rounds\nDid not meet early stopping. Best iteration is:\n[100]\tvalid_0's multi_logloss: 0.641712\nTraining until validation scores don't improve for 20 rounds\n",
          "output_type": "stream"
        },
        {
          "name": "stderr",
          "text": "[I 2025-10-05 11:48:06,772] Trial 12 finished with value: 0.7130564908342686 and parameters: {'learning_rate': 0.08561081369042785, 'num_leaves': 45, 'max_depth': 10, 'min_child_samples': 24, 'subsample': 0.8817891139648931, 'colsample_bytree': 0.6063775495098235}. Best is trial 7 with value: 0.7173213617658061.\n",
          "output_type": "stream"
        },
        {
          "name": "stdout",
          "text": "Did not meet early stopping. Best iteration is:\n[100]\tvalid_0's multi_logloss: 0.661635\nTraining until validation scores don't improve for 20 rounds\nDid not meet early stopping. Best iteration is:\n[100]\tvalid_0's multi_logloss: 0.674439\nTraining until validation scores don't improve for 20 rounds\nDid not meet early stopping. Best iteration is:\n[100]\tvalid_0's multi_logloss: 0.68597\nTraining until validation scores don't improve for 20 rounds\nDid not meet early stopping. Best iteration is:\n[100]\tvalid_0's multi_logloss: 0.653612\nTraining until validation scores don't improve for 20 rounds\nDid not meet early stopping. Best iteration is:\n[100]\tvalid_0's multi_logloss: 0.655659\nTraining until validation scores don't improve for 20 rounds\n",
          "output_type": "stream"
        },
        {
          "name": "stderr",
          "text": "[I 2025-10-05 11:48:08,447] Trial 13 finished with value: 0.7099887766554432 and parameters: {'learning_rate': 0.07952065928666363, 'num_leaves': 17, 'max_depth': 15, 'min_child_samples': 48, 'subsample': 0.6130607246907399, 'colsample_bytree': 0.7387283797641221}. Best is trial 7 with value: 0.7173213617658061.\n",
          "output_type": "stream"
        },
        {
          "name": "stdout",
          "text": "Did not meet early stopping. Best iteration is:\n[100]\tvalid_0's multi_logloss: 0.675527\nTraining until validation scores don't improve for 20 rounds\nDid not meet early stopping. Best iteration is:\n[100]\tvalid_0's multi_logloss: 1.04367\nTraining until validation scores don't improve for 20 rounds\nDid not meet early stopping. Best iteration is:\n[100]\tvalid_0's multi_logloss: 1.04512\nTraining until validation scores don't improve for 20 rounds\nDid not meet early stopping. Best iteration is:\n[100]\tvalid_0's multi_logloss: 1.04266\nTraining until validation scores don't improve for 20 rounds\nDid not meet early stopping. Best iteration is:\n[100]\tvalid_0's multi_logloss: 1.04283\nTraining until validation scores don't improve for 20 rounds\n",
          "output_type": "stream"
        },
        {
          "name": "stderr",
          "text": "[I 2025-10-05 11:48:11,620] Trial 14 finished with value: 0.6877665544332212 and parameters: {'learning_rate': 0.001048960626852366, 'num_leaves': 55, 'max_depth': 10, 'min_child_samples': 16, 'subsample': 0.9132941868389239, 'colsample_bytree': 0.5339267784171254}. Best is trial 7 with value: 0.7173213617658061.\n",
          "output_type": "stream"
        },
        {
          "name": "stdout",
          "text": "Did not meet early stopping. Best iteration is:\n[100]\tvalid_0's multi_logloss: 1.04464\nTraining until validation scores don't improve for 20 rounds\nEarly stopping, best iteration is:\n[55]\tvalid_0's multi_logloss: 0.66217\nTraining until validation scores don't improve for 20 rounds\nEarly stopping, best iteration is:\n[51]\tvalid_0's multi_logloss: 0.675216\nTraining until validation scores don't improve for 20 rounds\nEarly stopping, best iteration is:\n[58]\tvalid_0's multi_logloss: 0.633496\nTraining until validation scores don't improve for 20 rounds\nEarly stopping, best iteration is:\n[61]\tvalid_0's multi_logloss: 0.638441\nTraining until validation scores don't improve for 20 rounds\n",
          "output_type": "stream"
        },
        {
          "name": "stderr",
          "text": "[I 2025-10-05 11:48:14,792] Trial 15 finished with value: 0.7160493827160493 and parameters: {'learning_rate': 0.1198003188220262, 'num_leaves': 97, 'max_depth': 12, 'min_child_samples': 29, 'subsample': 0.650380207875193, 'colsample_bytree': 0.6241343802588284}. Best is trial 7 with value: 0.7173213617658061.\n",
          "output_type": "stream"
        },
        {
          "name": "stdout",
          "text": "Early stopping, best iteration is:\n[57]\tvalid_0's multi_logloss: 0.666825\nTraining until validation scores don't improve for 20 rounds\nEarly stopping, best iteration is:\n[70]\tvalid_0's multi_logloss: 0.657405\nTraining until validation scores don't improve for 20 rounds\nDid not meet early stopping. Best iteration is:\n[84]\tvalid_0's multi_logloss: 0.673501\nTraining until validation scores don't improve for 20 rounds\nDid not meet early stopping. Best iteration is:\n[100]\tvalid_0's multi_logloss: 0.632311\nTraining until validation scores don't improve for 20 rounds\nDid not meet early stopping. Best iteration is:\n[94]\tvalid_0's multi_logloss: 0.628834\nTraining until validation scores don't improve for 20 rounds\n",
          "output_type": "stream"
        },
        {
          "name": "stderr",
          "text": "[I 2025-10-05 11:48:19,269] Trial 16 finished with value: 0.7170968948746727 and parameters: {'learning_rate': 0.07205422162611128, 'num_leaves': 102, 'max_depth': 13, 'min_child_samples': 38, 'subsample': 0.6591417715967576, 'colsample_bytree': 0.6507508170740849}. Best is trial 7 with value: 0.7173213617658061.\n",
          "output_type": "stream"
        },
        {
          "name": "stdout",
          "text": "Did not meet early stopping. Best iteration is:\n[87]\tvalid_0's multi_logloss: 0.662724\nTraining until validation scores don't improve for 20 rounds\nDid not meet early stopping. Best iteration is:\n[99]\tvalid_0's multi_logloss: 0.670769\nTraining until validation scores don't improve for 20 rounds\nDid not meet early stopping. Best iteration is:\n[100]\tvalid_0's multi_logloss: 0.685798\nTraining until validation scores don't improve for 20 rounds\nDid not meet early stopping. Best iteration is:\n[100]\tvalid_0's multi_logloss: 0.646273\nTraining until validation scores don't improve for 20 rounds\nDid not meet early stopping. Best iteration is:\n[100]\tvalid_0's multi_logloss: 0.651341\nTraining until validation scores don't improve for 20 rounds\n",
          "output_type": "stream"
        },
        {
          "name": "stderr",
          "text": "[I 2025-10-05 11:48:22,874] Trial 17 finished with value: 0.7109614665170221 and parameters: {'learning_rate': 0.045290664965310014, 'num_leaves': 101, 'max_depth': 8, 'min_child_samples': 38, 'subsample': 0.6834807945564568, 'colsample_bytree': 0.7193942927373695}. Best is trial 7 with value: 0.7173213617658061.\n",
          "output_type": "stream"
        },
        {
          "name": "stdout",
          "text": "Did not meet early stopping. Best iteration is:\n[100]\tvalid_0's multi_logloss: 0.67511\nTraining until validation scores don't improve for 20 rounds\nEarly stopping, best iteration is:\n[28]\tvalid_0's multi_logloss: 0.66112\nTraining until validation scores don't improve for 20 rounds\nEarly stopping, best iteration is:\n[39]\tvalid_0's multi_logloss: 0.675672\nTraining until validation scores don't improve for 20 rounds\nEarly stopping, best iteration is:\n[51]\tvalid_0's multi_logloss: 0.63585\nTraining until validation scores don't improve for 20 rounds\nEarly stopping, best iteration is:\n[43]\tvalid_0's multi_logloss: 0.64006\nTraining until validation scores don't improve for 20 rounds\n",
          "output_type": "stream"
        },
        {
          "name": "stderr",
          "text": "[I 2025-10-05 11:48:25,619] Trial 18 finished with value: 0.7129816685372241 and parameters: {'learning_rate': 0.13559836362773287, 'num_leaves': 99, 'max_depth': 14, 'min_child_samples': 42, 'subsample': 0.5399556701269588, 'colsample_bytree': 0.7815836621286778}. Best is trial 7 with value: 0.7173213617658061.\n",
          "output_type": "stream"
        },
        {
          "name": "stdout",
          "text": "Early stopping, best iteration is:\n[44]\tvalid_0's multi_logloss: 0.66357\nTraining until validation scores don't improve for 20 rounds\nDid not meet early stopping. Best iteration is:\n[100]\tvalid_0's multi_logloss: 0.713946\nTraining until validation scores don't improve for 20 rounds\nDid not meet early stopping. Best iteration is:\n[100]\tvalid_0's multi_logloss: 0.728204\nTraining until validation scores don't improve for 20 rounds\nDid not meet early stopping. Best iteration is:\n[100]\tvalid_0's multi_logloss: 0.701864\nTraining until validation scores don't improve for 20 rounds\nDid not meet early stopping. Best iteration is:\n[100]\tvalid_0's multi_logloss: 0.70293\nTraining until validation scores don't improve for 20 rounds\n",
          "output_type": "stream"
        },
        {
          "name": "stderr",
          "text": "[I 2025-10-05 11:48:28,117] Trial 19 finished with value: 0.704900860456416 and parameters: {'learning_rate': 0.019983704071889936, 'num_leaves': 29, 'max_depth': 13, 'min_child_samples': 49, 'subsample': 0.7090404460101057, 'colsample_bytree': 0.8863701265097166}. Best is trial 7 with value: 0.7173213617658061.\n",
          "output_type": "stream"
        },
        {
          "name": "stdout",
          "text": "Did not meet early stopping. Best iteration is:\n[100]\tvalid_0's multi_logloss: 0.724189\nTraining until validation scores don't improve for 20 rounds\nDid not meet early stopping. Best iteration is:\n[100]\tvalid_0's multi_logloss: 0.743779\nTraining until validation scores don't improve for 20 rounds\nDid not meet early stopping. Best iteration is:\n[100]\tvalid_0's multi_logloss: 0.753007\nTraining until validation scores don't improve for 20 rounds\nDid not meet early stopping. Best iteration is:\n[100]\tvalid_0's multi_logloss: 0.725253\nTraining until validation scores don't improve for 20 rounds\nDid not meet early stopping. Best iteration is:\n[100]\tvalid_0's multi_logloss: 0.726261\nTraining until validation scores don't improve for 20 rounds\nDid not meet early stopping. Best iteration is:\n[100]\tvalid_0's multi_logloss: 0.748314\n",
          "output_type": "stream"
        },
        {
          "name": "stderr",
          "text": "[I 2025-10-05 11:48:29,139] Trial 20 finished with value: 0.6774410774410774 and parameters: {'learning_rate': 0.051101501464039266, 'num_leaves': 91, 'max_depth': 3, 'min_child_samples': 21, 'subsample': 0.5736562531127283, 'colsample_bytree': 0.6774527774670338}. Best is trial 7 with value: 0.7173213617658061.\n",
          "output_type": "stream"
        },
        {
          "name": "stdout",
          "text": "Training until validation scores don't improve for 20 rounds\nEarly stopping, best iteration is:\n[42]\tvalid_0's multi_logloss: 0.659096\nTraining until validation scores don't improve for 20 rounds\nEarly stopping, best iteration is:\n[41]\tvalid_0's multi_logloss: 0.674082\nTraining until validation scores don't improve for 20 rounds\nEarly stopping, best iteration is:\n[49]\tvalid_0's multi_logloss: 0.633253\nTraining until validation scores don't improve for 20 rounds\nEarly stopping, best iteration is:\n[55]\tvalid_0's multi_logloss: 0.645002\nTraining until validation scores don't improve for 20 rounds\n",
          "output_type": "stream"
        },
        {
          "name": "stderr",
          "text": "[I 2025-10-05 11:48:32,205] Trial 21 finished with value: 0.715001870557426 and parameters: {'learning_rate': 0.12578452250311167, 'num_leaves': 111, 'max_depth': 12, 'min_child_samples': 34, 'subsample': 0.6690457011915492, 'colsample_bytree': 0.6347834105508018}. Best is trial 7 with value: 0.7173213617658061.\n",
          "output_type": "stream"
        },
        {
          "name": "stdout",
          "text": "Early stopping, best iteration is:\n[62]\tvalid_0's multi_logloss: 0.662554\nTraining until validation scores don't improve for 20 rounds\nEarly stopping, best iteration is:\n[40]\tvalid_0's multi_logloss: 0.659268\nTraining until validation scores don't improve for 20 rounds\nEarly stopping, best iteration is:\n[39]\tvalid_0's multi_logloss: 0.682333\nTraining until validation scores don't improve for 20 rounds\nEarly stopping, best iteration is:\n[49]\tvalid_0's multi_logloss: 0.630215\nTraining until validation scores don't improve for 20 rounds\nEarly stopping, best iteration is:\n[45]\tvalid_0's multi_logloss: 0.635602\nTraining until validation scores don't improve for 20 rounds\n",
          "output_type": "stream"
        },
        {
          "name": "stderr",
          "text": "[I 2025-10-05 11:48:34,994] Trial 22 finished with value: 0.7161990273101384 and parameters: {'learning_rate': 0.1364590345716137, 'num_leaves': 91, 'max_depth': 15, 'min_child_samples': 27, 'subsample': 0.6201799698287238, 'colsample_bytree': 0.6159937208393965}. Best is trial 7 with value: 0.7173213617658061.\n",
          "output_type": "stream"
        },
        {
          "name": "stdout",
          "text": "Early stopping, best iteration is:\n[54]\tvalid_0's multi_logloss: 0.663372\nTraining until validation scores don't improve for 20 rounds\nEarly stopping, best iteration is:\n[33]\tvalid_0's multi_logloss: 0.66203\nTraining until validation scores don't improve for 20 rounds\nEarly stopping, best iteration is:\n[38]\tvalid_0's multi_logloss: 0.685276\nTraining until validation scores don't improve for 20 rounds\nEarly stopping, best iteration is:\n[32]\tvalid_0's multi_logloss: 0.641802\nTraining until validation scores don't improve for 20 rounds\nEarly stopping, best iteration is:\n[35]\tvalid_0's multi_logloss: 0.645192\nTraining until validation scores don't improve for 20 rounds\n",
          "output_type": "stream"
        },
        {
          "name": "stderr",
          "text": "[I 2025-10-05 11:48:37,895] Trial 23 finished with value: 0.7175458286569398 and parameters: {'learning_rate': 0.1656477472261641, 'num_leaves': 112, 'max_depth': 15, 'min_child_samples': 13, 'subsample': 0.5848078151470397, 'colsample_bytree': 0.7191904741720603}. Best is trial 23 with value: 0.7175458286569398.\n",
          "output_type": "stream"
        },
        {
          "name": "stdout",
          "text": "Early stopping, best iteration is:\n[37]\tvalid_0's multi_logloss: 0.668938\nTraining until validation scores don't improve for 20 rounds\nEarly stopping, best iteration is:\n[19]\tvalid_0's multi_logloss: 0.668483\nTraining until validation scores don't improve for 20 rounds\nEarly stopping, best iteration is:\n[15]\tvalid_0's multi_logloss: 0.692649\nTraining until validation scores don't improve for 20 rounds\nEarly stopping, best iteration is:\n[17]\tvalid_0's multi_logloss: 0.651585\nTraining until validation scores don't improve for 20 rounds\nEarly stopping, best iteration is:\n[22]\tvalid_0's multi_logloss: 0.648215\nTraining until validation scores don't improve for 20 rounds\n",
          "output_type": "stream"
        },
        {
          "name": "stderr",
          "text": "[I 2025-10-05 11:48:39,969] Trial 24 finished with value: 0.7123082678638234 and parameters: {'learning_rate': 0.28731575281534805, 'num_leaves': 117, 'max_depth': 14, 'min_child_samples': 13, 'subsample': 0.5777867208639923, 'colsample_bytree': 0.7174413640823359}. Best is trial 23 with value: 0.7175458286569398.\n",
          "output_type": "stream"
        },
        {
          "name": "stdout",
          "text": "Early stopping, best iteration is:\n[17]\tvalid_0's multi_logloss: 0.680123\nTraining until validation scores don't improve for 20 rounds\nEarly stopping, best iteration is:\n[67]\tvalid_0's multi_logloss: 0.666486\nTraining until validation scores don't improve for 20 rounds\nDid not meet early stopping. Best iteration is:\n[89]\tvalid_0's multi_logloss: 0.676368\nTraining until validation scores don't improve for 20 rounds\nDid not meet early stopping. Best iteration is:\n[87]\tvalid_0's multi_logloss: 0.631038\nTraining until validation scores don't improve for 20 rounds\nDid not meet early stopping. Best iteration is:\n[100]\tvalid_0's multi_logloss: 0.640317\nTraining until validation scores don't improve for 20 rounds\n",
          "output_type": "stream"
        },
        {
          "name": "stderr",
          "text": "[I 2025-10-05 11:48:45,049] Trial 25 finished with value: 0.7161242050130939 and parameters: {'learning_rate': 0.07196361729795456, 'num_leaves': 119, 'max_depth': 9, 'min_child_samples': 5, 'subsample': 0.7302415897764825, 'colsample_bytree': 0.7634153530039292}. Best is trial 23 with value: 0.7175458286569398.\n",
          "output_type": "stream"
        },
        {
          "name": "stdout",
          "text": "Did not meet early stopping. Best iteration is:\n[87]\tvalid_0's multi_logloss: 0.66661\nTraining until validation scores don't improve for 20 rounds\nEarly stopping, best iteration is:\n[25]\tvalid_0's multi_logloss: 0.662538\nTraining until validation scores don't improve for 20 rounds\nEarly stopping, best iteration is:\n[27]\tvalid_0's multi_logloss: 0.679934\nTraining until validation scores don't improve for 20 rounds\nEarly stopping, best iteration is:\n[32]\tvalid_0's multi_logloss: 0.635592\nTraining until validation scores don't improve for 20 rounds\nEarly stopping, best iteration is:\n[24]\tvalid_0's multi_logloss: 0.64202\nTraining until validation scores don't improve for 20 rounds\n",
          "output_type": "stream"
        },
        {
          "name": "stderr",
          "text": "[I 2025-10-05 11:48:47,865] Trial 26 finished with value: 0.7156752712308269 and parameters: {'learning_rate': 0.17447651678499115, 'num_leaves': 126, 'max_depth': 15, 'min_child_samples': 10, 'subsample': 0.5693302285115125, 'colsample_bytree': 0.8213313946736842}. Best is trial 23 with value: 0.7175458286569398.\n",
          "output_type": "stream"
        },
        {
          "name": "stdout",
          "text": "Early stopping, best iteration is:\n[29]\tvalid_0's multi_logloss: 0.663768\nTraining until validation scores don't improve for 20 rounds\nDid not meet early stopping. Best iteration is:\n[100]\tvalid_0's multi_logloss: 0.663056\nTraining until validation scores don't improve for 20 rounds\nDid not meet early stopping. Best iteration is:\n[100]\tvalid_0's multi_logloss: 0.682218\nTraining until validation scores don't improve for 20 rounds\nDid not meet early stopping. Best iteration is:\n[100]\tvalid_0's multi_logloss: 0.646571\nTraining until validation scores don't improve for 20 rounds\nDid not meet early stopping. Best iteration is:\n[100]\tvalid_0's multi_logloss: 0.651192\nTraining until validation scores don't improve for 20 rounds\n",
          "output_type": "stream"
        },
        {
          "name": "stderr",
          "text": "[I 2025-10-05 11:48:53,249] Trial 27 finished with value: 0.7161242050130939 and parameters: {'learning_rate': 0.02930895600020883, 'num_leaves': 107, 'max_depth': 13, 'min_child_samples': 16, 'subsample': 0.6968860778854251, 'colsample_bytree': 0.6563112335540406}. Best is trial 23 with value: 0.7175458286569398.\n",
          "output_type": "stream"
        },
        {
          "name": "stdout",
          "text": "Did not meet early stopping. Best iteration is:\n[100]\tvalid_0's multi_logloss: 0.674251\nTraining until validation scores don't improve for 20 rounds\nDid not meet early stopping. Best iteration is:\n[100]\tvalid_0's multi_logloss: 0.725353\nTraining until validation scores don't improve for 20 rounds\nDid not meet early stopping. Best iteration is:\n[100]\tvalid_0's multi_logloss: 0.737951\nTraining until validation scores don't improve for 20 rounds\nDid not meet early stopping. Best iteration is:\n[100]\tvalid_0's multi_logloss: 0.715064\nTraining until validation scores don't improve for 20 rounds\nDid not meet early stopping. Best iteration is:\n[100]\tvalid_0's multi_logloss: 0.714734\nTraining until validation scores don't improve for 20 rounds\n",
          "output_type": "stream"
        },
        {
          "name": "stderr",
          "text": "[I 2025-10-05 11:48:58,038] Trial 28 finished with value: 0.7095398428731763 and parameters: {'learning_rate': 0.014447968563766298, 'num_leaves': 88, 'max_depth': 13, 'min_child_samples': 20, 'subsample': 0.7720901855489246, 'colsample_bytree': 0.7104304348976098}. Best is trial 23 with value: 0.7175458286569398.\n",
          "output_type": "stream"
        },
        {
          "name": "stdout",
          "text": "Did not meet early stopping. Best iteration is:\n[100]\tvalid_0's multi_logloss: 0.731492\nTraining until validation scores don't improve for 20 rounds\nEarly stopping, best iteration is:\n[80]\tvalid_0's multi_logloss: 0.656204\nTraining until validation scores don't improve for 20 rounds\nEarly stopping, best iteration is:\n[80]\tvalid_0's multi_logloss: 0.672636\nTraining until validation scores don't improve for 20 rounds\nDid not meet early stopping. Best iteration is:\n[98]\tvalid_0's multi_logloss: 0.633166\nTraining until validation scores don't improve for 20 rounds\nDid not meet early stopping. Best iteration is:\n[95]\tvalid_0's multi_logloss: 0.632534\nTraining until validation scores don't improve for 20 rounds\n",
          "output_type": "stream"
        },
        {
          "name": "stderr",
          "text": "[I 2025-10-05 11:49:03,139] Trial 29 finished with value: 0.716273849607183 and parameters: {'learning_rate': 0.06515194241057828, 'num_leaves': 123, 'max_depth': 11, 'min_child_samples': 25, 'subsample': 0.7417786602239076, 'colsample_bytree': 0.6641592525030026}. Best is trial 23 with value: 0.7175458286569398.\n[I 2025-10-05 11:49:03,140] A new study created in memory with name: no-name-819de572-c779-4cdb-b1e3-79534012d8b5\n",
          "output_type": "stream"
        },
        {
          "name": "stdout",
          "text": "Did not meet early stopping. Best iteration is:\n[95]\tvalid_0's multi_logloss: 0.661779\nLightgbm best params: {'learning_rate': 0.1656477472261641, 'num_leaves': 112, 'max_depth': 15, 'min_child_samples': 13, 'subsample': 0.5848078151470397, 'colsample_bytree': 0.7191904741720603}\n",
          "output_type": "stream"
        },
        {
          "name": "stderr",
          "text": "/usr/local/lib/python3.11/dist-packages/xgboost/sklearn.py:889: UserWarning: `early_stopping_rounds` in `fit` method is deprecated for better compatibility with scikit-learn, use `early_stopping_rounds` in constructor or`set_params` instead.\n  warnings.warn(\n/usr/local/lib/python3.11/dist-packages/xgboost/sklearn.py:889: UserWarning: `early_stopping_rounds` in `fit` method is deprecated for better compatibility with scikit-learn, use `early_stopping_rounds` in constructor or`set_params` instead.\n  warnings.warn(\n/usr/local/lib/python3.11/dist-packages/xgboost/sklearn.py:889: UserWarning: `early_stopping_rounds` in `fit` method is deprecated for better compatibility with scikit-learn, use `early_stopping_rounds` in constructor or`set_params` instead.\n  warnings.warn(\n/usr/local/lib/python3.11/dist-packages/xgboost/sklearn.py:889: UserWarning: `early_stopping_rounds` in `fit` method is deprecated for better compatibility with scikit-learn, use `early_stopping_rounds` in constructor or`set_params` instead.\n  warnings.warn(\n/usr/local/lib/python3.11/dist-packages/xgboost/sklearn.py:889: UserWarning: `early_stopping_rounds` in `fit` method is deprecated for better compatibility with scikit-learn, use `early_stopping_rounds` in constructor or`set_params` instead.\n  warnings.warn(\n[I 2025-10-05 11:49:05,665] Trial 0 finished with value: 0.7099139543583989 and parameters: {'learning_rate': 0.20873187647326455, 'max_depth': 4, 'subsample': 0.7052445393072131, 'colsample_bytree': 0.5857242716948167, 'n_estimators': 160}. Best is trial 0 with value: 0.7099139543583989.\n/usr/local/lib/python3.11/dist-packages/xgboost/sklearn.py:889: UserWarning: `early_stopping_rounds` in `fit` method is deprecated for better compatibility with scikit-learn, use `early_stopping_rounds` in constructor or`set_params` instead.\n  warnings.warn(\n/usr/local/lib/python3.11/dist-packages/xgboost/sklearn.py:889: UserWarning: `early_stopping_rounds` in `fit` method is deprecated for better compatibility with scikit-learn, use `early_stopping_rounds` in constructor or`set_params` instead.\n  warnings.warn(\n/usr/local/lib/python3.11/dist-packages/xgboost/sklearn.py:889: UserWarning: `early_stopping_rounds` in `fit` method is deprecated for better compatibility with scikit-learn, use `early_stopping_rounds` in constructor or`set_params` instead.\n  warnings.warn(\n/usr/local/lib/python3.11/dist-packages/xgboost/sklearn.py:889: UserWarning: `early_stopping_rounds` in `fit` method is deprecated for better compatibility with scikit-learn, use `early_stopping_rounds` in constructor or`set_params` instead.\n  warnings.warn(\n/usr/local/lib/python3.11/dist-packages/xgboost/sklearn.py:889: UserWarning: `early_stopping_rounds` in `fit` method is deprecated for better compatibility with scikit-learn, use `early_stopping_rounds` in constructor or`set_params` instead.\n  warnings.warn(\n[I 2025-10-05 11:49:11,019] Trial 1 finished with value: 0.6870183314627759 and parameters: {'learning_rate': 0.011790061409492326, 'max_depth': 6, 'subsample': 0.9441352917703139, 'colsample_bytree': 0.5820299676514458, 'n_estimators': 204}. Best is trial 0 with value: 0.7099139543583989.\n/usr/local/lib/python3.11/dist-packages/xgboost/sklearn.py:889: UserWarning: `early_stopping_rounds` in `fit` method is deprecated for better compatibility with scikit-learn, use `early_stopping_rounds` in constructor or`set_params` instead.\n  warnings.warn(\n/usr/local/lib/python3.11/dist-packages/xgboost/sklearn.py:889: UserWarning: `early_stopping_rounds` in `fit` method is deprecated for better compatibility with scikit-learn, use `early_stopping_rounds` in constructor or`set_params` instead.\n  warnings.warn(\n/usr/local/lib/python3.11/dist-packages/xgboost/sklearn.py:889: UserWarning: `early_stopping_rounds` in `fit` method is deprecated for better compatibility with scikit-learn, use `early_stopping_rounds` in constructor or`set_params` instead.\n  warnings.warn(\n/usr/local/lib/python3.11/dist-packages/xgboost/sklearn.py:889: UserWarning: `early_stopping_rounds` in `fit` method is deprecated for better compatibility with scikit-learn, use `early_stopping_rounds` in constructor or`set_params` instead.\n  warnings.warn(\n/usr/local/lib/python3.11/dist-packages/xgboost/sklearn.py:889: UserWarning: `early_stopping_rounds` in `fit` method is deprecated for better compatibility with scikit-learn, use `early_stopping_rounds` in constructor or`set_params` instead.\n  warnings.warn(\n[I 2025-10-05 11:49:16,265] Trial 2 finished with value: 0.7183688739244295 and parameters: {'learning_rate': 0.13505933035940546, 'max_depth': 9, 'subsample': 0.7695805373832778, 'colsample_bytree': 0.8543499556504438, 'n_estimators': 204}. Best is trial 2 with value: 0.7183688739244295.\n/usr/local/lib/python3.11/dist-packages/xgboost/sklearn.py:889: UserWarning: `early_stopping_rounds` in `fit` method is deprecated for better compatibility with scikit-learn, use `early_stopping_rounds` in constructor or`set_params` instead.\n  warnings.warn(\n/usr/local/lib/python3.11/dist-packages/xgboost/sklearn.py:889: UserWarning: `early_stopping_rounds` in `fit` method is deprecated for better compatibility with scikit-learn, use `early_stopping_rounds` in constructor or`set_params` instead.\n  warnings.warn(\n/usr/local/lib/python3.11/dist-packages/xgboost/sklearn.py:889: UserWarning: `early_stopping_rounds` in `fit` method is deprecated for better compatibility with scikit-learn, use `early_stopping_rounds` in constructor or`set_params` instead.\n  warnings.warn(\n/usr/local/lib/python3.11/dist-packages/xgboost/sklearn.py:889: UserWarning: `early_stopping_rounds` in `fit` method is deprecated for better compatibility with scikit-learn, use `early_stopping_rounds` in constructor or`set_params` instead.\n  warnings.warn(\n/usr/local/lib/python3.11/dist-packages/xgboost/sklearn.py:889: UserWarning: `early_stopping_rounds` in `fit` method is deprecated for better compatibility with scikit-learn, use `early_stopping_rounds` in constructor or`set_params` instead.\n  warnings.warn(\n[I 2025-10-05 11:49:32,503] Trial 3 finished with value: 0.7150018705574261 and parameters: {'learning_rate': 0.021686117582799376, 'max_depth': 9, 'subsample': 0.8720181993545741, 'colsample_bytree': 0.5275807118573723, 'n_estimators': 299}. Best is trial 2 with value: 0.7183688739244295.\n/usr/local/lib/python3.11/dist-packages/xgboost/sklearn.py:889: UserWarning: `early_stopping_rounds` in `fit` method is deprecated for better compatibility with scikit-learn, use `early_stopping_rounds` in constructor or`set_params` instead.\n  warnings.warn(\n/usr/local/lib/python3.11/dist-packages/xgboost/sklearn.py:889: UserWarning: `early_stopping_rounds` in `fit` method is deprecated for better compatibility with scikit-learn, use `early_stopping_rounds` in constructor or`set_params` instead.\n  warnings.warn(\n/usr/local/lib/python3.11/dist-packages/xgboost/sklearn.py:889: UserWarning: `early_stopping_rounds` in `fit` method is deprecated for better compatibility with scikit-learn, use `early_stopping_rounds` in constructor or`set_params` instead.\n  warnings.warn(\n/usr/local/lib/python3.11/dist-packages/xgboost/sklearn.py:889: UserWarning: `early_stopping_rounds` in `fit` method is deprecated for better compatibility with scikit-learn, use `early_stopping_rounds` in constructor or`set_params` instead.\n  warnings.warn(\n/usr/local/lib/python3.11/dist-packages/xgboost/sklearn.py:889: UserWarning: `early_stopping_rounds` in `fit` method is deprecated for better compatibility with scikit-learn, use `early_stopping_rounds` in constructor or`set_params` instead.\n  warnings.warn(\n[I 2025-10-05 11:49:37,526] Trial 4 finished with value: 0.6913580246913581 and parameters: {'learning_rate': 0.017544588473706817, 'max_depth': 6, 'subsample': 0.665525399412255, 'colsample_bytree': 0.5689071255956295, 'n_estimators': 192}. Best is trial 2 with value: 0.7183688739244295.\n/usr/local/lib/python3.11/dist-packages/xgboost/sklearn.py:889: UserWarning: `early_stopping_rounds` in `fit` method is deprecated for better compatibility with scikit-learn, use `early_stopping_rounds` in constructor or`set_params` instead.\n  warnings.warn(\n/usr/local/lib/python3.11/dist-packages/xgboost/sklearn.py:889: UserWarning: `early_stopping_rounds` in `fit` method is deprecated for better compatibility with scikit-learn, use `early_stopping_rounds` in constructor or`set_params` instead.\n  warnings.warn(\n/usr/local/lib/python3.11/dist-packages/xgboost/sklearn.py:889: UserWarning: `early_stopping_rounds` in `fit` method is deprecated for better compatibility with scikit-learn, use `early_stopping_rounds` in constructor or`set_params` instead.\n  warnings.warn(\n/usr/local/lib/python3.11/dist-packages/xgboost/sklearn.py:889: UserWarning: `early_stopping_rounds` in `fit` method is deprecated for better compatibility with scikit-learn, use `early_stopping_rounds` in constructor or`set_params` instead.\n  warnings.warn(\n/usr/local/lib/python3.11/dist-packages/xgboost/sklearn.py:889: UserWarning: `early_stopping_rounds` in `fit` method is deprecated for better compatibility with scikit-learn, use `early_stopping_rounds` in constructor or`set_params` instead.\n  warnings.warn(\n[I 2025-10-05 11:49:45,245] Trial 5 finished with value: 0.7105125327347549 and parameters: {'learning_rate': 0.026341313857713263, 'max_depth': 6, 'subsample': 0.5787633668172183, 'colsample_bytree': 0.6479942067120326, 'n_estimators': 287}. Best is trial 2 with value: 0.7183688739244295.\n/usr/local/lib/python3.11/dist-packages/xgboost/sklearn.py:889: UserWarning: `early_stopping_rounds` in `fit` method is deprecated for better compatibility with scikit-learn, use `early_stopping_rounds` in constructor or`set_params` instead.\n  warnings.warn(\n/usr/local/lib/python3.11/dist-packages/xgboost/sklearn.py:889: UserWarning: `early_stopping_rounds` in `fit` method is deprecated for better compatibility with scikit-learn, use `early_stopping_rounds` in constructor or`set_params` instead.\n  warnings.warn(\n/usr/local/lib/python3.11/dist-packages/xgboost/sklearn.py:889: UserWarning: `early_stopping_rounds` in `fit` method is deprecated for better compatibility with scikit-learn, use `early_stopping_rounds` in constructor or`set_params` instead.\n  warnings.warn(\n/usr/local/lib/python3.11/dist-packages/xgboost/sklearn.py:889: UserWarning: `early_stopping_rounds` in `fit` method is deprecated for better compatibility with scikit-learn, use `early_stopping_rounds` in constructor or`set_params` instead.\n  warnings.warn(\n/usr/local/lib/python3.11/dist-packages/xgboost/sklearn.py:889: UserWarning: `early_stopping_rounds` in `fit` method is deprecated for better compatibility with scikit-learn, use `early_stopping_rounds` in constructor or`set_params` instead.\n  warnings.warn(\n[I 2025-10-05 11:49:49,037] Trial 6 finished with value: 0.7066965955854845 and parameters: {'learning_rate': 0.04066463207982242, 'max_depth': 8, 'subsample': 0.6878454230608445, 'colsample_bytree': 0.8141879490779176, 'n_estimators': 69}. Best is trial 2 with value: 0.7183688739244295.\n/usr/local/lib/python3.11/dist-packages/xgboost/sklearn.py:889: UserWarning: `early_stopping_rounds` in `fit` method is deprecated for better compatibility with scikit-learn, use `early_stopping_rounds` in constructor or`set_params` instead.\n  warnings.warn(\n/usr/local/lib/python3.11/dist-packages/xgboost/sklearn.py:889: UserWarning: `early_stopping_rounds` in `fit` method is deprecated for better compatibility with scikit-learn, use `early_stopping_rounds` in constructor or`set_params` instead.\n  warnings.warn(\n/usr/local/lib/python3.11/dist-packages/xgboost/sklearn.py:889: UserWarning: `early_stopping_rounds` in `fit` method is deprecated for better compatibility with scikit-learn, use `early_stopping_rounds` in constructor or`set_params` instead.\n  warnings.warn(\n/usr/local/lib/python3.11/dist-packages/xgboost/sklearn.py:889: UserWarning: `early_stopping_rounds` in `fit` method is deprecated for better compatibility with scikit-learn, use `early_stopping_rounds` in constructor or`set_params` instead.\n  warnings.warn(\n/usr/local/lib/python3.11/dist-packages/xgboost/sklearn.py:889: UserWarning: `early_stopping_rounds` in `fit` method is deprecated for better compatibility with scikit-learn, use `early_stopping_rounds` in constructor or`set_params` instead.\n  warnings.warn(\n[I 2025-10-05 11:49:53,343] Trial 7 finished with value: 0.7156004489337822 and parameters: {'learning_rate': 0.15761197309348135, 'max_depth': 10, 'subsample': 0.9939552116505401, 'colsample_bytree': 0.7420007176596146, 'n_estimators': 54}. Best is trial 2 with value: 0.7183688739244295.\n/usr/local/lib/python3.11/dist-packages/xgboost/sklearn.py:889: UserWarning: `early_stopping_rounds` in `fit` method is deprecated for better compatibility with scikit-learn, use `early_stopping_rounds` in constructor or`set_params` instead.\n  warnings.warn(\n/usr/local/lib/python3.11/dist-packages/xgboost/sklearn.py:889: UserWarning: `early_stopping_rounds` in `fit` method is deprecated for better compatibility with scikit-learn, use `early_stopping_rounds` in constructor or`set_params` instead.\n  warnings.warn(\n/usr/local/lib/python3.11/dist-packages/xgboost/sklearn.py:889: UserWarning: `early_stopping_rounds` in `fit` method is deprecated for better compatibility with scikit-learn, use `early_stopping_rounds` in constructor or`set_params` instead.\n  warnings.warn(\n/usr/local/lib/python3.11/dist-packages/xgboost/sklearn.py:889: UserWarning: `early_stopping_rounds` in `fit` method is deprecated for better compatibility with scikit-learn, use `early_stopping_rounds` in constructor or`set_params` instead.\n  warnings.warn(\n/usr/local/lib/python3.11/dist-packages/xgboost/sklearn.py:889: UserWarning: `early_stopping_rounds` in `fit` method is deprecated for better compatibility with scikit-learn, use `early_stopping_rounds` in constructor or`set_params` instead.\n  warnings.warn(\n[I 2025-10-05 11:50:00,802] Trial 8 finished with value: 0.7064721286943509 and parameters: {'learning_rate': 0.022164070351454995, 'max_depth': 6, 'subsample': 0.6671863263575195, 'colsample_bytree': 0.7103815182925446, 'n_estimators': 256}. Best is trial 2 with value: 0.7183688739244295.\n/usr/local/lib/python3.11/dist-packages/xgboost/sklearn.py:889: UserWarning: `early_stopping_rounds` in `fit` method is deprecated for better compatibility with scikit-learn, use `early_stopping_rounds` in constructor or`set_params` instead.\n  warnings.warn(\n/usr/local/lib/python3.11/dist-packages/xgboost/sklearn.py:889: UserWarning: `early_stopping_rounds` in `fit` method is deprecated for better compatibility with scikit-learn, use `early_stopping_rounds` in constructor or`set_params` instead.\n  warnings.warn(\n/usr/local/lib/python3.11/dist-packages/xgboost/sklearn.py:889: UserWarning: `early_stopping_rounds` in `fit` method is deprecated for better compatibility with scikit-learn, use `early_stopping_rounds` in constructor or`set_params` instead.\n  warnings.warn(\n/usr/local/lib/python3.11/dist-packages/xgboost/sklearn.py:889: UserWarning: `early_stopping_rounds` in `fit` method is deprecated for better compatibility with scikit-learn, use `early_stopping_rounds` in constructor or`set_params` instead.\n  warnings.warn(\n/usr/local/lib/python3.11/dist-packages/xgboost/sklearn.py:889: UserWarning: `early_stopping_rounds` in `fit` method is deprecated for better compatibility with scikit-learn, use `early_stopping_rounds` in constructor or`set_params` instead.\n  warnings.warn(\n[I 2025-10-05 11:50:07,522] Trial 9 finished with value: 0.6995136550692106 and parameters: {'learning_rate': 0.018613439689496847, 'max_depth': 6, 'subsample': 0.609825952253858, 'colsample_bytree': 0.8856628665060381, 'n_estimators': 221}. Best is trial 2 with value: 0.7183688739244295.\n/usr/local/lib/python3.11/dist-packages/xgboost/sklearn.py:889: UserWarning: `early_stopping_rounds` in `fit` method is deprecated for better compatibility with scikit-learn, use `early_stopping_rounds` in constructor or`set_params` instead.\n  warnings.warn(\n/usr/local/lib/python3.11/dist-packages/xgboost/sklearn.py:889: UserWarning: `early_stopping_rounds` in `fit` method is deprecated for better compatibility with scikit-learn, use `early_stopping_rounds` in constructor or`set_params` instead.\n  warnings.warn(\n/usr/local/lib/python3.11/dist-packages/xgboost/sklearn.py:889: UserWarning: `early_stopping_rounds` in `fit` method is deprecated for better compatibility with scikit-learn, use `early_stopping_rounds` in constructor or`set_params` instead.\n  warnings.warn(\n/usr/local/lib/python3.11/dist-packages/xgboost/sklearn.py:889: UserWarning: `early_stopping_rounds` in `fit` method is deprecated for better compatibility with scikit-learn, use `early_stopping_rounds` in constructor or`set_params` instead.\n  warnings.warn(\n/usr/local/lib/python3.11/dist-packages/xgboost/sklearn.py:889: UserWarning: `early_stopping_rounds` in `fit` method is deprecated for better compatibility with scikit-learn, use `early_stopping_rounds` in constructor or`set_params` instead.\n  warnings.warn(\n[I 2025-10-05 11:50:15,443] Trial 10 finished with value: 0.6925551814440704 and parameters: {'learning_rate': 0.0011262848684055653, 'max_depth': 8, 'subsample': 0.7995315472551379, 'colsample_bytree': 0.990786517434121, 'n_estimators': 130}. Best is trial 2 with value: 0.7183688739244295.\n/usr/local/lib/python3.11/dist-packages/xgboost/sklearn.py:889: UserWarning: `early_stopping_rounds` in `fit` method is deprecated for better compatibility with scikit-learn, use `early_stopping_rounds` in constructor or`set_params` instead.\n  warnings.warn(\n/usr/local/lib/python3.11/dist-packages/xgboost/sklearn.py:889: UserWarning: `early_stopping_rounds` in `fit` method is deprecated for better compatibility with scikit-learn, use `early_stopping_rounds` in constructor or`set_params` instead.\n  warnings.warn(\n/usr/local/lib/python3.11/dist-packages/xgboost/sklearn.py:889: UserWarning: `early_stopping_rounds` in `fit` method is deprecated for better compatibility with scikit-learn, use `early_stopping_rounds` in constructor or`set_params` instead.\n  warnings.warn(\n/usr/local/lib/python3.11/dist-packages/xgboost/sklearn.py:889: UserWarning: `early_stopping_rounds` in `fit` method is deprecated for better compatibility with scikit-learn, use `early_stopping_rounds` in constructor or`set_params` instead.\n  warnings.warn(\n/usr/local/lib/python3.11/dist-packages/xgboost/sklearn.py:889: UserWarning: `early_stopping_rounds` in `fit` method is deprecated for better compatibility with scikit-learn, use `early_stopping_rounds` in constructor or`set_params` instead.\n  warnings.warn(\n[I 2025-10-05 11:50:18,703] Trial 11 finished with value: 0.7151515151515151 and parameters: {'learning_rate': 0.2913357704737845, 'max_depth': 10, 'subsample': 0.9831081391506706, 'colsample_bytree': 0.799082897284735, 'n_estimators': 53}. Best is trial 2 with value: 0.7183688739244295.\n/usr/local/lib/python3.11/dist-packages/xgboost/sklearn.py:889: UserWarning: `early_stopping_rounds` in `fit` method is deprecated for better compatibility with scikit-learn, use `early_stopping_rounds` in constructor or`set_params` instead.\n  warnings.warn(\n/usr/local/lib/python3.11/dist-packages/xgboost/sklearn.py:889: UserWarning: `early_stopping_rounds` in `fit` method is deprecated for better compatibility with scikit-learn, use `early_stopping_rounds` in constructor or`set_params` instead.\n  warnings.warn(\n/usr/local/lib/python3.11/dist-packages/xgboost/sklearn.py:889: UserWarning: `early_stopping_rounds` in `fit` method is deprecated for better compatibility with scikit-learn, use `early_stopping_rounds` in constructor or`set_params` instead.\n  warnings.warn(\n/usr/local/lib/python3.11/dist-packages/xgboost/sklearn.py:889: UserWarning: `early_stopping_rounds` in `fit` method is deprecated for better compatibility with scikit-learn, use `early_stopping_rounds` in constructor or`set_params` instead.\n  warnings.warn(\n/usr/local/lib/python3.11/dist-packages/xgboost/sklearn.py:889: UserWarning: `early_stopping_rounds` in `fit` method is deprecated for better compatibility with scikit-learn, use `early_stopping_rounds` in constructor or`set_params` instead.\n  warnings.warn(\n[I 2025-10-05 11:50:27,186] Trial 12 finished with value: 0.7192667414889636 and parameters: {'learning_rate': 0.07838876154860155, 'max_depth': 10, 'subsample': 0.5069562774397454, 'colsample_bytree': 0.8855807183802153, 'n_estimators': 113}. Best is trial 12 with value: 0.7192667414889636.\n/usr/local/lib/python3.11/dist-packages/xgboost/sklearn.py:889: UserWarning: `early_stopping_rounds` in `fit` method is deprecated for better compatibility with scikit-learn, use `early_stopping_rounds` in constructor or`set_params` instead.\n  warnings.warn(\n/usr/local/lib/python3.11/dist-packages/xgboost/sklearn.py:889: UserWarning: `early_stopping_rounds` in `fit` method is deprecated for better compatibility with scikit-learn, use `early_stopping_rounds` in constructor or`set_params` instead.\n  warnings.warn(\n/usr/local/lib/python3.11/dist-packages/xgboost/sklearn.py:889: UserWarning: `early_stopping_rounds` in `fit` method is deprecated for better compatibility with scikit-learn, use `early_stopping_rounds` in constructor or`set_params` instead.\n  warnings.warn(\n/usr/local/lib/python3.11/dist-packages/xgboost/sklearn.py:889: UserWarning: `early_stopping_rounds` in `fit` method is deprecated for better compatibility with scikit-learn, use `early_stopping_rounds` in constructor or`set_params` instead.\n  warnings.warn(\n/usr/local/lib/python3.11/dist-packages/xgboost/sklearn.py:889: UserWarning: `early_stopping_rounds` in `fit` method is deprecated for better compatibility with scikit-learn, use `early_stopping_rounds` in constructor or`set_params` instead.\n  warnings.warn(\n[I 2025-10-05 11:50:33,112] Trial 13 finished with value: 0.7182192293303404 and parameters: {'learning_rate': 0.07095426954214716, 'max_depth': 8, 'subsample': 0.5222837538067142, 'colsample_bytree': 0.921664380977879, 'n_estimators': 110}. Best is trial 12 with value: 0.7192667414889636.\n/usr/local/lib/python3.11/dist-packages/xgboost/sklearn.py:889: UserWarning: `early_stopping_rounds` in `fit` method is deprecated for better compatibility with scikit-learn, use `early_stopping_rounds` in constructor or`set_params` instead.\n  warnings.warn(\n/usr/local/lib/python3.11/dist-packages/xgboost/sklearn.py:889: UserWarning: `early_stopping_rounds` in `fit` method is deprecated for better compatibility with scikit-learn, use `early_stopping_rounds` in constructor or`set_params` instead.\n  warnings.warn(\n/usr/local/lib/python3.11/dist-packages/xgboost/sklearn.py:889: UserWarning: `early_stopping_rounds` in `fit` method is deprecated for better compatibility with scikit-learn, use `early_stopping_rounds` in constructor or`set_params` instead.\n  warnings.warn(\n/usr/local/lib/python3.11/dist-packages/xgboost/sklearn.py:889: UserWarning: `early_stopping_rounds` in `fit` method is deprecated for better compatibility with scikit-learn, use `early_stopping_rounds` in constructor or`set_params` instead.\n  warnings.warn(\n/usr/local/lib/python3.11/dist-packages/xgboost/sklearn.py:889: UserWarning: `early_stopping_rounds` in `fit` method is deprecated for better compatibility with scikit-learn, use `early_stopping_rounds` in constructor or`set_params` instead.\n  warnings.warn(\n[I 2025-10-05 11:50:41,251] Trial 14 finished with value: 0.718294051627385 and parameters: {'learning_rate': 0.0901571274804921, 'max_depth': 9, 'subsample': 0.7945285486724984, 'colsample_bytree': 0.8726136909115909, 'n_estimators': 146}. Best is trial 12 with value: 0.7192667414889636.\n/usr/local/lib/python3.11/dist-packages/xgboost/sklearn.py:889: UserWarning: `early_stopping_rounds` in `fit` method is deprecated for better compatibility with scikit-learn, use `early_stopping_rounds` in constructor or`set_params` instead.\n  warnings.warn(\n/usr/local/lib/python3.11/dist-packages/xgboost/sklearn.py:889: UserWarning: `early_stopping_rounds` in `fit` method is deprecated for better compatibility with scikit-learn, use `early_stopping_rounds` in constructor or`set_params` instead.\n  warnings.warn(\n/usr/local/lib/python3.11/dist-packages/xgboost/sklearn.py:889: UserWarning: `early_stopping_rounds` in `fit` method is deprecated for better compatibility with scikit-learn, use `early_stopping_rounds` in constructor or`set_params` instead.\n  warnings.warn(\n/usr/local/lib/python3.11/dist-packages/xgboost/sklearn.py:889: UserWarning: `early_stopping_rounds` in `fit` method is deprecated for better compatibility with scikit-learn, use `early_stopping_rounds` in constructor or`set_params` instead.\n  warnings.warn(\n/usr/local/lib/python3.11/dist-packages/xgboost/sklearn.py:889: UserWarning: `early_stopping_rounds` in `fit` method is deprecated for better compatibility with scikit-learn, use `early_stopping_rounds` in constructor or`set_params` instead.\n  warnings.warn(\n[I 2025-10-05 11:50:50,534] Trial 15 finished with value: 0.708492330714553 and parameters: {'learning_rate': 0.006241191240009638, 'max_depth': 10, 'subsample': 0.5067982384159837, 'colsample_bytree': 0.9795013864982471, 'n_estimators': 101}. Best is trial 12 with value: 0.7192667414889636.\n/usr/local/lib/python3.11/dist-packages/xgboost/sklearn.py:889: UserWarning: `early_stopping_rounds` in `fit` method is deprecated for better compatibility with scikit-learn, use `early_stopping_rounds` in constructor or`set_params` instead.\n  warnings.warn(\n/usr/local/lib/python3.11/dist-packages/xgboost/sklearn.py:889: UserWarning: `early_stopping_rounds` in `fit` method is deprecated for better compatibility with scikit-learn, use `early_stopping_rounds` in constructor or`set_params` instead.\n  warnings.warn(\n/usr/local/lib/python3.11/dist-packages/xgboost/sklearn.py:889: UserWarning: `early_stopping_rounds` in `fit` method is deprecated for better compatibility with scikit-learn, use `early_stopping_rounds` in constructor or`set_params` instead.\n  warnings.warn(\n/usr/local/lib/python3.11/dist-packages/xgboost/sklearn.py:889: UserWarning: `early_stopping_rounds` in `fit` method is deprecated for better compatibility with scikit-learn, use `early_stopping_rounds` in constructor or`set_params` instead.\n  warnings.warn(\n/usr/local/lib/python3.11/dist-packages/xgboost/sklearn.py:889: UserWarning: `early_stopping_rounds` in `fit` method is deprecated for better compatibility with scikit-learn, use `early_stopping_rounds` in constructor or`set_params` instead.\n  warnings.warn(\n[I 2025-10-05 11:50:54,066] Trial 16 finished with value: 0.7010849233071454 and parameters: {'learning_rate': 0.08879727365430132, 'max_depth': 3, 'subsample': 0.7580888614317118, 'colsample_bytree': 0.8217431686199274, 'n_estimators': 248}. Best is trial 12 with value: 0.7192667414889636.\n/usr/local/lib/python3.11/dist-packages/xgboost/sklearn.py:889: UserWarning: `early_stopping_rounds` in `fit` method is deprecated for better compatibility with scikit-learn, use `early_stopping_rounds` in constructor or`set_params` instead.\n  warnings.warn(\n/usr/local/lib/python3.11/dist-packages/xgboost/sklearn.py:889: UserWarning: `early_stopping_rounds` in `fit` method is deprecated for better compatibility with scikit-learn, use `early_stopping_rounds` in constructor or`set_params` instead.\n  warnings.warn(\n/usr/local/lib/python3.11/dist-packages/xgboost/sklearn.py:889: UserWarning: `early_stopping_rounds` in `fit` method is deprecated for better compatibility with scikit-learn, use `early_stopping_rounds` in constructor or`set_params` instead.\n  warnings.warn(\n/usr/local/lib/python3.11/dist-packages/xgboost/sklearn.py:889: UserWarning: `early_stopping_rounds` in `fit` method is deprecated for better compatibility with scikit-learn, use `early_stopping_rounds` in constructor or`set_params` instead.\n  warnings.warn(\n/usr/local/lib/python3.11/dist-packages/xgboost/sklearn.py:889: UserWarning: `early_stopping_rounds` in `fit` method is deprecated for better compatibility with scikit-learn, use `early_stopping_rounds` in constructor or`set_params` instead.\n  warnings.warn(\n[I 2025-10-05 11:50:59,815] Trial 17 finished with value: 0.7179947624392069 and parameters: {'learning_rate': 0.13136836941379676, 'max_depth': 9, 'subsample': 0.8692386973144424, 'colsample_bytree': 0.9274039607531397, 'n_estimators': 175}. Best is trial 12 with value: 0.7192667414889636.\n/usr/local/lib/python3.11/dist-packages/xgboost/sklearn.py:889: UserWarning: `early_stopping_rounds` in `fit` method is deprecated for better compatibility with scikit-learn, use `early_stopping_rounds` in constructor or`set_params` instead.\n  warnings.warn(\n/usr/local/lib/python3.11/dist-packages/xgboost/sklearn.py:889: UserWarning: `early_stopping_rounds` in `fit` method is deprecated for better compatibility with scikit-learn, use `early_stopping_rounds` in constructor or`set_params` instead.\n  warnings.warn(\n/usr/local/lib/python3.11/dist-packages/xgboost/sklearn.py:889: UserWarning: `early_stopping_rounds` in `fit` method is deprecated for better compatibility with scikit-learn, use `early_stopping_rounds` in constructor or`set_params` instead.\n  warnings.warn(\n/usr/local/lib/python3.11/dist-packages/xgboost/sklearn.py:889: UserWarning: `early_stopping_rounds` in `fit` method is deprecated for better compatibility with scikit-learn, use `early_stopping_rounds` in constructor or`set_params` instead.\n  warnings.warn(\n/usr/local/lib/python3.11/dist-packages/xgboost/sklearn.py:889: UserWarning: `early_stopping_rounds` in `fit` method is deprecated for better compatibility with scikit-learn, use `early_stopping_rounds` in constructor or`set_params` instead.\n  warnings.warn(\n[I 2025-10-05 11:51:03,436] Trial 18 finished with value: 0.7079685746352413 and parameters: {'learning_rate': 0.04877906310686673, 'max_depth': 7, 'subsample': 0.8549537573006285, 'colsample_bytree': 0.6836859805462199, 'n_estimators': 97}. Best is trial 12 with value: 0.7192667414889636.\n/usr/local/lib/python3.11/dist-packages/xgboost/sklearn.py:889: UserWarning: `early_stopping_rounds` in `fit` method is deprecated for better compatibility with scikit-learn, use `early_stopping_rounds` in constructor or`set_params` instead.\n  warnings.warn(\n/usr/local/lib/python3.11/dist-packages/xgboost/sklearn.py:889: UserWarning: `early_stopping_rounds` in `fit` method is deprecated for better compatibility with scikit-learn, use `early_stopping_rounds` in constructor or`set_params` instead.\n  warnings.warn(\n/usr/local/lib/python3.11/dist-packages/xgboost/sklearn.py:889: UserWarning: `early_stopping_rounds` in `fit` method is deprecated for better compatibility with scikit-learn, use `early_stopping_rounds` in constructor or`set_params` instead.\n  warnings.warn(\n/usr/local/lib/python3.11/dist-packages/xgboost/sklearn.py:889: UserWarning: `early_stopping_rounds` in `fit` method is deprecated for better compatibility with scikit-learn, use `early_stopping_rounds` in constructor or`set_params` instead.\n  warnings.warn(\n/usr/local/lib/python3.11/dist-packages/xgboost/sklearn.py:889: UserWarning: `early_stopping_rounds` in `fit` method is deprecated for better compatibility with scikit-learn, use `early_stopping_rounds` in constructor or`set_params` instead.\n  warnings.warn(\n[I 2025-10-05 11:51:12,196] Trial 19 finished with value: 0.7015338570894126 and parameters: {'learning_rate': 0.0069741520447416105, 'max_depth': 9, 'subsample': 0.6014665439994374, 'colsample_bytree': 0.7826428485938811, 'n_estimators': 133}. Best is trial 12 with value: 0.7192667414889636.\n/usr/local/lib/python3.11/dist-packages/xgboost/sklearn.py:889: UserWarning: `early_stopping_rounds` in `fit` method is deprecated for better compatibility with scikit-learn, use `early_stopping_rounds` in constructor or`set_params` instead.\n  warnings.warn(\n/usr/local/lib/python3.11/dist-packages/xgboost/sklearn.py:889: UserWarning: `early_stopping_rounds` in `fit` method is deprecated for better compatibility with scikit-learn, use `early_stopping_rounds` in constructor or`set_params` instead.\n  warnings.warn(\n/usr/local/lib/python3.11/dist-packages/xgboost/sklearn.py:889: UserWarning: `early_stopping_rounds` in `fit` method is deprecated for better compatibility with scikit-learn, use `early_stopping_rounds` in constructor or`set_params` instead.\n  warnings.warn(\n/usr/local/lib/python3.11/dist-packages/xgboost/sklearn.py:889: UserWarning: `early_stopping_rounds` in `fit` method is deprecated for better compatibility with scikit-learn, use `early_stopping_rounds` in constructor or`set_params` instead.\n  warnings.warn(\n/usr/local/lib/python3.11/dist-packages/xgboost/sklearn.py:889: UserWarning: `early_stopping_rounds` in `fit` method is deprecated for better compatibility with scikit-learn, use `early_stopping_rounds` in constructor or`set_params` instead.\n  warnings.warn(\n[I 2025-10-05 11:51:22,275] Trial 20 finished with value: 0.687317620650954 and parameters: {'learning_rate': 0.0020586440812736632, 'max_depth': 7, 'subsample': 0.7413208296470587, 'colsample_bytree': 0.8489938221554663, 'n_estimators': 240}. Best is trial 12 with value: 0.7192667414889636.\n/usr/local/lib/python3.11/dist-packages/xgboost/sklearn.py:889: UserWarning: `early_stopping_rounds` in `fit` method is deprecated for better compatibility with scikit-learn, use `early_stopping_rounds` in constructor or`set_params` instead.\n  warnings.warn(\n/usr/local/lib/python3.11/dist-packages/xgboost/sklearn.py:889: UserWarning: `early_stopping_rounds` in `fit` method is deprecated for better compatibility with scikit-learn, use `early_stopping_rounds` in constructor or`set_params` instead.\n  warnings.warn(\n/usr/local/lib/python3.11/dist-packages/xgboost/sklearn.py:889: UserWarning: `early_stopping_rounds` in `fit` method is deprecated for better compatibility with scikit-learn, use `early_stopping_rounds` in constructor or`set_params` instead.\n  warnings.warn(\n/usr/local/lib/python3.11/dist-packages/xgboost/sklearn.py:889: UserWarning: `early_stopping_rounds` in `fit` method is deprecated for better compatibility with scikit-learn, use `early_stopping_rounds` in constructor or`set_params` instead.\n  warnings.warn(\n/usr/local/lib/python3.11/dist-packages/xgboost/sklearn.py:889: UserWarning: `early_stopping_rounds` in `fit` method is deprecated for better compatibility with scikit-learn, use `early_stopping_rounds` in constructor or`set_params` instead.\n  warnings.warn(\n[I 2025-10-05 11:51:29,845] Trial 21 finished with value: 0.7182192293303403 and parameters: {'learning_rate': 0.09538793677744242, 'max_depth': 9, 'subsample': 0.810365384066661, 'colsample_bytree': 0.8764520282641484, 'n_estimators': 152}. Best is trial 12 with value: 0.7192667414889636.\n/usr/local/lib/python3.11/dist-packages/xgboost/sklearn.py:889: UserWarning: `early_stopping_rounds` in `fit` method is deprecated for better compatibility with scikit-learn, use `early_stopping_rounds` in constructor or`set_params` instead.\n  warnings.warn(\n/usr/local/lib/python3.11/dist-packages/xgboost/sklearn.py:889: UserWarning: `early_stopping_rounds` in `fit` method is deprecated for better compatibility with scikit-learn, use `early_stopping_rounds` in constructor or`set_params` instead.\n  warnings.warn(\n/usr/local/lib/python3.11/dist-packages/xgboost/sklearn.py:889: UserWarning: `early_stopping_rounds` in `fit` method is deprecated for better compatibility with scikit-learn, use `early_stopping_rounds` in constructor or`set_params` instead.\n  warnings.warn(\n/usr/local/lib/python3.11/dist-packages/xgboost/sklearn.py:889: UserWarning: `early_stopping_rounds` in `fit` method is deprecated for better compatibility with scikit-learn, use `early_stopping_rounds` in constructor or`set_params` instead.\n  warnings.warn(\n/usr/local/lib/python3.11/dist-packages/xgboost/sklearn.py:889: UserWarning: `early_stopping_rounds` in `fit` method is deprecated for better compatibility with scikit-learn, use `early_stopping_rounds` in constructor or`set_params` instead.\n  warnings.warn(\n[I 2025-10-05 11:51:41,751] Trial 22 finished with value: 0.7209128320239431 and parameters: {'learning_rate': 0.054592705030006815, 'max_depth': 10, 'subsample': 0.8011404391902123, 'colsample_bytree': 0.9129169820544668, 'n_estimators': 135}. Best is trial 22 with value: 0.7209128320239431.\n/usr/local/lib/python3.11/dist-packages/xgboost/sklearn.py:889: UserWarning: `early_stopping_rounds` in `fit` method is deprecated for better compatibility with scikit-learn, use `early_stopping_rounds` in constructor or`set_params` instead.\n  warnings.warn(\n/usr/local/lib/python3.11/dist-packages/xgboost/sklearn.py:889: UserWarning: `early_stopping_rounds` in `fit` method is deprecated for better compatibility with scikit-learn, use `early_stopping_rounds` in constructor or`set_params` instead.\n  warnings.warn(\n/usr/local/lib/python3.11/dist-packages/xgboost/sklearn.py:889: UserWarning: `early_stopping_rounds` in `fit` method is deprecated for better compatibility with scikit-learn, use `early_stopping_rounds` in constructor or`set_params` instead.\n  warnings.warn(\n/usr/local/lib/python3.11/dist-packages/xgboost/sklearn.py:889: UserWarning: `early_stopping_rounds` in `fit` method is deprecated for better compatibility with scikit-learn, use `early_stopping_rounds` in constructor or`set_params` instead.\n  warnings.warn(\n/usr/local/lib/python3.11/dist-packages/xgboost/sklearn.py:889: UserWarning: `early_stopping_rounds` in `fit` method is deprecated for better compatibility with scikit-learn, use `early_stopping_rounds` in constructor or`set_params` instead.\n  warnings.warn(\n[I 2025-10-05 11:51:50,192] Trial 23 finished with value: 0.7167227833894501 and parameters: {'learning_rate': 0.04970434596872234, 'max_depth': 10, 'subsample': 0.9148186921781485, 'colsample_bytree': 0.9380265339665658, 'n_estimators': 84}. Best is trial 22 with value: 0.7209128320239431.\n/usr/local/lib/python3.11/dist-packages/xgboost/sklearn.py:889: UserWarning: `early_stopping_rounds` in `fit` method is deprecated for better compatibility with scikit-learn, use `early_stopping_rounds` in constructor or`set_params` instead.\n  warnings.warn(\n/usr/local/lib/python3.11/dist-packages/xgboost/sklearn.py:889: UserWarning: `early_stopping_rounds` in `fit` method is deprecated for better compatibility with scikit-learn, use `early_stopping_rounds` in constructor or`set_params` instead.\n  warnings.warn(\n/usr/local/lib/python3.11/dist-packages/xgboost/sklearn.py:889: UserWarning: `early_stopping_rounds` in `fit` method is deprecated for better compatibility with scikit-learn, use `early_stopping_rounds` in constructor or`set_params` instead.\n  warnings.warn(\n/usr/local/lib/python3.11/dist-packages/xgboost/sklearn.py:889: UserWarning: `early_stopping_rounds` in `fit` method is deprecated for better compatibility with scikit-learn, use `early_stopping_rounds` in constructor or`set_params` instead.\n  warnings.warn(\n/usr/local/lib/python3.11/dist-packages/xgboost/sklearn.py:889: UserWarning: `early_stopping_rounds` in `fit` method is deprecated for better compatibility with scikit-learn, use `early_stopping_rounds` in constructor or`set_params` instead.\n  warnings.warn(\n[I 2025-10-05 11:51:55,308] Trial 24 finished with value: 0.7162738496071829 and parameters: {'learning_rate': 0.1680244956077731, 'max_depth': 10, 'subsample': 0.7377486273282358, 'colsample_bytree': 0.9367960405848179, 'n_estimators': 121}. Best is trial 22 with value: 0.7209128320239431.\n/usr/local/lib/python3.11/dist-packages/xgboost/sklearn.py:889: UserWarning: `early_stopping_rounds` in `fit` method is deprecated for better compatibility with scikit-learn, use `early_stopping_rounds` in constructor or`set_params` instead.\n  warnings.warn(\n/usr/local/lib/python3.11/dist-packages/xgboost/sklearn.py:889: UserWarning: `early_stopping_rounds` in `fit` method is deprecated for better compatibility with scikit-learn, use `early_stopping_rounds` in constructor or`set_params` instead.\n  warnings.warn(\n/usr/local/lib/python3.11/dist-packages/xgboost/sklearn.py:889: UserWarning: `early_stopping_rounds` in `fit` method is deprecated for better compatibility with scikit-learn, use `early_stopping_rounds` in constructor or`set_params` instead.\n  warnings.warn(\n/usr/local/lib/python3.11/dist-packages/xgboost/sklearn.py:889: UserWarning: `early_stopping_rounds` in `fit` method is deprecated for better compatibility with scikit-learn, use `early_stopping_rounds` in constructor or`set_params` instead.\n  warnings.warn(\n/usr/local/lib/python3.11/dist-packages/xgboost/sklearn.py:889: UserWarning: `early_stopping_rounds` in `fit` method is deprecated for better compatibility with scikit-learn, use `early_stopping_rounds` in constructor or`set_params` instead.\n  warnings.warn(\n[I 2025-10-05 11:52:03,884] Trial 25 finished with value: 0.7158249158249158 and parameters: {'learning_rate': 0.03763657581434325, 'max_depth': 8, 'subsample': 0.8271575491206691, 'colsample_bytree': 0.7614298212368913, 'n_estimators': 172}. Best is trial 22 with value: 0.7209128320239431.\n/usr/local/lib/python3.11/dist-packages/xgboost/sklearn.py:889: UserWarning: `early_stopping_rounds` in `fit` method is deprecated for better compatibility with scikit-learn, use `early_stopping_rounds` in constructor or`set_params` instead.\n  warnings.warn(\n/usr/local/lib/python3.11/dist-packages/xgboost/sklearn.py:889: UserWarning: `early_stopping_rounds` in `fit` method is deprecated for better compatibility with scikit-learn, use `early_stopping_rounds` in constructor or`set_params` instead.\n  warnings.warn(\n/usr/local/lib/python3.11/dist-packages/xgboost/sklearn.py:889: UserWarning: `early_stopping_rounds` in `fit` method is deprecated for better compatibility with scikit-learn, use `early_stopping_rounds` in constructor or`set_params` instead.\n  warnings.warn(\n/usr/local/lib/python3.11/dist-packages/xgboost/sklearn.py:889: UserWarning: `early_stopping_rounds` in `fit` method is deprecated for better compatibility with scikit-learn, use `early_stopping_rounds` in constructor or`set_params` instead.\n  warnings.warn(\n/usr/local/lib/python3.11/dist-packages/xgboost/sklearn.py:889: UserWarning: `early_stopping_rounds` in `fit` method is deprecated for better compatibility with scikit-learn, use `early_stopping_rounds` in constructor or`set_params` instead.\n  warnings.warn(\n[I 2025-10-05 11:52:14,476] Trial 26 finished with value: 0.7208380097268987 and parameters: {'learning_rate': 0.06698829929352057, 'max_depth': 10, 'subsample': 0.7654400529814206, 'colsample_bytree': 0.8537490957028712, 'n_estimators': 197}. Best is trial 22 with value: 0.7209128320239431.\n/usr/local/lib/python3.11/dist-packages/xgboost/sklearn.py:889: UserWarning: `early_stopping_rounds` in `fit` method is deprecated for better compatibility with scikit-learn, use `early_stopping_rounds` in constructor or`set_params` instead.\n  warnings.warn(\n/usr/local/lib/python3.11/dist-packages/xgboost/sklearn.py:889: UserWarning: `early_stopping_rounds` in `fit` method is deprecated for better compatibility with scikit-learn, use `early_stopping_rounds` in constructor or`set_params` instead.\n  warnings.warn(\n/usr/local/lib/python3.11/dist-packages/xgboost/sklearn.py:889: UserWarning: `early_stopping_rounds` in `fit` method is deprecated for better compatibility with scikit-learn, use `early_stopping_rounds` in constructor or`set_params` instead.\n  warnings.warn(\n/usr/local/lib/python3.11/dist-packages/xgboost/sklearn.py:889: UserWarning: `early_stopping_rounds` in `fit` method is deprecated for better compatibility with scikit-learn, use `early_stopping_rounds` in constructor or`set_params` instead.\n  warnings.warn(\n/usr/local/lib/python3.11/dist-packages/xgboost/sklearn.py:889: UserWarning: `early_stopping_rounds` in `fit` method is deprecated for better compatibility with scikit-learn, use `early_stopping_rounds` in constructor or`set_params` instead.\n  warnings.warn(\n[I 2025-10-05 11:52:26,017] Trial 27 finished with value: 0.7232323232323232 and parameters: {'learning_rate': 0.06407845536188769, 'max_depth': 10, 'subsample': 0.6367951683747665, 'colsample_bytree': 0.9069731639862751, 'n_estimators': 186}. Best is trial 27 with value: 0.7232323232323232.\n/usr/local/lib/python3.11/dist-packages/xgboost/sklearn.py:889: UserWarning: `early_stopping_rounds` in `fit` method is deprecated for better compatibility with scikit-learn, use `early_stopping_rounds` in constructor or`set_params` instead.\n  warnings.warn(\n/usr/local/lib/python3.11/dist-packages/xgboost/sklearn.py:889: UserWarning: `early_stopping_rounds` in `fit` method is deprecated for better compatibility with scikit-learn, use `early_stopping_rounds` in constructor or`set_params` instead.\n  warnings.warn(\n/usr/local/lib/python3.11/dist-packages/xgboost/sklearn.py:889: UserWarning: `early_stopping_rounds` in `fit` method is deprecated for better compatibility with scikit-learn, use `early_stopping_rounds` in constructor or`set_params` instead.\n  warnings.warn(\n/usr/local/lib/python3.11/dist-packages/xgboost/sklearn.py:889: UserWarning: `early_stopping_rounds` in `fit` method is deprecated for better compatibility with scikit-learn, use `early_stopping_rounds` in constructor or`set_params` instead.\n  warnings.warn(\n/usr/local/lib/python3.11/dist-packages/xgboost/sklearn.py:889: UserWarning: `early_stopping_rounds` in `fit` method is deprecated for better compatibility with scikit-learn, use `early_stopping_rounds` in constructor or`set_params` instead.\n  warnings.warn(\n[I 2025-10-05 11:52:29,660] Trial 28 finished with value: 0.6732510288065845 and parameters: {'learning_rate': 0.010831472548782892, 'max_depth': 4, 'subsample': 0.6313929108617453, 'colsample_bytree': 0.9702580725564613, 'n_estimators': 188}. Best is trial 27 with value: 0.7232323232323232.\n/usr/local/lib/python3.11/dist-packages/xgboost/sklearn.py:889: UserWarning: `early_stopping_rounds` in `fit` method is deprecated for better compatibility with scikit-learn, use `early_stopping_rounds` in constructor or`set_params` instead.\n  warnings.warn(\n/usr/local/lib/python3.11/dist-packages/xgboost/sklearn.py:889: UserWarning: `early_stopping_rounds` in `fit` method is deprecated for better compatibility with scikit-learn, use `early_stopping_rounds` in constructor or`set_params` instead.\n  warnings.warn(\n/usr/local/lib/python3.11/dist-packages/xgboost/sklearn.py:889: UserWarning: `early_stopping_rounds` in `fit` method is deprecated for better compatibility with scikit-learn, use `early_stopping_rounds` in constructor or`set_params` instead.\n  warnings.warn(\n/usr/local/lib/python3.11/dist-packages/xgboost/sklearn.py:889: UserWarning: `early_stopping_rounds` in `fit` method is deprecated for better compatibility with scikit-learn, use `early_stopping_rounds` in constructor or`set_params` instead.\n  warnings.warn(\n/usr/local/lib/python3.11/dist-packages/xgboost/sklearn.py:889: UserWarning: `early_stopping_rounds` in `fit` method is deprecated for better compatibility with scikit-learn, use `early_stopping_rounds` in constructor or`set_params` instead.\n  warnings.warn(\n[I 2025-10-05 11:52:32,131] Trial 29 finished with value: 0.7102132435465769 and parameters: {'learning_rate': 0.2592346160827212, 'max_depth': 5, 'subsample': 0.703516987205452, 'colsample_bytree': 0.9090314045953278, 'n_estimators': 226}. Best is trial 27 with value: 0.7232323232323232.\n[I 2025-10-05 11:52:32,132] A new study created in memory with name: no-name-dfd112a4-2e83-4439-980e-7835195c31b9\n",
          "output_type": "stream"
        },
        {
          "name": "stdout",
          "text": "Xgboost best params: {'learning_rate': 0.06407845536188769, 'max_depth': 10, 'subsample': 0.6367951683747665, 'colsample_bytree': 0.9069731639862751, 'n_estimators': 186}\n\nEarly stopping occurred at epoch 3 with best_epoch = 1 and best_val_0_accuracy = 0.45754\n",
          "output_type": "stream"
        },
        {
          "name": "stderr",
          "text": "/usr/local/lib/python3.11/dist-packages/pytorch_tabnet/callbacks.py:172: UserWarning: Best weights from best epoch are automatically used!\n  warnings.warn(wrn_msg)\n",
          "output_type": "stream"
        },
        {
          "name": "stdout",
          "text": "\nEarly stopping occurred at epoch 5 with best_epoch = 3 and best_val_0_accuracy = 0.4624\n",
          "output_type": "stream"
        },
        {
          "name": "stderr",
          "text": "/usr/local/lib/python3.11/dist-packages/pytorch_tabnet/callbacks.py:172: UserWarning: Best weights from best epoch are automatically used!\n  warnings.warn(wrn_msg)\n",
          "output_type": "stream"
        },
        {
          "name": "stdout",
          "text": "\nEarly stopping occurred at epoch 3 with best_epoch = 1 and best_val_0_accuracy = 0.4624\n",
          "output_type": "stream"
        },
        {
          "name": "stderr",
          "text": "/usr/local/lib/python3.11/dist-packages/pytorch_tabnet/callbacks.py:172: UserWarning: Best weights from best epoch are automatically used!\n  warnings.warn(wrn_msg)\n",
          "output_type": "stream"
        },
        {
          "name": "stdout",
          "text": "\nEarly stopping occurred at epoch 11 with best_epoch = 9 and best_val_0_accuracy = 0.49532\n",
          "output_type": "stream"
        },
        {
          "name": "stderr",
          "text": "/usr/local/lib/python3.11/dist-packages/pytorch_tabnet/callbacks.py:172: UserWarning: Best weights from best epoch are automatically used!\n  warnings.warn(wrn_msg)\n",
          "output_type": "stream"
        },
        {
          "name": "stdout",
          "text": "\nEarly stopping occurred at epoch 5 with best_epoch = 3 and best_val_0_accuracy = 0.46165\n",
          "output_type": "stream"
        },
        {
          "name": "stderr",
          "text": "/usr/local/lib/python3.11/dist-packages/pytorch_tabnet/callbacks.py:172: UserWarning: Best weights from best epoch are automatically used!\n  warnings.warn(wrn_msg)\n[I 2025-10-05 11:53:11,548] Trial 0 finished with value: 0.467863823419379 and parameters: {'optimizer_fn': 'adam', 'n_d': 8, 'n_a': 8, 'n_steps': 9, 'gamma': 1.4, 'lambda_sparse': 1.2810870558994255e-05, 'lr': 0.0005783072733326021, 'momentum': 0.38209813425243006}. Best is trial 0 with value: 0.467863823419379.\n",
          "output_type": "stream"
        },
        {
          "name": "stdout",
          "text": "\nEarly stopping occurred at epoch 16 with best_epoch = 14 and best_val_0_accuracy = 0.63599\n",
          "output_type": "stream"
        },
        {
          "name": "stderr",
          "text": "/usr/local/lib/python3.11/dist-packages/pytorch_tabnet/callbacks.py:172: UserWarning: Best weights from best epoch are automatically used!\n  warnings.warn(wrn_msg)\n",
          "output_type": "stream"
        },
        {
          "name": "stdout",
          "text": "\nEarly stopping occurred at epoch 3 with best_epoch = 1 and best_val_0_accuracy = 0.54059\n",
          "output_type": "stream"
        },
        {
          "name": "stderr",
          "text": "/usr/local/lib/python3.11/dist-packages/pytorch_tabnet/callbacks.py:172: UserWarning: Best weights from best epoch are automatically used!\n  warnings.warn(wrn_msg)\n",
          "output_type": "stream"
        },
        {
          "name": "stdout",
          "text": "\nEarly stopping occurred at epoch 9 with best_epoch = 7 and best_val_0_accuracy = 0.62926\n",
          "output_type": "stream"
        },
        {
          "name": "stderr",
          "text": "/usr/local/lib/python3.11/dist-packages/pytorch_tabnet/callbacks.py:172: UserWarning: Best weights from best epoch are automatically used!\n  warnings.warn(wrn_msg)\n",
          "output_type": "stream"
        },
        {
          "name": "stdout",
          "text": "\nEarly stopping occurred at epoch 10 with best_epoch = 8 and best_val_0_accuracy = 0.60494\n",
          "output_type": "stream"
        },
        {
          "name": "stderr",
          "text": "/usr/local/lib/python3.11/dist-packages/pytorch_tabnet/callbacks.py:172: UserWarning: Best weights from best epoch are automatically used!\n  warnings.warn(wrn_msg)\n",
          "output_type": "stream"
        },
        {
          "name": "stdout",
          "text": "\nEarly stopping occurred at epoch 8 with best_epoch = 6 and best_val_0_accuracy = 0.59035\n",
          "output_type": "stream"
        },
        {
          "name": "stderr",
          "text": "/usr/local/lib/python3.11/dist-packages/pytorch_tabnet/callbacks.py:172: UserWarning: Best weights from best epoch are automatically used!\n  warnings.warn(wrn_msg)\n[I 2025-10-05 11:54:02,872] Trial 1 finished with value: 0.6002244668911336 and parameters: {'optimizer_fn': 'adamw', 'n_d': 40, 'n_a': 48, 'n_steps': 8, 'gamma': 1.2, 'lambda_sparse': 7.213175402766765e-06, 'lr': 0.0028290314304875814, 'momentum': 0.032308854886727446}. Best is trial 1 with value: 0.6002244668911336.\n",
          "output_type": "stream"
        },
        {
          "name": "stdout",
          "text": "\nEarly stopping occurred at epoch 22 with best_epoch = 20 and best_val_0_accuracy = 0.50019\n",
          "output_type": "stream"
        },
        {
          "name": "stderr",
          "text": "/usr/local/lib/python3.11/dist-packages/pytorch_tabnet/callbacks.py:172: UserWarning: Best weights from best epoch are automatically used!\n  warnings.warn(wrn_msg)\n",
          "output_type": "stream"
        },
        {
          "name": "stdout",
          "text": "\nEarly stopping occurred at epoch 24 with best_epoch = 22 and best_val_0_accuracy = 0.52338\n",
          "output_type": "stream"
        },
        {
          "name": "stderr",
          "text": "/usr/local/lib/python3.11/dist-packages/pytorch_tabnet/callbacks.py:172: UserWarning: Best weights from best epoch are automatically used!\n  warnings.warn(wrn_msg)\n",
          "output_type": "stream"
        },
        {
          "name": "stdout",
          "text": "\nEarly stopping occurred at epoch 36 with best_epoch = 34 and best_val_0_accuracy = 0.56117\n",
          "output_type": "stream"
        },
        {
          "name": "stderr",
          "text": "/usr/local/lib/python3.11/dist-packages/pytorch_tabnet/callbacks.py:172: UserWarning: Best weights from best epoch are automatically used!\n  warnings.warn(wrn_msg)\n",
          "output_type": "stream"
        },
        {
          "name": "stdout",
          "text": "\nEarly stopping occurred at epoch 37 with best_epoch = 35 and best_val_0_accuracy = 0.56266\n",
          "output_type": "stream"
        },
        {
          "name": "stderr",
          "text": "/usr/local/lib/python3.11/dist-packages/pytorch_tabnet/callbacks.py:172: UserWarning: Best weights from best epoch are automatically used!\n  warnings.warn(wrn_msg)\n",
          "output_type": "stream"
        },
        {
          "name": "stdout",
          "text": "\nEarly stopping occurred at epoch 40 with best_epoch = 38 and best_val_0_accuracy = 0.54994\n",
          "output_type": "stream"
        },
        {
          "name": "stderr",
          "text": "/usr/local/lib/python3.11/dist-packages/pytorch_tabnet/callbacks.py:172: UserWarning: Best weights from best epoch are automatically used!\n  warnings.warn(wrn_msg)\n[I 2025-10-05 11:55:33,860] Trial 2 finished with value: 0.5394687616909839 and parameters: {'optimizer_fn': 'adamw', 'n_d': 16, 'n_a': 24, 'n_steps': 4, 'gamma': 1.7000000000000002, 'lambda_sparse': 2.568311110322362e-05, 'lr': 0.000192518694398692, 'momentum': 0.03860644245563545}. Best is trial 1 with value: 0.6002244668911336.\n",
          "output_type": "stream"
        },
        {
          "name": "stdout",
          "text": "\nEarly stopping occurred at epoch 14 with best_epoch = 12 and best_val_0_accuracy = 0.54059\n",
          "output_type": "stream"
        },
        {
          "name": "stderr",
          "text": "/usr/local/lib/python3.11/dist-packages/pytorch_tabnet/callbacks.py:172: UserWarning: Best weights from best epoch are automatically used!\n  warnings.warn(wrn_msg)\n",
          "output_type": "stream"
        },
        {
          "name": "stdout",
          "text": "\nEarly stopping occurred at epoch 19 with best_epoch = 17 and best_val_0_accuracy = 0.55668\n",
          "output_type": "stream"
        },
        {
          "name": "stderr",
          "text": "/usr/local/lib/python3.11/dist-packages/pytorch_tabnet/callbacks.py:172: UserWarning: Best weights from best epoch are automatically used!\n  warnings.warn(wrn_msg)\n",
          "output_type": "stream"
        },
        {
          "name": "stdout",
          "text": "\nEarly stopping occurred at epoch 25 with best_epoch = 23 and best_val_0_accuracy = 0.62364\n",
          "output_type": "stream"
        },
        {
          "name": "stderr",
          "text": "/usr/local/lib/python3.11/dist-packages/pytorch_tabnet/callbacks.py:172: UserWarning: Best weights from best epoch are automatically used!\n  warnings.warn(wrn_msg)\n",
          "output_type": "stream"
        },
        {
          "name": "stdout",
          "text": "\nEarly stopping occurred at epoch 31 with best_epoch = 29 and best_val_0_accuracy = 0.63038\n",
          "output_type": "stream"
        },
        {
          "name": "stderr",
          "text": "/usr/local/lib/python3.11/dist-packages/pytorch_tabnet/callbacks.py:172: UserWarning: Best weights from best epoch are automatically used!\n  warnings.warn(wrn_msg)\n",
          "output_type": "stream"
        },
        {
          "name": "stdout",
          "text": "\nEarly stopping occurred at epoch 32 with best_epoch = 30 and best_val_0_accuracy = 0.61878\n",
          "output_type": "stream"
        },
        {
          "name": "stderr",
          "text": "/usr/local/lib/python3.11/dist-packages/pytorch_tabnet/callbacks.py:172: UserWarning: Best weights from best epoch are automatically used!\n  warnings.warn(wrn_msg)\n[I 2025-10-05 11:56:44,046] Trial 3 finished with value: 0.5940142162364385 and parameters: {'optimizer_fn': 'adamw', 'n_d': 56, 'n_a': 56, 'n_steps': 4, 'gamma': 1.8, 'lambda_sparse': 0.0002872813374366066, 'lr': 0.00033030011053185825, 'momentum': 0.19320979928006835}. Best is trial 1 with value: 0.6002244668911336.\n",
          "output_type": "stream"
        },
        {
          "name": "stdout",
          "text": "\nEarly stopping occurred at epoch 12 with best_epoch = 10 and best_val_0_accuracy = 0.57464\n",
          "output_type": "stream"
        },
        {
          "name": "stderr",
          "text": "/usr/local/lib/python3.11/dist-packages/pytorch_tabnet/callbacks.py:172: UserWarning: Best weights from best epoch are automatically used!\n  warnings.warn(wrn_msg)\n",
          "output_type": "stream"
        },
        {
          "name": "stdout",
          "text": "\nEarly stopping occurred at epoch 12 with best_epoch = 10 and best_val_0_accuracy = 0.56266\n",
          "output_type": "stream"
        },
        {
          "name": "stderr",
          "text": "/usr/local/lib/python3.11/dist-packages/pytorch_tabnet/callbacks.py:172: UserWarning: Best weights from best epoch are automatically used!\n  warnings.warn(wrn_msg)\n",
          "output_type": "stream"
        },
        {
          "name": "stdout",
          "text": "\nEarly stopping occurred at epoch 13 with best_epoch = 11 and best_val_0_accuracy = 0.58249\n",
          "output_type": "stream"
        },
        {
          "name": "stderr",
          "text": "/usr/local/lib/python3.11/dist-packages/pytorch_tabnet/callbacks.py:172: UserWarning: Best weights from best epoch are automatically used!\n  warnings.warn(wrn_msg)\n",
          "output_type": "stream"
        },
        {
          "name": "stdout",
          "text": "\nEarly stopping occurred at epoch 18 with best_epoch = 16 and best_val_0_accuracy = 0.58848\n",
          "output_type": "stream"
        },
        {
          "name": "stderr",
          "text": "/usr/local/lib/python3.11/dist-packages/pytorch_tabnet/callbacks.py:172: UserWarning: Best weights from best epoch are automatically used!\n  warnings.warn(wrn_msg)\n",
          "output_type": "stream"
        },
        {
          "name": "stdout",
          "text": "\nEarly stopping occurred at epoch 4 with best_epoch = 2 and best_val_0_accuracy = 0.47811\n",
          "output_type": "stream"
        },
        {
          "name": "stderr",
          "text": "/usr/local/lib/python3.11/dist-packages/pytorch_tabnet/callbacks.py:172: UserWarning: Best weights from best epoch are automatically used!\n  warnings.warn(wrn_msg)\n[I 2025-10-05 11:57:53,884] Trial 4 finished with value: 0.5572764683875795 and parameters: {'optimizer_fn': 'adamw', 'n_d': 40, 'n_a': 24, 'n_steps': 9, 'gamma': 1.7000000000000002, 'lambda_sparse': 0.0002207048886558005, 'lr': 0.0008927937879613778, 'momentum': 0.042865588265540946}. Best is trial 1 with value: 0.6002244668911336.\n",
          "output_type": "stream"
        },
        {
          "name": "stdout",
          "text": "\nEarly stopping occurred at epoch 22 with best_epoch = 20 and best_val_0_accuracy = 0.59297\n",
          "output_type": "stream"
        },
        {
          "name": "stderr",
          "text": "/usr/local/lib/python3.11/dist-packages/pytorch_tabnet/callbacks.py:172: UserWarning: Best weights from best epoch are automatically used!\n  warnings.warn(wrn_msg)\n",
          "output_type": "stream"
        },
        {
          "name": "stdout",
          "text": "\nEarly stopping occurred at epoch 27 with best_epoch = 25 and best_val_0_accuracy = 0.59596\n",
          "output_type": "stream"
        },
        {
          "name": "stderr",
          "text": "/usr/local/lib/python3.11/dist-packages/pytorch_tabnet/callbacks.py:172: UserWarning: Best weights from best epoch are automatically used!\n  warnings.warn(wrn_msg)\n",
          "output_type": "stream"
        },
        {
          "name": "stdout",
          "text": "\nEarly stopping occurred at epoch 27 with best_epoch = 25 and best_val_0_accuracy = 0.61728\n",
          "output_type": "stream"
        },
        {
          "name": "stderr",
          "text": "/usr/local/lib/python3.11/dist-packages/pytorch_tabnet/callbacks.py:172: UserWarning: Best weights from best epoch are automatically used!\n  warnings.warn(wrn_msg)\n",
          "output_type": "stream"
        },
        {
          "name": "stdout",
          "text": "\nEarly stopping occurred at epoch 17 with best_epoch = 15 and best_val_0_accuracy = 0.58324\n",
          "output_type": "stream"
        },
        {
          "name": "stderr",
          "text": "/usr/local/lib/python3.11/dist-packages/pytorch_tabnet/callbacks.py:172: UserWarning: Best weights from best epoch are automatically used!\n  warnings.warn(wrn_msg)\n",
          "output_type": "stream"
        },
        {
          "name": "stdout",
          "text": "\nEarly stopping occurred at epoch 21 with best_epoch = 19 and best_val_0_accuracy = 0.58661\n",
          "output_type": "stream"
        },
        {
          "name": "stderr",
          "text": "/usr/local/lib/python3.11/dist-packages/pytorch_tabnet/callbacks.py:172: UserWarning: Best weights from best epoch are automatically used!\n  warnings.warn(wrn_msg)\n[I 2025-10-05 11:58:48,217] Trial 5 finished with value: 0.5952113729891507 and parameters: {'optimizer_fn': 'adamw', 'n_d': 24, 'n_a': 64, 'n_steps': 3, 'gamma': 1.1, 'lambda_sparse': 0.000399780541141052, 'lr': 0.00015808603045837122, 'momentum': 0.24803650733893146}. Best is trial 1 with value: 0.6002244668911336.\n",
          "output_type": "stream"
        },
        {
          "name": "stdout",
          "text": "\nEarly stopping occurred at epoch 18 with best_epoch = 16 and best_val_0_accuracy = 0.62327\n",
          "output_type": "stream"
        },
        {
          "name": "stderr",
          "text": "/usr/local/lib/python3.11/dist-packages/pytorch_tabnet/callbacks.py:172: UserWarning: Best weights from best epoch are automatically used!\n  warnings.warn(wrn_msg)\n",
          "output_type": "stream"
        },
        {
          "name": "stdout",
          "text": "\nEarly stopping occurred at epoch 24 with best_epoch = 22 and best_val_0_accuracy = 0.63374\n",
          "output_type": "stream"
        },
        {
          "name": "stderr",
          "text": "/usr/local/lib/python3.11/dist-packages/pytorch_tabnet/callbacks.py:172: UserWarning: Best weights from best epoch are automatically used!\n  warnings.warn(wrn_msg)\n",
          "output_type": "stream"
        },
        {
          "name": "stdout",
          "text": "\nEarly stopping occurred at epoch 23 with best_epoch = 21 and best_val_0_accuracy = 0.64198\n",
          "output_type": "stream"
        },
        {
          "name": "stderr",
          "text": "/usr/local/lib/python3.11/dist-packages/pytorch_tabnet/callbacks.py:172: UserWarning: Best weights from best epoch are automatically used!\n  warnings.warn(wrn_msg)\n",
          "output_type": "stream"
        },
        {
          "name": "stdout",
          "text": "\nEarly stopping occurred at epoch 22 with best_epoch = 20 and best_val_0_accuracy = 0.64385\n",
          "output_type": "stream"
        },
        {
          "name": "stderr",
          "text": "/usr/local/lib/python3.11/dist-packages/pytorch_tabnet/callbacks.py:172: UserWarning: Best weights from best epoch are automatically used!\n  warnings.warn(wrn_msg)\n",
          "output_type": "stream"
        },
        {
          "name": "stdout",
          "text": "\nEarly stopping occurred at epoch 20 with best_epoch = 18 and best_val_0_accuracy = 0.63187\n",
          "output_type": "stream"
        },
        {
          "name": "stderr",
          "text": "/usr/local/lib/python3.11/dist-packages/pytorch_tabnet/callbacks.py:172: UserWarning: Best weights from best epoch are automatically used!\n  warnings.warn(wrn_msg)\n[I 2025-10-05 11:59:38,981] Trial 6 finished with value: 0.6349420127197904 and parameters: {'optimizer_fn': 'adam', 'n_d': 24, 'n_a': 32, 'n_steps': 3, 'gamma': 1.1, 'lambda_sparse': 0.00022558199350427763, 'lr': 0.0005766578290643896, 'momentum': 0.04627368059645296}. Best is trial 6 with value: 0.6349420127197904.\n",
          "output_type": "stream"
        },
        {
          "name": "stdout",
          "text": "\nEarly stopping occurred at epoch 6 with best_epoch = 4 and best_val_0_accuracy = 0.57351\n",
          "output_type": "stream"
        },
        {
          "name": "stderr",
          "text": "/usr/local/lib/python3.11/dist-packages/pytorch_tabnet/callbacks.py:172: UserWarning: Best weights from best epoch are automatically used!\n  warnings.warn(wrn_msg)\n",
          "output_type": "stream"
        },
        {
          "name": "stdout",
          "text": "\nEarly stopping occurred at epoch 15 with best_epoch = 13 and best_val_0_accuracy = 0.62851\n",
          "output_type": "stream"
        },
        {
          "name": "stderr",
          "text": "/usr/local/lib/python3.11/dist-packages/pytorch_tabnet/callbacks.py:172: UserWarning: Best weights from best epoch are automatically used!\n  warnings.warn(wrn_msg)\n",
          "output_type": "stream"
        },
        {
          "name": "stdout",
          "text": "\nEarly stopping occurred at epoch 16 with best_epoch = 14 and best_val_0_accuracy = 0.65956\n",
          "output_type": "stream"
        },
        {
          "name": "stderr",
          "text": "/usr/local/lib/python3.11/dist-packages/pytorch_tabnet/callbacks.py:172: UserWarning: Best weights from best epoch are automatically used!\n  warnings.warn(wrn_msg)\n",
          "output_type": "stream"
        },
        {
          "name": "stdout",
          "text": "\nEarly stopping occurred at epoch 9 with best_epoch = 7 and best_val_0_accuracy = 0.60382\n",
          "output_type": "stream"
        },
        {
          "name": "stderr",
          "text": "/usr/local/lib/python3.11/dist-packages/pytorch_tabnet/callbacks.py:172: UserWarning: Best weights from best epoch are automatically used!\n  warnings.warn(wrn_msg)\n",
          "output_type": "stream"
        },
        {
          "name": "stdout",
          "text": "\nEarly stopping occurred at epoch 19 with best_epoch = 17 and best_val_0_accuracy = 0.64609\n",
          "output_type": "stream"
        },
        {
          "name": "stderr",
          "text": "/usr/local/lib/python3.11/dist-packages/pytorch_tabnet/callbacks.py:172: UserWarning: Best weights from best epoch are automatically used!\n  warnings.warn(wrn_msg)\n[I 2025-10-05 12:00:18,516] Trial 7 finished with value: 0.6222970445192668 and parameters: {'optimizer_fn': 'adam', 'n_d': 40, 'n_a': 32, 'n_steps': 4, 'gamma': 1.1, 'lambda_sparse': 1.0762839822389636e-06, 'lr': 0.0019296637612810177, 'momentum': 0.38326000072952016}. Best is trial 6 with value: 0.6349420127197904.\n",
          "output_type": "stream"
        },
        {
          "name": "stdout",
          "text": "\nEarly stopping occurred at epoch 5 with best_epoch = 3 and best_val_0_accuracy = 0.54433\n",
          "output_type": "stream"
        },
        {
          "name": "stderr",
          "text": "/usr/local/lib/python3.11/dist-packages/pytorch_tabnet/callbacks.py:172: UserWarning: Best weights from best epoch are automatically used!\n  warnings.warn(wrn_msg)\n",
          "output_type": "stream"
        },
        {
          "name": "stdout",
          "text": "\nEarly stopping occurred at epoch 12 with best_epoch = 10 and best_val_0_accuracy = 0.60269\n",
          "output_type": "stream"
        },
        {
          "name": "stderr",
          "text": "/usr/local/lib/python3.11/dist-packages/pytorch_tabnet/callbacks.py:172: UserWarning: Best weights from best epoch are automatically used!\n  warnings.warn(wrn_msg)\n",
          "output_type": "stream"
        },
        {
          "name": "stdout",
          "text": "\nEarly stopping occurred at epoch 10 with best_epoch = 8 and best_val_0_accuracy = 0.6315\n",
          "output_type": "stream"
        },
        {
          "name": "stderr",
          "text": "/usr/local/lib/python3.11/dist-packages/pytorch_tabnet/callbacks.py:172: UserWarning: Best weights from best epoch are automatically used!\n  warnings.warn(wrn_msg)\n",
          "output_type": "stream"
        },
        {
          "name": "stdout",
          "text": "\nEarly stopping occurred at epoch 6 with best_epoch = 4 and best_val_0_accuracy = 0.57127\n",
          "output_type": "stream"
        },
        {
          "name": "stderr",
          "text": "/usr/local/lib/python3.11/dist-packages/pytorch_tabnet/callbacks.py:172: UserWarning: Best weights from best epoch are automatically used!\n  warnings.warn(wrn_msg)\n",
          "output_type": "stream"
        },
        {
          "name": "stdout",
          "text": "\nEarly stopping occurred at epoch 9 with best_epoch = 7 and best_val_0_accuracy = 0.581\n",
          "output_type": "stream"
        },
        {
          "name": "stderr",
          "text": "/usr/local/lib/python3.11/dist-packages/pytorch_tabnet/callbacks.py:172: UserWarning: Best weights from best epoch are automatically used!\n  warnings.warn(wrn_msg)\n[I 2025-10-05 12:01:10,201] Trial 8 finished with value: 0.586157875046764 and parameters: {'optimizer_fn': 'adam', 'n_d': 32, 'n_a': 40, 'n_steps': 9, 'gamma': 1.8, 'lambda_sparse': 3.453613365753623e-05, 'lr': 0.004570596194251496, 'momentum': 0.318235080079201}. Best is trial 6 with value: 0.6349420127197904.\n",
          "output_type": "stream"
        },
        {
          "name": "stdout",
          "text": "\nEarly stopping occurred at epoch 15 with best_epoch = 13 and best_val_0_accuracy = 0.57538\n",
          "output_type": "stream"
        },
        {
          "name": "stderr",
          "text": "/usr/local/lib/python3.11/dist-packages/pytorch_tabnet/callbacks.py:172: UserWarning: Best weights from best epoch are automatically used!\n  warnings.warn(wrn_msg)\n",
          "output_type": "stream"
        },
        {
          "name": "stdout",
          "text": "\nEarly stopping occurred at epoch 10 with best_epoch = 8 and best_val_0_accuracy = 0.53648\n",
          "output_type": "stream"
        },
        {
          "name": "stderr",
          "text": "/usr/local/lib/python3.11/dist-packages/pytorch_tabnet/callbacks.py:172: UserWarning: Best weights from best epoch are automatically used!\n  warnings.warn(wrn_msg)\n",
          "output_type": "stream"
        },
        {
          "name": "stdout",
          "text": "\nEarly stopping occurred at epoch 17 with best_epoch = 15 and best_val_0_accuracy = 0.59783\n",
          "output_type": "stream"
        },
        {
          "name": "stderr",
          "text": "/usr/local/lib/python3.11/dist-packages/pytorch_tabnet/callbacks.py:172: UserWarning: Best weights from best epoch are automatically used!\n  warnings.warn(wrn_msg)\n",
          "output_type": "stream"
        },
        {
          "name": "stdout",
          "text": "\nEarly stopping occurred at epoch 19 with best_epoch = 17 and best_val_0_accuracy = 0.59222\n",
          "output_type": "stream"
        },
        {
          "name": "stderr",
          "text": "/usr/local/lib/python3.11/dist-packages/pytorch_tabnet/callbacks.py:172: UserWarning: Best weights from best epoch are automatically used!\n  warnings.warn(wrn_msg)\n",
          "output_type": "stream"
        },
        {
          "name": "stdout",
          "text": "\nEarly stopping occurred at epoch 8 with best_epoch = 6 and best_val_0_accuracy = 0.53461\n",
          "output_type": "stream"
        },
        {
          "name": "stderr",
          "text": "/usr/local/lib/python3.11/dist-packages/pytorch_tabnet/callbacks.py:172: UserWarning: Best weights from best epoch are automatically used!\n  warnings.warn(wrn_msg)\n[I 2025-10-05 12:02:06,699] Trial 9 finished with value: 0.5673026561915451 and parameters: {'optimizer_fn': 'adam', 'n_d': 16, 'n_a': 24, 'n_steps': 6, 'gamma': 2.0, 'lambda_sparse': 1.4189949067682316e-06, 'lr': 0.0016454827807962796, 'momentum': 0.08899752570259087}. Best is trial 6 with value: 0.6349420127197904.\n",
          "output_type": "stream"
        },
        {
          "name": "stdout",
          "text": "\nEarly stopping occurred at epoch 12 with best_epoch = 10 and best_val_0_accuracy = 0.61953\n",
          "output_type": "stream"
        },
        {
          "name": "stderr",
          "text": "/usr/local/lib/python3.11/dist-packages/pytorch_tabnet/callbacks.py:172: UserWarning: Best weights from best epoch are automatically used!\n  warnings.warn(wrn_msg)\n",
          "output_type": "stream"
        },
        {
          "name": "stdout",
          "text": "\nEarly stopping occurred at epoch 6 with best_epoch = 4 and best_val_0_accuracy = 0.59259\n",
          "output_type": "stream"
        },
        {
          "name": "stderr",
          "text": "/usr/local/lib/python3.11/dist-packages/pytorch_tabnet/callbacks.py:172: UserWarning: Best weights from best epoch are automatically used!\n  warnings.warn(wrn_msg)\n",
          "output_type": "stream"
        },
        {
          "name": "stdout",
          "text": "\nEarly stopping occurred at epoch 5 with best_epoch = 3 and best_val_0_accuracy = 0.62926\n",
          "output_type": "stream"
        },
        {
          "name": "stderr",
          "text": "/usr/local/lib/python3.11/dist-packages/pytorch_tabnet/callbacks.py:172: UserWarning: Best weights from best epoch are automatically used!\n  warnings.warn(wrn_msg)\n",
          "output_type": "stream"
        },
        {
          "name": "stdout",
          "text": "\nEarly stopping occurred at epoch 8 with best_epoch = 6 and best_val_0_accuracy = 0.60045\n",
          "output_type": "stream"
        },
        {
          "name": "stderr",
          "text": "/usr/local/lib/python3.11/dist-packages/pytorch_tabnet/callbacks.py:172: UserWarning: Best weights from best epoch are automatically used!\n  warnings.warn(wrn_msg)\n",
          "output_type": "stream"
        },
        {
          "name": "stdout",
          "text": "\nEarly stopping occurred at epoch 10 with best_epoch = 8 and best_val_0_accuracy = 0.63075\n",
          "output_type": "stream"
        },
        {
          "name": "stderr",
          "text": "/usr/local/lib/python3.11/dist-packages/pytorch_tabnet/callbacks.py:172: UserWarning: Best weights from best epoch are automatically used!\n  warnings.warn(wrn_msg)\n[I 2025-10-05 12:02:42,863] Trial 10 finished with value: 0.6145155256266367 and parameters: {'optimizer_fn': 'adam', 'n_d': 64, 'n_a': 8, 'n_steps': 6, 'gamma': 1.4, 'lambda_sparse': 0.00011250583270910757, 'lr': 0.009927715598749396, 'momentum': 0.1508102019206427}. Best is trial 6 with value: 0.6349420127197904.\n",
          "output_type": "stream"
        },
        {
          "name": "stdout",
          "text": "\nEarly stopping occurred at epoch 13 with best_epoch = 11 and best_val_0_accuracy = 0.64534\n",
          "output_type": "stream"
        },
        {
          "name": "stderr",
          "text": "/usr/local/lib/python3.11/dist-packages/pytorch_tabnet/callbacks.py:172: UserWarning: Best weights from best epoch are automatically used!\n  warnings.warn(wrn_msg)\n",
          "output_type": "stream"
        },
        {
          "name": "stdout",
          "text": "\nEarly stopping occurred at epoch 16 with best_epoch = 14 and best_val_0_accuracy = 0.63861\n",
          "output_type": "stream"
        },
        {
          "name": "stderr",
          "text": "/usr/local/lib/python3.11/dist-packages/pytorch_tabnet/callbacks.py:172: UserWarning: Best weights from best epoch are automatically used!\n  warnings.warn(wrn_msg)\n",
          "output_type": "stream"
        },
        {
          "name": "stdout",
          "text": "\nEarly stopping occurred at epoch 14 with best_epoch = 12 and best_val_0_accuracy = 0.66031\n",
          "output_type": "stream"
        },
        {
          "name": "stderr",
          "text": "/usr/local/lib/python3.11/dist-packages/pytorch_tabnet/callbacks.py:172: UserWarning: Best weights from best epoch are automatically used!\n  warnings.warn(wrn_msg)\n",
          "output_type": "stream"
        },
        {
          "name": "stdout",
          "text": "\nEarly stopping occurred at epoch 8 with best_epoch = 6 and best_val_0_accuracy = 0.60606\n",
          "output_type": "stream"
        },
        {
          "name": "stderr",
          "text": "/usr/local/lib/python3.11/dist-packages/pytorch_tabnet/callbacks.py:172: UserWarning: Best weights from best epoch are automatically used!\n  warnings.warn(wrn_msg)\n",
          "output_type": "stream"
        },
        {
          "name": "stdout",
          "text": "\nEarly stopping occurred at epoch 19 with best_epoch = 17 and best_val_0_accuracy = 0.63562\n",
          "output_type": "stream"
        },
        {
          "name": "stderr",
          "text": "/usr/local/lib/python3.11/dist-packages/pytorch_tabnet/callbacks.py:172: UserWarning: Best weights from best epoch are automatically used!\n  warnings.warn(wrn_msg)\n[I 2025-10-05 12:03:17,435] Trial 11 finished with value: 0.6371866816311261 and parameters: {'optimizer_fn': 'adam', 'n_d': 48, 'n_a': 32, 'n_steps': 3, 'gamma': 1.0, 'lambda_sparse': 1.014282845547437e-06, 'lr': 0.0017548777689154827, 'momentum': 0.3962503235363014}. Best is trial 11 with value: 0.6371866816311261.\n",
          "output_type": "stream"
        },
        {
          "name": "stdout",
          "text": "\nEarly stopping occurred at epoch 22 with best_epoch = 20 and best_val_0_accuracy = 0.64534\n",
          "output_type": "stream"
        },
        {
          "name": "stderr",
          "text": "/usr/local/lib/python3.11/dist-packages/pytorch_tabnet/callbacks.py:172: UserWarning: Best weights from best epoch are automatically used!\n  warnings.warn(wrn_msg)\n",
          "output_type": "stream"
        },
        {
          "name": "stdout",
          "text": "\nEarly stopping occurred at epoch 11 with best_epoch = 9 and best_val_0_accuracy = 0.58212\n",
          "output_type": "stream"
        },
        {
          "name": "stderr",
          "text": "/usr/local/lib/python3.11/dist-packages/pytorch_tabnet/callbacks.py:172: UserWarning: Best weights from best epoch are automatically used!\n  warnings.warn(wrn_msg)\n",
          "output_type": "stream"
        },
        {
          "name": "stdout",
          "text": "\nEarly stopping occurred at epoch 10 with best_epoch = 8 and best_val_0_accuracy = 0.60494\n",
          "output_type": "stream"
        },
        {
          "name": "stderr",
          "text": "/usr/local/lib/python3.11/dist-packages/pytorch_tabnet/callbacks.py:172: UserWarning: Best weights from best epoch are automatically used!\n  warnings.warn(wrn_msg)\n",
          "output_type": "stream"
        },
        {
          "name": "stdout",
          "text": "\nEarly stopping occurred at epoch 20 with best_epoch = 18 and best_val_0_accuracy = 0.64235\n",
          "output_type": "stream"
        },
        {
          "name": "stderr",
          "text": "/usr/local/lib/python3.11/dist-packages/pytorch_tabnet/callbacks.py:172: UserWarning: Best weights from best epoch are automatically used!\n  warnings.warn(wrn_msg)\n",
          "output_type": "stream"
        },
        {
          "name": "stdout",
          "text": "\nEarly stopping occurred at epoch 14 with best_epoch = 12 and best_val_0_accuracy = 0.61167\n",
          "output_type": "stream"
        },
        {
          "name": "stderr",
          "text": "/usr/local/lib/python3.11/dist-packages/pytorch_tabnet/callbacks.py:172: UserWarning: Best weights from best epoch are automatically used!\n  warnings.warn(wrn_msg)\n[I 2025-10-05 12:03:55,052] Trial 12 finished with value: 0.6172839506172838 and parameters: {'optimizer_fn': 'adam', 'n_d': 56, 'n_a': 40, 'n_steps': 3, 'gamma': 1.0, 'lambda_sparse': 0.0007298897795182789, 'lr': 0.0005235338069109663, 'momentum': 0.27506389286574917}. Best is trial 11 with value: 0.6371866816311261.\n",
          "output_type": "stream"
        },
        {
          "name": "stdout",
          "text": "\nEarly stopping occurred at epoch 8 with best_epoch = 6 and best_val_0_accuracy = 0.58062\n",
          "output_type": "stream"
        },
        {
          "name": "stderr",
          "text": "/usr/local/lib/python3.11/dist-packages/pytorch_tabnet/callbacks.py:172: UserWarning: Best weights from best epoch are automatically used!\n  warnings.warn(wrn_msg)\n",
          "output_type": "stream"
        },
        {
          "name": "stdout",
          "text": "\nEarly stopping occurred at epoch 21 with best_epoch = 19 and best_val_0_accuracy = 0.6401\n",
          "output_type": "stream"
        },
        {
          "name": "stderr",
          "text": "/usr/local/lib/python3.11/dist-packages/pytorch_tabnet/callbacks.py:172: UserWarning: Best weights from best epoch are automatically used!\n  warnings.warn(wrn_msg)\n",
          "output_type": "stream"
        },
        {
          "name": "stdout",
          "text": "\nEarly stopping occurred at epoch 16 with best_epoch = 14 and best_val_0_accuracy = 0.63374\n",
          "output_type": "stream"
        },
        {
          "name": "stderr",
          "text": "/usr/local/lib/python3.11/dist-packages/pytorch_tabnet/callbacks.py:172: UserWarning: Best weights from best epoch are automatically used!\n  warnings.warn(wrn_msg)\n",
          "output_type": "stream"
        },
        {
          "name": "stdout",
          "text": "\nEarly stopping occurred at epoch 17 with best_epoch = 15 and best_val_0_accuracy = 0.63599\n",
          "output_type": "stream"
        },
        {
          "name": "stderr",
          "text": "/usr/local/lib/python3.11/dist-packages/pytorch_tabnet/callbacks.py:172: UserWarning: Best weights from best epoch are automatically used!\n  warnings.warn(wrn_msg)\n",
          "output_type": "stream"
        },
        {
          "name": "stdout",
          "text": "\nEarly stopping occurred at epoch 20 with best_epoch = 18 and best_val_0_accuracy = 0.63786\n",
          "output_type": "stream"
        },
        {
          "name": "stderr",
          "text": "/usr/local/lib/python3.11/dist-packages/pytorch_tabnet/callbacks.py:172: UserWarning: Best weights from best epoch are automatically used!\n  warnings.warn(wrn_msg)\n[I 2025-10-05 12:04:52,705] Trial 13 finished with value: 0.6256640478862702 and parameters: {'optimizer_fn': 'adam', 'n_d': 48, 'n_a': 32, 'n_steps': 5, 'gamma': 1.3, 'lambda_sparse': 3.657784092148186e-06, 'lr': 0.0009916242994469234, 'momentum': 0.13194062383771404}. Best is trial 11 with value: 0.6371866816311261.\n",
          "output_type": "stream"
        },
        {
          "name": "stdout",
          "text": "\nEarly stopping occurred at epoch 8 with best_epoch = 6 and best_val_0_accuracy = 0.61092\n",
          "output_type": "stream"
        },
        {
          "name": "stderr",
          "text": "/usr/local/lib/python3.11/dist-packages/pytorch_tabnet/callbacks.py:172: UserWarning: Best weights from best epoch are automatically used!\n  warnings.warn(wrn_msg)\n",
          "output_type": "stream"
        },
        {
          "name": "stdout",
          "text": "\nEarly stopping occurred at epoch 9 with best_epoch = 7 and best_val_0_accuracy = 0.60456\n",
          "output_type": "stream"
        },
        {
          "name": "stderr",
          "text": "/usr/local/lib/python3.11/dist-packages/pytorch_tabnet/callbacks.py:172: UserWarning: Best weights from best epoch are automatically used!\n  warnings.warn(wrn_msg)\n",
          "output_type": "stream"
        },
        {
          "name": "stdout",
          "text": "\nEarly stopping occurred at epoch 11 with best_epoch = 9 and best_val_0_accuracy = 0.63749\n",
          "output_type": "stream"
        },
        {
          "name": "stderr",
          "text": "/usr/local/lib/python3.11/dist-packages/pytorch_tabnet/callbacks.py:172: UserWarning: Best weights from best epoch are automatically used!\n  warnings.warn(wrn_msg)\n",
          "output_type": "stream"
        },
        {
          "name": "stdout",
          "text": "\nEarly stopping occurred at epoch 11 with best_epoch = 9 and best_val_0_accuracy = 0.62813\n",
          "output_type": "stream"
        },
        {
          "name": "stderr",
          "text": "/usr/local/lib/python3.11/dist-packages/pytorch_tabnet/callbacks.py:172: UserWarning: Best weights from best epoch are automatically used!\n  warnings.warn(wrn_msg)\n",
          "output_type": "stream"
        },
        {
          "name": "stdout",
          "text": "\nEarly stopping occurred at epoch 13 with best_epoch = 11 and best_val_0_accuracy = 0.63075\n",
          "output_type": "stream"
        },
        {
          "name": "stderr",
          "text": "/usr/local/lib/python3.11/dist-packages/pytorch_tabnet/callbacks.py:172: UserWarning: Best weights from best epoch are automatically used!\n  warnings.warn(wrn_msg)\n[I 2025-10-05 12:05:42,775] Trial 14 finished with value: 0.6223718668163112 and parameters: {'optimizer_fn': 'adam', 'n_d': 24, 'n_a': 16, 'n_steps': 7, 'gamma': 1.0, 'lambda_sparse': 8.544544810225027e-05, 'lr': 0.00401665658062188, 'momentum': 0.31142671368947883}. Best is trial 11 with value: 0.6371866816311261.\n",
          "output_type": "stream"
        },
        {
          "name": "stdout",
          "text": "\nEarly stopping occurred at epoch 17 with best_epoch = 15 and best_val_0_accuracy = 0.59334\n",
          "output_type": "stream"
        },
        {
          "name": "stderr",
          "text": "/usr/local/lib/python3.11/dist-packages/pytorch_tabnet/callbacks.py:172: UserWarning: Best weights from best epoch are automatically used!\n  warnings.warn(wrn_msg)\n",
          "output_type": "stream"
        },
        {
          "name": "stdout",
          "text": "\nEarly stopping occurred at epoch 23 with best_epoch = 21 and best_val_0_accuracy = 0.61691\n",
          "output_type": "stream"
        },
        {
          "name": "stderr",
          "text": "/usr/local/lib/python3.11/dist-packages/pytorch_tabnet/callbacks.py:172: UserWarning: Best weights from best epoch are automatically used!\n  warnings.warn(wrn_msg)\n",
          "output_type": "stream"
        },
        {
          "name": "stdout",
          "text": "\nEarly stopping occurred at epoch 19 with best_epoch = 17 and best_val_0_accuracy = 0.61915\n",
          "output_type": "stream"
        },
        {
          "name": "stderr",
          "text": "/usr/local/lib/python3.11/dist-packages/pytorch_tabnet/callbacks.py:172: UserWarning: Best weights from best epoch are automatically used!\n  warnings.warn(wrn_msg)\n",
          "output_type": "stream"
        },
        {
          "name": "stdout",
          "text": "\nEarly stopping occurred at epoch 20 with best_epoch = 18 and best_val_0_accuracy = 0.6214\n",
          "output_type": "stream"
        },
        {
          "name": "stderr",
          "text": "/usr/local/lib/python3.11/dist-packages/pytorch_tabnet/callbacks.py:172: UserWarning: Best weights from best epoch are automatically used!\n  warnings.warn(wrn_msg)\n",
          "output_type": "stream"
        },
        {
          "name": "stdout",
          "text": "\nEarly stopping occurred at epoch 8 with best_epoch = 6 and best_val_0_accuracy = 0.53685\n",
          "output_type": "stream"
        },
        {
          "name": "stderr",
          "text": "/usr/local/lib/python3.11/dist-packages/pytorch_tabnet/callbacks.py:172: UserWarning: Best weights from best epoch are automatically used!\n  warnings.warn(wrn_msg)\n[I 2025-10-05 12:06:24,605] Trial 15 finished with value: 0.5975308641975309 and parameters: {'optimizer_fn': 'adam', 'n_d': 32, 'n_a': 48, 'n_steps': 3, 'gamma': 1.2, 'lambda_sparse': 0.000957715681738231, 'lr': 0.0002931863461517371, 'momentum': 0.19961968633332058}. Best is trial 11 with value: 0.6371866816311261.\n",
          "output_type": "stream"
        },
        {
          "name": "stdout",
          "text": "\nEarly stopping occurred at epoch 8 with best_epoch = 6 and best_val_0_accuracy = 0.59409\n",
          "output_type": "stream"
        },
        {
          "name": "stderr",
          "text": "/usr/local/lib/python3.11/dist-packages/pytorch_tabnet/callbacks.py:172: UserWarning: Best weights from best epoch are automatically used!\n  warnings.warn(wrn_msg)\n",
          "output_type": "stream"
        },
        {
          "name": "stdout",
          "text": "\nEarly stopping occurred at epoch 8 with best_epoch = 6 and best_val_0_accuracy = 0.5997\n",
          "output_type": "stream"
        },
        {
          "name": "stderr",
          "text": "/usr/local/lib/python3.11/dist-packages/pytorch_tabnet/callbacks.py:172: UserWarning: Best weights from best epoch are automatically used!\n  warnings.warn(wrn_msg)\n",
          "output_type": "stream"
        },
        {
          "name": "stdout",
          "text": "\nEarly stopping occurred at epoch 8 with best_epoch = 6 and best_val_0_accuracy = 0.60606\n",
          "output_type": "stream"
        },
        {
          "name": "stderr",
          "text": "/usr/local/lib/python3.11/dist-packages/pytorch_tabnet/callbacks.py:172: UserWarning: Best weights from best epoch are automatically used!\n  warnings.warn(wrn_msg)\n",
          "output_type": "stream"
        },
        {
          "name": "stdout",
          "text": "\nEarly stopping occurred at epoch 12 with best_epoch = 10 and best_val_0_accuracy = 0.61317\n",
          "output_type": "stream"
        },
        {
          "name": "stderr",
          "text": "/usr/local/lib/python3.11/dist-packages/pytorch_tabnet/callbacks.py:172: UserWarning: Best weights from best epoch are automatically used!\n  warnings.warn(wrn_msg)\n",
          "output_type": "stream"
        },
        {
          "name": "stdout",
          "text": "\nEarly stopping occurred at epoch 11 with best_epoch = 9 and best_val_0_accuracy = 0.59708\n",
          "output_type": "stream"
        },
        {
          "name": "stderr",
          "text": "/usr/local/lib/python3.11/dist-packages/pytorch_tabnet/callbacks.py:172: UserWarning: Best weights from best epoch are automatically used!\n  warnings.warn(wrn_msg)\n[I 2025-10-05 12:06:59,809] Trial 16 finished with value: 0.602020202020202 and parameters: {'optimizer_fn': 'adam', 'n_d': 48, 'n_a': 32, 'n_steps': 5, 'gamma': 1.5, 'lambda_sparse': 6.248171972341212e-05, 'lr': 0.0016125781536280833, 'momentum': 0.12228888886633374}. Best is trial 11 with value: 0.6371866816311261.\n",
          "output_type": "stream"
        },
        {
          "name": "stdout",
          "text": "\nEarly stopping occurred at epoch 2 with best_epoch = 0 and best_val_0_accuracy = 0.36139\n",
          "output_type": "stream"
        },
        {
          "name": "stderr",
          "text": "/usr/local/lib/python3.11/dist-packages/pytorch_tabnet/callbacks.py:172: UserWarning: Best weights from best epoch are automatically used!\n  warnings.warn(wrn_msg)\n",
          "output_type": "stream"
        },
        {
          "name": "stdout",
          "text": "\nEarly stopping occurred at epoch 2 with best_epoch = 0 and best_val_0_accuracy = 0.36102\n",
          "output_type": "stream"
        },
        {
          "name": "stderr",
          "text": "/usr/local/lib/python3.11/dist-packages/pytorch_tabnet/callbacks.py:172: UserWarning: Best weights from best epoch are automatically used!\n  warnings.warn(wrn_msg)\n",
          "output_type": "stream"
        },
        {
          "name": "stdout",
          "text": "\nEarly stopping occurred at epoch 2 with best_epoch = 0 and best_val_0_accuracy = 0.36177\n",
          "output_type": "stream"
        },
        {
          "name": "stderr",
          "text": "/usr/local/lib/python3.11/dist-packages/pytorch_tabnet/callbacks.py:172: UserWarning: Best weights from best epoch are automatically used!\n  warnings.warn(wrn_msg)\n",
          "output_type": "stream"
        },
        {
          "name": "stdout",
          "text": "\nEarly stopping occurred at epoch 2 with best_epoch = 0 and best_val_0_accuracy = 0.36214\n",
          "output_type": "stream"
        },
        {
          "name": "stderr",
          "text": "/usr/local/lib/python3.11/dist-packages/pytorch_tabnet/callbacks.py:172: UserWarning: Best weights from best epoch are automatically used!\n  warnings.warn(wrn_msg)\n",
          "output_type": "stream"
        },
        {
          "name": "stdout",
          "text": "\nEarly stopping occurred at epoch 2 with best_epoch = 0 and best_val_0_accuracy = 0.36102\n",
          "output_type": "stream"
        },
        {
          "name": "stderr",
          "text": "/usr/local/lib/python3.11/dist-packages/pytorch_tabnet/callbacks.py:172: UserWarning: Best weights from best epoch are automatically used!\n  warnings.warn(wrn_msg)\n[I 2025-10-05 12:07:11,488] Trial 17 finished with value: 0.36146651702207266 and parameters: {'optimizer_fn': 'adam', 'n_d': 24, 'n_a': 48, 'n_steps': 5, 'gamma': 1.0, 'lambda_sparse': 2.40989171317117e-06, 'lr': 0.00011150021734869546, 'momentum': 0.33918857541984737}. Best is trial 11 with value: 0.6371866816311261.\n",
          "output_type": "stream"
        },
        {
          "name": "stdout",
          "text": "\nEarly stopping occurred at epoch 15 with best_epoch = 13 and best_val_0_accuracy = 0.59035\n",
          "output_type": "stream"
        },
        {
          "name": "stderr",
          "text": "/usr/local/lib/python3.11/dist-packages/pytorch_tabnet/callbacks.py:172: UserWarning: Best weights from best epoch are automatically used!\n  warnings.warn(wrn_msg)\n",
          "output_type": "stream"
        },
        {
          "name": "stdout",
          "text": "\nEarly stopping occurred at epoch 5 with best_epoch = 3 and best_val_0_accuracy = 0.49345\n",
          "output_type": "stream"
        },
        {
          "name": "stderr",
          "text": "/usr/local/lib/python3.11/dist-packages/pytorch_tabnet/callbacks.py:172: UserWarning: Best weights from best epoch are automatically used!\n  warnings.warn(wrn_msg)\n",
          "output_type": "stream"
        },
        {
          "name": "stdout",
          "text": "\nEarly stopping occurred at epoch 10 with best_epoch = 8 and best_val_0_accuracy = 0.5664\n",
          "output_type": "stream"
        },
        {
          "name": "stderr",
          "text": "/usr/local/lib/python3.11/dist-packages/pytorch_tabnet/callbacks.py:172: UserWarning: Best weights from best epoch are automatically used!\n  warnings.warn(wrn_msg)\n",
          "output_type": "stream"
        },
        {
          "name": "stdout",
          "text": "\nEarly stopping occurred at epoch 23 with best_epoch = 21 and best_val_0_accuracy = 0.61205\n",
          "output_type": "stream"
        },
        {
          "name": "stderr",
          "text": "/usr/local/lib/python3.11/dist-packages/pytorch_tabnet/callbacks.py:172: UserWarning: Best weights from best epoch are automatically used!\n  warnings.warn(wrn_msg)\n",
          "output_type": "stream"
        },
        {
          "name": "stdout",
          "text": "\nEarly stopping occurred at epoch 9 with best_epoch = 7 and best_val_0_accuracy = 0.52712\n",
          "output_type": "stream"
        },
        {
          "name": "stderr",
          "text": "/usr/local/lib/python3.11/dist-packages/pytorch_tabnet/callbacks.py:172: UserWarning: Best weights from best epoch are automatically used!\n  warnings.warn(wrn_msg)\n[I 2025-10-05 12:08:10,171] Trial 18 finished with value: 0.5578750467639356 and parameters: {'optimizer_fn': 'adam', 'n_d': 64, 'n_a': 16, 'n_steps': 7, 'gamma': 1.2, 'lambda_sparse': 1.0018633691025844e-05, 'lr': 0.0005856823490706882, 'momentum': 0.26190307661304685}. Best is trial 11 with value: 0.6371866816311261.\n",
          "output_type": "stream"
        },
        {
          "name": "stdout",
          "text": "\nEarly stopping occurred at epoch 5 with best_epoch = 3 and best_val_0_accuracy = 0.56304\n",
          "output_type": "stream"
        },
        {
          "name": "stderr",
          "text": "/usr/local/lib/python3.11/dist-packages/pytorch_tabnet/callbacks.py:172: UserWarning: Best weights from best epoch are automatically used!\n  warnings.warn(wrn_msg)\n",
          "output_type": "stream"
        },
        {
          "name": "stdout",
          "text": "\nEarly stopping occurred at epoch 2 with best_epoch = 0 and best_val_0_accuracy = 0.55181\n",
          "output_type": "stream"
        },
        {
          "name": "stderr",
          "text": "/usr/local/lib/python3.11/dist-packages/pytorch_tabnet/callbacks.py:172: UserWarning: Best weights from best epoch are automatically used!\n  warnings.warn(wrn_msg)\n",
          "output_type": "stream"
        },
        {
          "name": "stdout",
          "text": "\nEarly stopping occurred at epoch 15 with best_epoch = 13 and best_val_0_accuracy = 0.64272\n",
          "output_type": "stream"
        },
        {
          "name": "stderr",
          "text": "/usr/local/lib/python3.11/dist-packages/pytorch_tabnet/callbacks.py:172: UserWarning: Best weights from best epoch are automatically used!\n  warnings.warn(wrn_msg)\n",
          "output_type": "stream"
        },
        {
          "name": "stdout",
          "text": "\nEarly stopping occurred at epoch 2 with best_epoch = 0 and best_val_0_accuracy = 0.54807\n",
          "output_type": "stream"
        },
        {
          "name": "stderr",
          "text": "/usr/local/lib/python3.11/dist-packages/pytorch_tabnet/callbacks.py:172: UserWarning: Best weights from best epoch are automatically used!\n  warnings.warn(wrn_msg)\n",
          "output_type": "stream"
        },
        {
          "name": "stdout",
          "text": "\nEarly stopping occurred at epoch 4 with best_epoch = 2 and best_val_0_accuracy = 0.54545\n",
          "output_type": "stream"
        },
        {
          "name": "stderr",
          "text": "/usr/local/lib/python3.11/dist-packages/pytorch_tabnet/callbacks.py:172: UserWarning: Best weights from best epoch are automatically used!\n  warnings.warn(wrn_msg)\n[I 2025-10-05 12:08:51,336] Trial 19 finished with value: 0.5702207257762814 and parameters: {'optimizer_fn': 'adam', 'n_d': 48, 'n_a': 40, 'n_steps': 10, 'gamma': 1.3, 'lambda_sparse': 2.4576401501783412e-05, 'lr': 0.005484536659315395, 'momentum': 0.08330385253614832}. Best is trial 11 with value: 0.6371866816311261.\n",
          "output_type": "stream"
        },
        {
          "name": "stdout",
          "text": "\nEarly stopping occurred at epoch 15 with best_epoch = 13 and best_val_0_accuracy = 0.61018\n",
          "output_type": "stream"
        },
        {
          "name": "stderr",
          "text": "/usr/local/lib/python3.11/dist-packages/pytorch_tabnet/callbacks.py:172: UserWarning: Best weights from best epoch are automatically used!\n  warnings.warn(wrn_msg)\n",
          "output_type": "stream"
        },
        {
          "name": "stdout",
          "text": "\nEarly stopping occurred at epoch 21 with best_epoch = 19 and best_val_0_accuracy = 0.62252\n",
          "output_type": "stream"
        },
        {
          "name": "stderr",
          "text": "/usr/local/lib/python3.11/dist-packages/pytorch_tabnet/callbacks.py:172: UserWarning: Best weights from best epoch are automatically used!\n  warnings.warn(wrn_msg)\n",
          "output_type": "stream"
        },
        {
          "name": "stdout",
          "text": "\nEarly stopping occurred at epoch 16 with best_epoch = 14 and best_val_0_accuracy = 0.62215\n",
          "output_type": "stream"
        },
        {
          "name": "stderr",
          "text": "/usr/local/lib/python3.11/dist-packages/pytorch_tabnet/callbacks.py:172: UserWarning: Best weights from best epoch are automatically used!\n  warnings.warn(wrn_msg)\n",
          "output_type": "stream"
        },
        {
          "name": "stdout",
          "text": "\nEarly stopping occurred at epoch 23 with best_epoch = 21 and best_val_0_accuracy = 0.63562\n",
          "output_type": "stream"
        },
        {
          "name": "stderr",
          "text": "/usr/local/lib/python3.11/dist-packages/pytorch_tabnet/callbacks.py:172: UserWarning: Best weights from best epoch are automatically used!\n  warnings.warn(wrn_msg)\n",
          "output_type": "stream"
        },
        {
          "name": "stdout",
          "text": "\nEarly stopping occurred at epoch 21 with best_epoch = 19 and best_val_0_accuracy = 0.6401\n",
          "output_type": "stream"
        },
        {
          "name": "stderr",
          "text": "/usr/local/lib/python3.11/dist-packages/pytorch_tabnet/callbacks.py:172: UserWarning: Best weights from best epoch are automatically used!\n  warnings.warn(wrn_msg)\n[I 2025-10-05 12:09:48,094] Trial 20 finished with value: 0.6261129816685373 and parameters: {'optimizer_fn': 'adam', 'n_d': 8, 'n_a': 16, 'n_steps': 4, 'gamma': 1.1, 'lambda_sparse': 0.00014001514251944395, 'lr': 0.002355614114554339, 'momentum': 0.17577514691535456}. Best is trial 11 with value: 0.6371866816311261.\n",
          "output_type": "stream"
        },
        {
          "name": "stdout",
          "text": "\nEarly stopping occurred at epoch 34 with best_epoch = 32 and best_val_0_accuracy = 0.65021\n",
          "output_type": "stream"
        },
        {
          "name": "stderr",
          "text": "/usr/local/lib/python3.11/dist-packages/pytorch_tabnet/callbacks.py:172: UserWarning: Best weights from best epoch are automatically used!\n  warnings.warn(wrn_msg)\n",
          "output_type": "stream"
        },
        {
          "name": "stdout",
          "text": "\nEarly stopping occurred at epoch 29 with best_epoch = 27 and best_val_0_accuracy = 0.6517\n",
          "output_type": "stream"
        },
        {
          "name": "stderr",
          "text": "/usr/local/lib/python3.11/dist-packages/pytorch_tabnet/callbacks.py:172: UserWarning: Best weights from best epoch are automatically used!\n  warnings.warn(wrn_msg)\n",
          "output_type": "stream"
        },
        {
          "name": "stdout",
          "text": "\nEarly stopping occurred at epoch 14 with best_epoch = 12 and best_val_0_accuracy = 0.62701\n",
          "output_type": "stream"
        },
        {
          "name": "stderr",
          "text": "/usr/local/lib/python3.11/dist-packages/pytorch_tabnet/callbacks.py:172: UserWarning: Best weights from best epoch are automatically used!\n  warnings.warn(wrn_msg)\n",
          "output_type": "stream"
        },
        {
          "name": "stdout",
          "text": "\nEarly stopping occurred at epoch 27 with best_epoch = 25 and best_val_0_accuracy = 0.64721\n",
          "output_type": "stream"
        },
        {
          "name": "stderr",
          "text": "/usr/local/lib/python3.11/dist-packages/pytorch_tabnet/callbacks.py:172: UserWarning: Best weights from best epoch are automatically used!\n  warnings.warn(wrn_msg)\n",
          "output_type": "stream"
        },
        {
          "name": "stdout",
          "text": "\nEarly stopping occurred at epoch 21 with best_epoch = 19 and best_val_0_accuracy = 0.61654\n",
          "output_type": "stream"
        },
        {
          "name": "stderr",
          "text": "/usr/local/lib/python3.11/dist-packages/pytorch_tabnet/callbacks.py:172: UserWarning: Best weights from best epoch are automatically used!\n  warnings.warn(wrn_msg)\n[I 2025-10-05 12:10:46,726] Trial 21 finished with value: 0.6385334829779274 and parameters: {'optimizer_fn': 'adam', 'n_d': 8, 'n_a': 16, 'n_steps': 3, 'gamma': 1.1, 'lambda_sparse': 0.00016706775141047962, 'lr': 0.0023155057559813676, 'momentum': 0.17947128572980492}. Best is trial 21 with value: 0.6385334829779274.\n",
          "output_type": "stream"
        },
        {
          "name": "stdout",
          "text": "\nEarly stopping occurred at epoch 18 with best_epoch = 16 and best_val_0_accuracy = 0.60943\n",
          "output_type": "stream"
        },
        {
          "name": "stderr",
          "text": "/usr/local/lib/python3.11/dist-packages/pytorch_tabnet/callbacks.py:172: UserWarning: Best weights from best epoch are automatically used!\n  warnings.warn(wrn_msg)\n",
          "output_type": "stream"
        },
        {
          "name": "stdout",
          "text": "\nEarly stopping occurred at epoch 27 with best_epoch = 25 and best_val_0_accuracy = 0.62776\n",
          "output_type": "stream"
        },
        {
          "name": "stderr",
          "text": "/usr/local/lib/python3.11/dist-packages/pytorch_tabnet/callbacks.py:172: UserWarning: Best weights from best epoch are automatically used!\n  warnings.warn(wrn_msg)\n",
          "output_type": "stream"
        },
        {
          "name": "stdout",
          "text": "\nEarly stopping occurred at epoch 29 with best_epoch = 27 and best_val_0_accuracy = 0.65544\n",
          "output_type": "stream"
        },
        {
          "name": "stderr",
          "text": "/usr/local/lib/python3.11/dist-packages/pytorch_tabnet/callbacks.py:172: UserWarning: Best weights from best epoch are automatically used!\n  warnings.warn(wrn_msg)\n",
          "output_type": "stream"
        },
        {
          "name": "stdout",
          "text": "\nEarly stopping occurred at epoch 19 with best_epoch = 17 and best_val_0_accuracy = 0.62851\n",
          "output_type": "stream"
        },
        {
          "name": "stderr",
          "text": "/usr/local/lib/python3.11/dist-packages/pytorch_tabnet/callbacks.py:172: UserWarning: Best weights from best epoch are automatically used!\n  warnings.warn(wrn_msg)\n",
          "output_type": "stream"
        },
        {
          "name": "stdout",
          "text": "\nEarly stopping occurred at epoch 25 with best_epoch = 23 and best_val_0_accuracy = 0.6214\n",
          "output_type": "stream"
        },
        {
          "name": "stderr",
          "text": "/usr/local/lib/python3.11/dist-packages/pytorch_tabnet/callbacks.py:172: UserWarning: Best weights from best epoch are automatically used!\n  warnings.warn(wrn_msg)\n[I 2025-10-05 12:11:42,308] Trial 22 finished with value: 0.6285072951739619 and parameters: {'optimizer_fn': 'adam', 'n_d': 16, 'n_a': 24, 'n_steps': 3, 'gamma': 1.0, 'lambda_sparse': 0.00048780781624655287, 'lr': 0.0007791639718404806, 'momentum': 0.09636971585777249}. Best is trial 21 with value: 0.6385334829779274.\n",
          "output_type": "stream"
        },
        {
          "name": "stdout",
          "text": "\nEarly stopping occurred at epoch 22 with best_epoch = 20 and best_val_0_accuracy = 0.63262\n",
          "output_type": "stream"
        },
        {
          "name": "stderr",
          "text": "/usr/local/lib/python3.11/dist-packages/pytorch_tabnet/callbacks.py:172: UserWarning: Best weights from best epoch are automatically used!\n  warnings.warn(wrn_msg)\n",
          "output_type": "stream"
        },
        {
          "name": "stdout",
          "text": "\nEarly stopping occurred at epoch 27 with best_epoch = 25 and best_val_0_accuracy = 0.64759\n",
          "output_type": "stream"
        },
        {
          "name": "stderr",
          "text": "/usr/local/lib/python3.11/dist-packages/pytorch_tabnet/callbacks.py:172: UserWarning: Best weights from best epoch are automatically used!\n  warnings.warn(wrn_msg)\n",
          "output_type": "stream"
        },
        {
          "name": "stdout",
          "text": "\nEarly stopping occurred at epoch 21 with best_epoch = 19 and best_val_0_accuracy = 0.66554\n",
          "output_type": "stream"
        },
        {
          "name": "stderr",
          "text": "/usr/local/lib/python3.11/dist-packages/pytorch_tabnet/callbacks.py:172: UserWarning: Best weights from best epoch are automatically used!\n  warnings.warn(wrn_msg)\n",
          "output_type": "stream"
        },
        {
          "name": "stdout",
          "text": "\nEarly stopping occurred at epoch 21 with best_epoch = 19 and best_val_0_accuracy = 0.63449\n",
          "output_type": "stream"
        },
        {
          "name": "stderr",
          "text": "/usr/local/lib/python3.11/dist-packages/pytorch_tabnet/callbacks.py:172: UserWarning: Best weights from best epoch are automatically used!\n  warnings.warn(wrn_msg)\n",
          "output_type": "stream"
        },
        {
          "name": "stdout",
          "text": "\nEarly stopping occurred at epoch 23 with best_epoch = 21 and best_val_0_accuracy = 0.6401\n",
          "output_type": "stream"
        },
        {
          "name": "stderr",
          "text": "/usr/local/lib/python3.11/dist-packages/pytorch_tabnet/callbacks.py:172: UserWarning: Best weights from best epoch are automatically used!\n  warnings.warn(wrn_msg)\n[I 2025-10-05 12:12:36,438] Trial 23 finished with value: 0.6440703329592219 and parameters: {'optimizer_fn': 'adam', 'n_d': 8, 'n_a': 32, 'n_steps': 3, 'gamma': 1.1, 'lambda_sparse': 0.00019251047365347084, 'lr': 0.0012922815951897887, 'momentum': 0.23165072255889047}. Best is trial 23 with value: 0.6440703329592219.\n",
          "output_type": "stream"
        },
        {
          "name": "stdout",
          "text": "\nEarly stopping occurred at epoch 28 with best_epoch = 26 and best_val_0_accuracy = 0.61504\n",
          "output_type": "stream"
        },
        {
          "name": "stderr",
          "text": "/usr/local/lib/python3.11/dist-packages/pytorch_tabnet/callbacks.py:172: UserWarning: Best weights from best epoch are automatically used!\n  warnings.warn(wrn_msg)\n",
          "output_type": "stream"
        },
        {
          "name": "stdout",
          "text": "\nEarly stopping occurred at epoch 22 with best_epoch = 20 and best_val_0_accuracy = 0.6098\n",
          "output_type": "stream"
        },
        {
          "name": "stderr",
          "text": "/usr/local/lib/python3.11/dist-packages/pytorch_tabnet/callbacks.py:172: UserWarning: Best weights from best epoch are automatically used!\n  warnings.warn(wrn_msg)\n",
          "output_type": "stream"
        },
        {
          "name": "stdout",
          "text": "\nEarly stopping occurred at epoch 20 with best_epoch = 18 and best_val_0_accuracy = 0.61279\n",
          "output_type": "stream"
        },
        {
          "name": "stderr",
          "text": "/usr/local/lib/python3.11/dist-packages/pytorch_tabnet/callbacks.py:172: UserWarning: Best weights from best epoch are automatically used!\n  warnings.warn(wrn_msg)\n",
          "output_type": "stream"
        },
        {
          "name": "stdout",
          "text": "\nEarly stopping occurred at epoch 14 with best_epoch = 12 and best_val_0_accuracy = 0.58997\n",
          "output_type": "stream"
        },
        {
          "name": "stderr",
          "text": "/usr/local/lib/python3.11/dist-packages/pytorch_tabnet/callbacks.py:172: UserWarning: Best weights from best epoch are automatically used!\n  warnings.warn(wrn_msg)\n",
          "output_type": "stream"
        },
        {
          "name": "stdout",
          "text": "\nEarly stopping occurred at epoch 19 with best_epoch = 17 and best_val_0_accuracy = 0.578\n",
          "output_type": "stream"
        },
        {
          "name": "stderr",
          "text": "/usr/local/lib/python3.11/dist-packages/pytorch_tabnet/callbacks.py:172: UserWarning: Best weights from best epoch are automatically used!\n  warnings.warn(wrn_msg)\n[I 2025-10-05 12:13:36,304] Trial 24 finished with value: 0.6011223344556679 and parameters: {'optimizer_fn': 'adam', 'n_d': 8, 'n_a': 16, 'n_steps': 4, 'gamma': 1.3, 'lambda_sparse': 5.122084095820457e-05, 'lr': 0.0013079162658483725, 'momentum': 0.22501582893095703}. Best is trial 23 with value: 0.6440703329592219.\n",
          "output_type": "stream"
        },
        {
          "name": "stdout",
          "text": "\nEarly stopping occurred at epoch 14 with best_epoch = 12 and best_val_0_accuracy = 0.57426\n",
          "output_type": "stream"
        },
        {
          "name": "stderr",
          "text": "/usr/local/lib/python3.11/dist-packages/pytorch_tabnet/callbacks.py:172: UserWarning: Best weights from best epoch are automatically used!\n  warnings.warn(wrn_msg)\n",
          "output_type": "stream"
        },
        {
          "name": "stdout",
          "text": "\nEarly stopping occurred at epoch 10 with best_epoch = 8 and best_val_0_accuracy = 0.55256\n",
          "output_type": "stream"
        },
        {
          "name": "stderr",
          "text": "/usr/local/lib/python3.11/dist-packages/pytorch_tabnet/callbacks.py:172: UserWarning: Best weights from best epoch are automatically used!\n  warnings.warn(wrn_msg)\n",
          "output_type": "stream"
        },
        {
          "name": "stdout",
          "text": "\nEarly stopping occurred at epoch 14 with best_epoch = 12 and best_val_0_accuracy = 0.60793\n",
          "output_type": "stream"
        },
        {
          "name": "stderr",
          "text": "/usr/local/lib/python3.11/dist-packages/pytorch_tabnet/callbacks.py:172: UserWarning: Best weights from best epoch are automatically used!\n  warnings.warn(wrn_msg)\n",
          "output_type": "stream"
        },
        {
          "name": "stdout",
          "text": "\nEarly stopping occurred at epoch 18 with best_epoch = 16 and best_val_0_accuracy = 0.58997\n",
          "output_type": "stream"
        },
        {
          "name": "stderr",
          "text": "/usr/local/lib/python3.11/dist-packages/pytorch_tabnet/callbacks.py:172: UserWarning: Best weights from best epoch are automatically used!\n  warnings.warn(wrn_msg)\n",
          "output_type": "stream"
        },
        {
          "name": "stdout",
          "text": "\nEarly stopping occurred at epoch 2 with best_epoch = 0 and best_val_0_accuracy = 0.39357\n",
          "output_type": "stream"
        },
        {
          "name": "stderr",
          "text": "/usr/local/lib/python3.11/dist-packages/pytorch_tabnet/callbacks.py:172: UserWarning: Best weights from best epoch are automatically used!\n  warnings.warn(wrn_msg)\n[I 2025-10-05 12:14:18,218] Trial 25 finished with value: 0.543658810325477 and parameters: {'optimizer_fn': 'adam', 'n_d': 8, 'n_a': 8, 'n_steps': 5, 'gamma': 1.5, 'lambda_sparse': 0.00014475483562947792, 'lr': 0.002890661380551856, 'momentum': 0.2338268535893418}. Best is trial 23 with value: 0.6440703329592219.\n",
          "output_type": "stream"
        },
        {
          "name": "stdout",
          "text": "\nEarly stopping occurred at epoch 13 with best_epoch = 11 and best_val_0_accuracy = 0.64422\n",
          "output_type": "stream"
        },
        {
          "name": "stderr",
          "text": "/usr/local/lib/python3.11/dist-packages/pytorch_tabnet/callbacks.py:172: UserWarning: Best weights from best epoch are automatically used!\n  warnings.warn(wrn_msg)\n",
          "output_type": "stream"
        },
        {
          "name": "stdout",
          "text": "\nEarly stopping occurred at epoch 9 with best_epoch = 7 and best_val_0_accuracy = 0.61354\n",
          "output_type": "stream"
        },
        {
          "name": "stderr",
          "text": "/usr/local/lib/python3.11/dist-packages/pytorch_tabnet/callbacks.py:172: UserWarning: Best weights from best epoch are automatically used!\n  warnings.warn(wrn_msg)\n",
          "output_type": "stream"
        },
        {
          "name": "stdout",
          "text": "\nEarly stopping occurred at epoch 18 with best_epoch = 16 and best_val_0_accuracy = 0.68051\n",
          "output_type": "stream"
        },
        {
          "name": "stderr",
          "text": "/usr/local/lib/python3.11/dist-packages/pytorch_tabnet/callbacks.py:172: UserWarning: Best weights from best epoch are automatically used!\n  warnings.warn(wrn_msg)\n",
          "output_type": "stream"
        },
        {
          "name": "stdout",
          "text": "\nEarly stopping occurred at epoch 14 with best_epoch = 12 and best_val_0_accuracy = 0.66779\n",
          "output_type": "stream"
        },
        {
          "name": "stderr",
          "text": "/usr/local/lib/python3.11/dist-packages/pytorch_tabnet/callbacks.py:172: UserWarning: Best weights from best epoch are automatically used!\n  warnings.warn(wrn_msg)\n",
          "output_type": "stream"
        },
        {
          "name": "stdout",
          "text": "\nEarly stopping occurred at epoch 7 with best_epoch = 5 and best_val_0_accuracy = 0.61242\n",
          "output_type": "stream"
        },
        {
          "name": "stderr",
          "text": "/usr/local/lib/python3.11/dist-packages/pytorch_tabnet/callbacks.py:172: UserWarning: Best weights from best epoch are automatically used!\n  warnings.warn(wrn_msg)\n[I 2025-10-05 12:14:48,928] Trial 26 finished with value: 0.6436962214739992 and parameters: {'optimizer_fn': 'adamw', 'n_d': 16, 'n_a': 24, 'n_steps': 3, 'gamma': 1.2, 'lambda_sparse': 4.36071857887773e-06, 'lr': 0.0074855649650339235, 'momentum': 0.2927371272606285}. Best is trial 23 with value: 0.6440703329592219.\n",
          "output_type": "stream"
        },
        {
          "name": "stdout",
          "text": "\nEarly stopping occurred at epoch 10 with best_epoch = 8 and best_val_0_accuracy = 0.63636\n",
          "output_type": "stream"
        },
        {
          "name": "stderr",
          "text": "/usr/local/lib/python3.11/dist-packages/pytorch_tabnet/callbacks.py:172: UserWarning: Best weights from best epoch are automatically used!\n  warnings.warn(wrn_msg)\n",
          "output_type": "stream"
        },
        {
          "name": "stdout",
          "text": "\nEarly stopping occurred at epoch 2 with best_epoch = 0 and best_val_0_accuracy = 0.55668\n",
          "output_type": "stream"
        },
        {
          "name": "stderr",
          "text": "/usr/local/lib/python3.11/dist-packages/pytorch_tabnet/callbacks.py:172: UserWarning: Best weights from best epoch are automatically used!\n  warnings.warn(wrn_msg)\n",
          "output_type": "stream"
        },
        {
          "name": "stdout",
          "text": "\nEarly stopping occurred at epoch 11 with best_epoch = 9 and best_val_0_accuracy = 0.65619\n",
          "output_type": "stream"
        },
        {
          "name": "stderr",
          "text": "/usr/local/lib/python3.11/dist-packages/pytorch_tabnet/callbacks.py:172: UserWarning: Best weights from best epoch are automatically used!\n  warnings.warn(wrn_msg)\n",
          "output_type": "stream"
        },
        {
          "name": "stdout",
          "text": "\nEarly stopping occurred at epoch 4 with best_epoch = 2 and best_val_0_accuracy = 0.59035\n",
          "output_type": "stream"
        },
        {
          "name": "stderr",
          "text": "/usr/local/lib/python3.11/dist-packages/pytorch_tabnet/callbacks.py:172: UserWarning: Best weights from best epoch are automatically used!\n  warnings.warn(wrn_msg)\n",
          "output_type": "stream"
        },
        {
          "name": "stdout",
          "text": "\nEarly stopping occurred at epoch 7 with best_epoch = 5 and best_val_0_accuracy = 0.61392\n",
          "output_type": "stream"
        },
        {
          "name": "stderr",
          "text": "/usr/local/lib/python3.11/dist-packages/pytorch_tabnet/callbacks.py:172: UserWarning: Best weights from best epoch are automatically used!\n  warnings.warn(wrn_msg)\n[I 2025-10-05 12:15:11,716] Trial 27 finished with value: 0.6106995884773662 and parameters: {'optimizer_fn': 'adamw', 'n_d': 16, 'n_a': 24, 'n_steps': 4, 'gamma': 1.2, 'lambda_sparse': 4.14045783539195e-06, 'lr': 0.009591466244084667, 'momentum': 0.28781103944929254}. Best is trial 23 with value: 0.6440703329592219.\n",
          "output_type": "stream"
        },
        {
          "name": "stdout",
          "text": "\nEarly stopping occurred at epoch 12 with best_epoch = 10 and best_val_0_accuracy = 0.62589\n",
          "output_type": "stream"
        },
        {
          "name": "stderr",
          "text": "/usr/local/lib/python3.11/dist-packages/pytorch_tabnet/callbacks.py:172: UserWarning: Best weights from best epoch are automatically used!\n  warnings.warn(wrn_msg)\n",
          "output_type": "stream"
        },
        {
          "name": "stdout",
          "text": "\nEarly stopping occurred at epoch 6 with best_epoch = 4 and best_val_0_accuracy = 0.60344\n",
          "output_type": "stream"
        },
        {
          "name": "stderr",
          "text": "/usr/local/lib/python3.11/dist-packages/pytorch_tabnet/callbacks.py:172: UserWarning: Best weights from best epoch are automatically used!\n  warnings.warn(wrn_msg)\n",
          "output_type": "stream"
        },
        {
          "name": "stdout",
          "text": "\nEarly stopping occurred at epoch 14 with best_epoch = 12 and best_val_0_accuracy = 0.65619\n",
          "output_type": "stream"
        },
        {
          "name": "stderr",
          "text": "/usr/local/lib/python3.11/dist-packages/pytorch_tabnet/callbacks.py:172: UserWarning: Best weights from best epoch are automatically used!\n  warnings.warn(wrn_msg)\n",
          "output_type": "stream"
        },
        {
          "name": "stdout",
          "text": "\nEarly stopping occurred at epoch 14 with best_epoch = 12 and best_val_0_accuracy = 0.64422\n",
          "output_type": "stream"
        },
        {
          "name": "stderr",
          "text": "/usr/local/lib/python3.11/dist-packages/pytorch_tabnet/callbacks.py:172: UserWarning: Best weights from best epoch are automatically used!\n  warnings.warn(wrn_msg)\n",
          "output_type": "stream"
        },
        {
          "name": "stdout",
          "text": "\nEarly stopping occurred at epoch 6 with best_epoch = 4 and best_val_0_accuracy = 0.57613\n",
          "output_type": "stream"
        },
        {
          "name": "stderr",
          "text": "/usr/local/lib/python3.11/dist-packages/pytorch_tabnet/callbacks.py:172: UserWarning: Best weights from best epoch are automatically used!\n  warnings.warn(wrn_msg)\n[I 2025-10-05 12:15:38,448] Trial 28 finished with value: 0.6211747100635989 and parameters: {'optimizer_fn': 'adamw', 'n_d': 8, 'n_a': 16, 'n_steps': 3, 'gamma': 1.4, 'lambda_sparse': 1.2592199068117289e-05, 'lr': 0.006182104584962935, 'momentum': 0.17183596322349753}. Best is trial 23 with value: 0.6440703329592219.\n",
          "output_type": "stream"
        },
        {
          "name": "stdout",
          "text": "\nEarly stopping occurred at epoch 15 with best_epoch = 13 and best_val_0_accuracy = 0.58885\n",
          "output_type": "stream"
        },
        {
          "name": "stderr",
          "text": "/usr/local/lib/python3.11/dist-packages/pytorch_tabnet/callbacks.py:172: UserWarning: Best weights from best epoch are automatically used!\n  warnings.warn(wrn_msg)\n",
          "output_type": "stream"
        },
        {
          "name": "stdout",
          "text": "\nEarly stopping occurred at epoch 11 with best_epoch = 9 and best_val_0_accuracy = 0.58399\n",
          "output_type": "stream"
        },
        {
          "name": "stderr",
          "text": "/usr/local/lib/python3.11/dist-packages/pytorch_tabnet/callbacks.py:172: UserWarning: Best weights from best epoch are automatically used!\n  warnings.warn(wrn_msg)\n",
          "output_type": "stream"
        },
        {
          "name": "stdout",
          "text": "\nEarly stopping occurred at epoch 18 with best_epoch = 16 and best_val_0_accuracy = 0.60718\n",
          "output_type": "stream"
        },
        {
          "name": "stderr",
          "text": "/usr/local/lib/python3.11/dist-packages/pytorch_tabnet/callbacks.py:172: UserWarning: Best weights from best epoch are automatically used!\n  warnings.warn(wrn_msg)\n",
          "output_type": "stream"
        },
        {
          "name": "stdout",
          "text": "\nEarly stopping occurred at epoch 21 with best_epoch = 19 and best_val_0_accuracy = 0.63823\n",
          "output_type": "stream"
        },
        {
          "name": "stderr",
          "text": "/usr/local/lib/python3.11/dist-packages/pytorch_tabnet/callbacks.py:172: UserWarning: Best weights from best epoch are automatically used!\n  warnings.warn(wrn_msg)\n",
          "output_type": "stream"
        },
        {
          "name": "stdout",
          "text": "\nEarly stopping occurred at epoch 9 with best_epoch = 7 and best_val_0_accuracy = 0.54733\n",
          "output_type": "stream"
        },
        {
          "name": "stderr",
          "text": "/usr/local/lib/python3.11/dist-packages/pytorch_tabnet/callbacks.py:172: UserWarning: Best weights from best epoch are automatically used!\n  warnings.warn(wrn_msg)\n[I 2025-10-05 12:16:38,942] Trial 29 finished with value: 0.5931163486719042 and parameters: {'optimizer_fn': 'adamw', 'n_d': 8, 'n_a': 8, 'n_steps': 6, 'gamma': 1.4, 'lambda_sparse': 1.9015553305581375e-05, 'lr': 0.004048571244108934, 'momentum': 0.34689168224738837}. Best is trial 23 with value: 0.6440703329592219.\n",
          "output_type": "stream"
        },
        {
          "name": "stdout",
          "text": "Tabnet best params: {'optimizer_fn': 'adam', 'n_d': 8, 'n_a': 32, 'n_steps': 3, 'gamma': 1.1, 'lambda_sparse': 0.00019251047365347084, 'lr': 0.0012922815951897887, 'momentum': 0.23165072255889047}\nTraining until validation scores don't improve for 20 rounds\nEarly stopping, best iteration is:\n[27]\tvalid_0's multi_logloss: 0.65149\n\nEarly stopping occurred at epoch 117 with best_epoch = 97 and best_valid_logloss = 0.70884\n",
          "output_type": "stream"
        },
        {
          "name": "stderr",
          "text": "/usr/local/lib/python3.11/dist-packages/pytorch_tabnet/callbacks.py:172: UserWarning: Best weights from best epoch are automatically used!\n  warnings.warn(wrn_msg)\n",
          "output_type": "stream"
        },
        {
          "name": "stdout",
          "text": "Successfully saved model at artifacts/tabnet/fold_1.zip\nFold 1 complete.\nTraining until validation scores don't improve for 20 rounds\nEarly stopping, best iteration is:\n[38]\tvalid_0's multi_logloss: 0.643541\n\nEarly stopping occurred at epoch 178 with best_epoch = 158 and best_valid_logloss = 0.70446\n",
          "output_type": "stream"
        },
        {
          "name": "stderr",
          "text": "/usr/local/lib/python3.11/dist-packages/pytorch_tabnet/callbacks.py:172: UserWarning: Best weights from best epoch are automatically used!\n  warnings.warn(wrn_msg)\n",
          "output_type": "stream"
        },
        {
          "name": "stdout",
          "text": "Successfully saved model at artifacts/tabnet/fold_2.zip\nFold 2 complete.\nTraining until validation scores don't improve for 20 rounds\nEarly stopping, best iteration is:\n[28]\tvalid_0's multi_logloss: 0.661356\n\nEarly stopping occurred at epoch 98 with best_epoch = 78 and best_valid_logloss = 0.72119\n",
          "output_type": "stream"
        },
        {
          "name": "stderr",
          "text": "/usr/local/lib/python3.11/dist-packages/pytorch_tabnet/callbacks.py:172: UserWarning: Best weights from best epoch are automatically used!\n  warnings.warn(wrn_msg)\n",
          "output_type": "stream"
        },
        {
          "name": "stdout",
          "text": "Successfully saved model at artifacts/tabnet/fold_3.zip\nFold 3 complete.\nTraining until validation scores don't improve for 20 rounds\nEarly stopping, best iteration is:\n[27]\tvalid_0's multi_logloss: 0.683708\n\nEarly stopping occurred at epoch 127 with best_epoch = 107 and best_valid_logloss = 0.74865\n",
          "output_type": "stream"
        },
        {
          "name": "stderr",
          "text": "/usr/local/lib/python3.11/dist-packages/pytorch_tabnet/callbacks.py:172: UserWarning: Best weights from best epoch are automatically used!\n  warnings.warn(wrn_msg)\n",
          "output_type": "stream"
        },
        {
          "name": "stdout",
          "text": "Successfully saved model at artifacts/tabnet/fold_4.zip\nFold 4 complete.\nTraining until validation scores don't improve for 20 rounds\nEarly stopping, best iteration is:\n[27]\tvalid_0's multi_logloss: 0.641152\n\nEarly stopping occurred at epoch 95 with best_epoch = 75 and best_valid_logloss = 0.69029\n",
          "output_type": "stream"
        },
        {
          "name": "stderr",
          "text": "/usr/local/lib/python3.11/dist-packages/pytorch_tabnet/callbacks.py:172: UserWarning: Best weights from best epoch are automatically used!\n  warnings.warn(wrn_msg)\n",
          "output_type": "stream"
        },
        {
          "name": "stdout",
          "text": "Successfully saved model at artifacts/tabnet/fold_5.zip\nFold 5 complete.\nTraining until validation scores don't improve for 20 rounds\nEarly stopping, best iteration is:\n[43]\tvalid_0's multi_logloss: 0.617622\n\nEarly stopping occurred at epoch 175 with best_epoch = 155 and best_valid_logloss = 0.65745\n",
          "output_type": "stream"
        },
        {
          "name": "stderr",
          "text": "/usr/local/lib/python3.11/dist-packages/pytorch_tabnet/callbacks.py:172: UserWarning: Best weights from best epoch are automatically used!\n  warnings.warn(wrn_msg)\n",
          "output_type": "stream"
        },
        {
          "name": "stdout",
          "text": "Successfully saved model at artifacts/tabnet/fold_6.zip\nFold 6 complete.\nTraining until validation scores don't improve for 20 rounds\nEarly stopping, best iteration is:\n[34]\tvalid_0's multi_logloss: 0.630218\n\nEarly stopping occurred at epoch 92 with best_epoch = 72 and best_valid_logloss = 0.6879\n",
          "output_type": "stream"
        },
        {
          "name": "stderr",
          "text": "/usr/local/lib/python3.11/dist-packages/pytorch_tabnet/callbacks.py:172: UserWarning: Best weights from best epoch are automatically used!\n  warnings.warn(wrn_msg)\n",
          "output_type": "stream"
        },
        {
          "name": "stdout",
          "text": "Successfully saved model at artifacts/tabnet/fold_7.zip\nFold 7 complete.\nTraining until validation scores don't improve for 20 rounds\nEarly stopping, best iteration is:\n[42]\tvalid_0's multi_logloss: 0.632979\n\nEarly stopping occurred at epoch 63 with best_epoch = 43 and best_valid_logloss = 0.72911\n",
          "output_type": "stream"
        },
        {
          "name": "stderr",
          "text": "/usr/local/lib/python3.11/dist-packages/pytorch_tabnet/callbacks.py:172: UserWarning: Best weights from best epoch are automatically used!\n  warnings.warn(wrn_msg)\n",
          "output_type": "stream"
        },
        {
          "name": "stdout",
          "text": "Successfully saved model at artifacts/tabnet/fold_8.zip\nFold 8 complete.\nTraining until validation scores don't improve for 20 rounds\nEarly stopping, best iteration is:\n[28]\tvalid_0's multi_logloss: 0.672265\n\nEarly stopping occurred at epoch 132 with best_epoch = 112 and best_valid_logloss = 0.70847\n",
          "output_type": "stream"
        },
        {
          "name": "stderr",
          "text": "/usr/local/lib/python3.11/dist-packages/pytorch_tabnet/callbacks.py:172: UserWarning: Best weights from best epoch are automatically used!\n  warnings.warn(wrn_msg)\n",
          "output_type": "stream"
        },
        {
          "name": "stdout",
          "text": "Successfully saved model at artifacts/tabnet/fold_9.zip\nFold 9 complete.\nTraining until validation scores don't improve for 20 rounds\nEarly stopping, best iteration is:\n[45]\tvalid_0's multi_logloss: 0.656272\nStop training because you reached max_epochs = 200 with best_epoch = 183 and best_valid_logloss = 0.68611\n",
          "output_type": "stream"
        },
        {
          "name": "stderr",
          "text": "/usr/local/lib/python3.11/dist-packages/pytorch_tabnet/callbacks.py:172: UserWarning: Best weights from best epoch are automatically used!\n  warnings.warn(wrn_msg)\n",
          "output_type": "stream"
        },
        {
          "name": "stdout",
          "text": "Successfully saved model at artifacts/tabnet/fold_10.zip\nFold 10 complete.\n",
          "output_type": "stream"
        }
      ],
      "execution_count": null
    },
    {
      "cell_type": "code",
      "source": [
        "# ============================================================================\n",
        "# FINAL VERIFICATION AND VISUALIZATION\n",
        "# ============================================================================\n",
        "\n",
        "import matplotlib.pyplot as plt\n",
        "import seaborn as sns\n",
        "from pathlib import Path\n",
        "\n",
        "print(\"=\"*80)\n",
        "print(\"STACKING ENSEMBLE - FINAL RESULTS\")\n",
        "print(\"=\"*80)\n",
        "\n",
        "# 1. Check if pipeline ran successfully\n",
        "if 'pipeline_results' not in globals():\n",
        "    print(\"\\n ERROR: pipeline_results not found. The training may not have completed.\")\n",
        "    print(\"Please run the previous cell again.\")\n",
        "else:\n",
        "    print(\"\\n✓ Pipeline completed successfully!\\n\")\n",
        "\n",
        "    # 2. Display Meta Model Performance\n",
        "    print(\"-\"*80)\n",
        "    print(\"META MODEL PERFORMANCE\")\n",
        "    print(\"-\"*80)\n",
        "    print(f\"Train Accuracy: {pipeline_results['meta_train_accuracy']:.4f}\")\n",
        "    print(f\"Test Accuracy:  {pipeline_results['meta_test_accuracy']:.4f}\")\n",
        "    print(f\"\\nClassification Report:\\n{pipeline_results['classification_report']}\")\n",
        "\n",
        "    # 3. Display Base Model Performance\n",
        "    print(\"\\n\" + \"-\"*80)\n",
        "    print(\"BASE MODEL CROSS-VALIDATION PERFORMANCE\")\n",
        "    print(\"-\"*80)\n",
        "    for model_name, metrics in pipeline_results['fold_metrics'].items():\n",
        "        print(f\"{model_name.upper():12s}: {metrics['mean_accuracy']:.4f} ± {metrics['std_accuracy']:.4f}\")\n",
        "\n",
        "    # 4. Verify saved artifacts\n",
        "    print(\"\\n\" + \"-\"*80)\n",
        "    print(\"SAVED ARTIFACTS\")\n",
        "    print(\"-\"*80)\n",
        "    artifact_root = Path(\"artifacts\")\n",
        "\n",
        "    files_to_check = [\n",
        "        artifact_root / \"best_params.json\",\n",
        "        artifact_root / \"meta_model.joblib\",\n",
        "        artifact_root / \"meta_model_test_predictions.csv\",\n",
        "        artifact_root / \"meta_features_train.npy\",\n",
        "        artifact_root / \"meta_features_test.npy\",\n",
        "        artifact_root / \"meta_test_proba.npy\",\n",
        "    ]\n",
        "\n",
        "    for file_path in files_to_check:\n",
        "        if file_path.exists():\n",
        "            print(f\"✓ {file_path}\")\n",
        "        else:\n",
        "            print(f\"✗ {file_path} - NOT FOUND\")\n",
        "\n",
        "    # Check model folders\n",
        "    for model_type in ['catboost', 'lightgbm', 'xgboost', 'tabnet']:\n",
        "        model_dir = artifact_root / model_type\n",
        "        if model_dir.exists():\n",
        "            num_models = len(list(model_dir.glob('fold_*')))\n",
        "            print(f\"✓ {model_type:12s}: {num_models} fold models\")\n",
        "        else:\n",
        "            print(f\"✗ {model_type:12s}: directory not found\")\n",
        "\n",
        "    # 5. Visualizations\n",
        "    print(\"\\n\" + \"=\"*80)\n",
        "    print(\"GENERATING VISUALIZATIONS\")\n",
        "    print(\"=\"*80)\n",
        "\n",
        "    fig, axes = plt.subplots(2, 2, figsize=(15, 12))\n",
        "\n",
        "    # Plot 1: Base Model Accuracy Comparison\n",
        "    ax1 = axes[0, 0]\n",
        "    models = list(pipeline_results['fold_metrics'].keys())\n",
        "    means = [pipeline_results['fold_metrics'][m]['mean_accuracy'] for m in models]\n",
        "    stds = [pipeline_results['fold_metrics'][m]['std_accuracy'] for m in models]\n",
        "\n",
        "    ax1.bar(models, means, yerr=stds, capsize=5, alpha=0.7, color=['#1f77b4', '#ff7f0e', '#2ca02c', '#d62728'])\n",
        "    ax1.axhline(y=pipeline_results['meta_test_accuracy'], color='red', linestyle='--',\n",
        "                label=f\"Meta Model: {pipeline_results['meta_test_accuracy']:.4f}\")\n",
        "    ax1.set_ylabel('Accuracy')\n",
        "    ax1.set_title('Base Model vs Meta Model Performance')\n",
        "    ax1.legend()\n",
        "    ax1.grid(axis='y', alpha=0.3)\n",
        "\n",
        "    # Plot 2: Confusion Matrix\n",
        "    ax2 = axes[0, 1]\n",
        "    predictions_df = pd.read_csv(artifact_root / \"meta_model_test_predictions.csv\")\n",
        "    from sklearn.metrics import confusion_matrix\n",
        "    cm = confusion_matrix(predictions_df['y_true'], predictions_df['y_pred'])\n",
        "    sns.heatmap(cm, annot=True, fmt='d', cmap='Blues', ax=ax2)\n",
        "    ax2.set_title('Meta Model Confusion Matrix')\n",
        "    ax2.set_ylabel('True Label')\n",
        "    ax2.set_xlabel('Predicted Label')\n",
        "\n",
        "    # Plot 3: Prediction Distribution\n",
        "    ax3 = axes[1, 0]\n",
        "    predictions_df['y_true'].value_counts().sort_index().plot(kind='bar', ax=ax3, alpha=0.7, label='True')\n",
        "    predictions_df['y_pred'].value_counts().sort_index().plot(kind='bar', ax=ax3, alpha=0.7, label='Predicted')\n",
        "    ax3.set_title('Class Distribution: True vs Predicted')\n",
        "    ax3.set_xlabel('Class')\n",
        "    ax3.set_ylabel('Count')\n",
        "    ax3.legend()\n",
        "\n",
        "    # Plot 4: Model Accuracy Distribution\n",
        "    ax4 = axes[1, 1]\n",
        "    all_accuracies = []\n",
        "    model_labels = []\n",
        "    for model_name in models:\n",
        "        # This is a simplification - you'd need actual fold-wise accuracies\n",
        "        mean_acc = pipeline_results['fold_metrics'][model_name]['mean_accuracy']\n",
        "        std_acc = pipeline_results['fold_metrics'][model_name]['std_accuracy']\n",
        "        all_accuracies.append(mean_acc)\n",
        "        model_labels.append(model_name)\n",
        "\n",
        "    all_accuracies.append(pipeline_results['meta_test_accuracy'])\n",
        "    model_labels.append('Meta Model')\n",
        "\n",
        "    colors = ['#1f77b4', '#ff7f0e', '#2ca02c', '#d62728', '#9467bd']\n",
        "    ax4.barh(model_labels, all_accuracies, color=colors, alpha=0.7)\n",
        "    ax4.set_xlabel('Accuracy')\n",
        "    ax4.set_title('Model Comparison (Horizontal)')\n",
        "    ax4.set_xlim(0, 1)\n",
        "\n",
        "    plt.tight_layout()\n",
        "    plt.savefig(artifact_root / 'model_performance_summary.png', dpi=150, bbox_inches='tight')\n",
        "    plt.show()\n",
        "\n",
        "    print(f\"\\n✓ Visualizations saved to {artifact_root / 'model_performance_summary.png'}\")\n",
        "\n",
        "    # 6. Summary Statistics\n",
        "    print(\"\\n\" + \"=\"*80)\n",
        "    print(\"SUMMARY\")\n",
        "    print(\"=\"*80)\n",
        "\n",
        "    best_base_model = max(pipeline_results['fold_metrics'].items(),\n",
        "                          key=lambda x: x[1]['mean_accuracy'])\n",
        "\n",
        "    print(f\"\\nBest Base Model: {best_base_model[0].upper()}\")\n",
        "    print(f\"  Accuracy: {best_base_model[1]['mean_accuracy']:.4f} ± {best_base_model[1]['std_accuracy']:.4f}\")\n",
        "\n",
        "    improvement = pipeline_results['meta_test_accuracy'] - best_base_model[1]['mean_accuracy']\n",
        "    print(f\"\\nMeta Model Improvement: {improvement:+.4f} ({improvement*100:+.2f}%)\")\n",
        "\n",
        "    if improvement > 0:\n",
        "        print(\"Stacking ensemble improved performance!\")\n",
        "    else:\n",
        "        print(\"Stacking ensemble did not improve over best base model.\")\n",
        "\n",
        "    print(\"\\n\" + \"=\"*80)\n",
        "    print(\"All results have been saved to the 'artifacts' directory.\")\n",
        "    print(\"=\"*80)"
      ],
      "metadata": {
        "trusted": true,
        "execution": {
          "iopub.status.busy": "2025-10-05T12:34:43.725226Z",
          "iopub.execute_input": "2025-10-05T12:34:43.725727Z",
          "iopub.status.idle": "2025-10-05T12:34:45.350949Z",
          "shell.execute_reply.started": "2025-10-05T12:34:43.725702Z",
          "shell.execute_reply": "2025-10-05T12:34:45.350228Z"
        },
        "id": "PpdERLf8boeF",
        "outputId": "06809ee0-979c-4fe6-8063-730af85cbb4e"
      },
      "outputs": [
        {
          "name": "stdout",
          "text": "================================================================================\nSTACKING ENSEMBLE - FINAL RESULTS\n================================================================================\n\n✓ Pipeline completed successfully!\n\n--------------------------------------------------------------------------------\nMETA MODEL PERFORMANCE\n--------------------------------------------------------------------------------\nTrain Accuracy: 0.7279\nTest Accuracy:  0.7373\n\nClassification Report:\n              precision    recall  f1-score   support\n\n           0     0.6596    0.7335    0.6946       803\n           1     0.7275    0.7095    0.7184      1332\n           2     0.8087    0.7705    0.7891      1207\n\n    accuracy                         0.7373      3342\n   macro avg     0.7319    0.7378    0.7340      3342\nweighted avg     0.7405    0.7373    0.7382      3342\n\n\n--------------------------------------------------------------------------------\nBASE MODEL CROSS-VALIDATION PERFORMANCE\n--------------------------------------------------------------------------------\nCATBOOST    : 0.7171 ± 0.0117\nLIGHTGBM    : 0.7214 ± 0.0099\nXGBOOST     : 0.7253 ± 0.0123\nTABNET      : 0.6917 ± 0.0148\n\n--------------------------------------------------------------------------------\nSAVED ARTIFACTS\n--------------------------------------------------------------------------------\n✓ artifacts/best_params.json\n✓ artifacts/meta_model.joblib\n✓ artifacts/meta_model_test_predictions.csv\n✓ artifacts/meta_features_train.npy\n✓ artifacts/meta_features_test.npy\n✓ artifacts/meta_test_proba.npy\n✓ catboost    : 10 fold models\n✓ lightgbm    : 10 fold models\n✓ xgboost     : 10 fold models\n✓ tabnet      : 10 fold models\n\n================================================================================\nGENERATING VISUALIZATIONS\n================================================================================\n",
          "output_type": "stream"
        },
        {
          "output_type": "display_data",
          "data": {
            "text/plain": "<Figure size 1500x1200 with 5 Axes>",
            "image/png": "[encoded data removed]"
          },
          "metadata": {}
        },
        {
          "name": "stdout",
          "text": "\n✓ Visualizations saved to artifacts/model_performance_summary.png\n\n================================================================================\nSUMMARY\n================================================================================\n\nBest Base Model: XGBOOST\n  Accuracy: 0.7253 ± 0.0123\n\nMeta Model Improvement: +0.0120 (+1.20%)\n✓ Stacking ensemble improved performance!\n\n================================================================================\nAll results have been saved to the 'artifacts' directory.\n================================================================================\n",
          "output_type": "stream"
        }
      ],
      "execution_count": null
    },
    {
      "cell_type": "code",
      "source": [
        "import shutil\n",
        "\n",
        "shutil.make_archive('artifacts', 'zip', '/kaggle/working/artifacts')\n",
        "\n",
        "from IPython.display import FileLink\n",
        "FileLink(r'artifacts.zip')"
      ],
      "metadata": {
        "trusted": true,
        "execution": {
          "iopub.status.busy": "2025-10-05T12:50:29.886068Z",
          "iopub.execute_input": "2025-10-05T12:50:29.886346Z",
          "iopub.status.idle": "2025-10-05T12:50:38.111015Z",
          "shell.execute_reply.started": "2025-10-05T12:50:29.886328Z",
          "shell.execute_reply": "2025-10-05T12:50:38.110402Z"
        },
        "id": "V1Z0qj-OboeG",
        "outputId": "572a8b27-be98-4379-d9d9-813e5530a02c"
      },
      "outputs": [
        {
          "execution_count": 20,
          "output_type": "execute_result",
          "data": {
            "text/plain": "/kaggle/working/artifacts.zip",
            "text/html": "<a href='artifacts.zip' target='_blank'>artifacts.zip</a><br>"
          },
          "metadata": {}
        }
      ],
      "execution_count": null
    }
  ]
}